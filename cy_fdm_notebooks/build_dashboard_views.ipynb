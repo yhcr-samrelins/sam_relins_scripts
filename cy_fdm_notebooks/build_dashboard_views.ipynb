{
 "cells": [
  {
   "cell_type": "code",
   "execution_count": 6,
   "id": "325407cb-2d10-49a7-9091-aac9e32ae3bd",
   "metadata": {},
   "outputs": [],
   "source": [
    "import pandas as pd\n",
    "import re\n",
    "from google.cloud import bigquery\n",
    "from FDMBuilder.FDM_helpers import *"
   ]
  },
  {
   "cell_type": "code",
   "execution_count": 7,
   "id": "8d6bb52b-cfd8-4a89-92d5-a7b2d81124cb",
   "metadata": {},
   "outputs": [],
   "source": [
    "def create_dashboard_view(dataset_id):\n",
    "    age = \"FLOOR(DATE_DIFF(obs.observation_period_end_date, demo.DOB_formatted, DAY) / 365.25)\"\n",
    "    age_binned = f\"\"\"\n",
    "        CASE\n",
    "            WHEN {age} <= 10 THEN \" 0-10\"\n",
    "            WHEN {age} > 10 AND {age} <= 20 THEN \" 10-20\"\n",
    "            WHEN {age} > 20 AND {age} <= 30 THEN \" 20-30\"\n",
    "            WHEN {age} > 30 AND {age} <= 40 THEN \" 30-40\"\n",
    "            WHEN {age} > 40 AND {age} <= 50 THEN \" 40-50\"\n",
    "            WHEN {age} > 50 AND {age} <= 60 THEN \" 50-60\"\n",
    "            WHEN {age} > 60 AND {age} <= 70 THEN \" 60-70\"\n",
    "            WHEN {age} > 70 AND {age} <= 80 THEN \" 70-80\"\n",
    "            WHEN {age} > 80 AND {age} <= 90 THEN \" 80-90\"\n",
    "            WHEN {age} > 90 AND {age} <= 100 THEN \" 90-100\"\n",
    "            WHEN {age} > 100 THEN \"100 +\"\n",
    "        END AS age_binned\n",
    "    \"\"\"\n",
    "    age += \" AS age\"\n",
    "    \n",
    "    ethnic_group_regex = \"REGEXP_EXTRACT(demo.census_ethnicity, r'^(.+?):')\"\n",
    "    ethnic_group = f\"\"\"\n",
    "        CASE\n",
    "            WHEN {ethnic_group_regex} IS NOT NULL THEN {ethnic_group_regex}\n",
    "            ELSE \"Unknown\"\n",
    "        END AS ethnic_group\n",
    "    \"\"\"\n",
    "    ethnic_subgroup_regex = \"REGEXP_EXTRACT(demo.census_ethnicity, r':(.+?)-')\" \n",
    "    ethnic_subgroup = f\"\"\"\n",
    "        CASE\n",
    "            WHEN {ethnic_subgroup_regex} IS NOT NULL THEN {ethnic_subgroup_regex}\n",
    "            ELSE \"Other\"\n",
    "        END AS ethnic_subgroup\n",
    "    \"\"\"\n",
    "    \n",
    "    sex = \"\"\"\n",
    "        CASE\n",
    "            WHEN demo.remapped_gender = 45766034 THEN \"Male\"\n",
    "            WHEN demo.remapped_gender = 45766035 THEN \"Female\"\n",
    "            ELSE \"Unknown\"\n",
    "        END AS sex\n",
    "    \"\"\"\n",
    "    \n",
    "    person_table = f\"{PROJECT}.{dataset_id}.person\"\n",
    "    demographics_table = f\"{PROJECT}.CY_STAGING_DATABASE.src_DemoGraphics_MASTER\"\n",
    "    obs_period_table = f\"{PROJECT}.{dataset_id}.observation_period\"\n",
    "    \n",
    "    person_data_view_sql = f\"\"\"\n",
    "        CREATE VIEW `{PROJECT}.CY_DASHBOARD_VIEWS.{dataset_id}_person_data_view` AS\n",
    "        SELECT {age}, {age_binned}, {ethnic_group}, {ethnic_subgroup}, {sex}, \n",
    "            demo.LSOA as LSOA_code, lsoas.lat_long, lsoas.LSOA_name\n",
    "        FROM `{obs_period_table}` obs\n",
    "        LEFT OUTER JOIN `{demographics_table}` demo\n",
    "        ON obs.person_id = demo.person_id\n",
    "        LEFT OUTER JOIN `{PROJECT}.CY_LOOKUPS.tbl_lsoa_boundaries` lsoas\n",
    "        ON lsoas.LSOA_code = demo.LSOA\n",
    "    \"\"\"\n",
    "    run_sql_query(person_data_view_sql)\n",
    "    return None"
   ]
  },
  {
   "cell_type": "code",
   "execution_count": 8,
   "id": "943d6d8a-1f4d-42f0-9ebb-f6ba2c56c63c",
   "metadata": {},
   "outputs": [],
   "source": [
    "create_dashboard_view(\"CY_FDM_BDCT\")"
   ]
  },
  {
   "cell_type": "code",
   "execution_count": 6,
   "id": "eff63239-79c9-4767-be8b-490da4144619",
   "metadata": {},
   "outputs": [],
   "source": [
    "def create_geography_views(dataset_id):\n",
    "    person_table = f\"{PROJECT}.{dataset_id}.person\"\n",
    "    demographics_table = f\"{PROJECT}.CY_STAGING_DATABASE.src_DemoGraphics_MASTER\"\n",
    "    lsoa_view_sql = f\"\"\"\n",
    "        CREATE VIEW `{PROJECT}.CY_DASHBOARD_VIEWS.{dataset_id}_lsoa_view` AS\n",
    "        WITH lsoa_counts AS (\n",
    "            SELECT demo.LSOA, COUNT(*) AS n  \n",
    "            FROM `{demographics_table}` demo\n",
    "            WHERE EXISTS(\n",
    "                SELECT person_id FROM `{person_table}` person\n",
    "                WHERE person.person_id = demo.person_id\n",
    "            )\n",
    "            GROUP BY LSOA\n",
    "        )\n",
    "        SELECT lsoa_counts.*, bound.LSOA_name, bound.geometry, bound.lat_long\n",
    "        FROM lsoa_counts\n",
    "        LEFT OUTER JOIN `yhcr-prd-phm-bia-core.CY_LOOKUPS.tbl_lsoa_boundaries` bound\n",
    "        ON bound.LSOA_code = lsoa_counts.LSOA\n",
    "    \"\"\"\n",
    "    run_sql_query(lsoa_view_sql)\n",
    "    lsoa_to_msoa_table = f\"{PROJECT}.CY_LOOKUPS.tbl_lsoa_to_msoa\"\n",
    "    msoa_view_sql = f\"\"\"\n",
    "        CREATE VIEW `{PROJECT}.CY_DASHBOARD_VIEWS.{dataset_id}_msoa_view` AS\n",
    "        WITH msoa_counts AS (\n",
    "            SELECT ls_to_ms.MSOA_code, COUNT(*) AS n\n",
    "            FROM `{demographics_table}` demo\n",
    "            LEFT OUTER JOIN `{lsoa_to_msoa_table}` ls_to_ms\n",
    "            ON demo.LSOA = ls_to_ms.LSOA_code\n",
    "            WHERE EXISTS(\n",
    "                SELECT person_id FROM `{person_table}` person\n",
    "                WHERE person.person_id = demo.person_id\n",
    "            )\n",
    "            GROUP BY ls_to_ms.MSOA_code\n",
    "        )\n",
    "        SELECT msoa_counts.*, bound.MSOA_name, bound.geometry, bound.lat_long\n",
    "        FROM msoa_counts\n",
    "        LEFT OUTER JOIN `yhcr-prd-phm-bia-core.CY_LOOKUPS.tbl_msoa_boundaries` bound\n",
    "        ON bound.MSOA_code = msoa_counts.MSOA_code\n",
    "    \"\"\"\n",
    "    run_sql_query(msoa_view_sql)"
   ]
  },
  {
   "cell_type": "code",
   "execution_count": 7,
   "id": "5eb8dbf0-0098-4a40-affc-aaedd41680bf",
   "metadata": {},
   "outputs": [],
   "source": [
    "create_geography_views(\"CY_FDM_ChildrensSocialCare\")"
   ]
  },
  {
   "cell_type": "code",
   "execution_count": null,
   "id": "df144e81-9be4-4523-a00f-98416ca39ddd",
   "metadata": {},
   "outputs": [],
   "source": []
  }
 ],
 "metadata": {
  "environment": {
   "kernel": "conda-env-FDMEnv-py",
   "name": "r-cpu.4-1.m90",
   "type": "gcloud",
   "uri": "gcr.io/deeplearning-platform-release/r-cpu.4-1:m90"
  },
  "kernelspec": {
   "display_name": "Python [conda env:FDMEnv]",
   "language": "python",
   "name": "conda-env-FDMEnv-py"
  },
  "language_info": {
   "codemirror_mode": {
    "name": "ipython",
    "version": 3
   },
   "file_extension": ".py",
   "mimetype": "text/x-python",
   "name": "python",
   "nbconvert_exporter": "python",
   "pygments_lexer": "ipython3",
   "version": "3.10.5"
  }
 },
 "nbformat": 4,
 "nbformat_minor": 5
}
