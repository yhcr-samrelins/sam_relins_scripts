{
 "cells": [
  {
   "cell_type": "code",
   "execution_count": 1,
   "id": "d6ee14d3-2f57-475c-9a5e-f0ee877be5a9",
   "metadata": {},
   "outputs": [],
   "source": [
    "import pandas as pd"
   ]
  },
  {
   "cell_type": "code",
   "execution_count": 2,
   "id": "576d3aa9-3dc0-43fb-9cfa-982f9bebe83f",
   "metadata": {},
   "outputs": [],
   "source": [
    "date = \"2021-01-01\"\n",
    "data = pd.read_gbq(f\"\"\"\n",
    "SELECT person_id, src_registrationstatus\n",
    "FROM `yhcr-prd-phm-bia-core.CB_FDM_PrimaryCare_v4.tbl_SRPatientRegistration`\n",
    "WHERE src_dateregistration <= '2022-01-01'\n",
    "AND (src_datederegistration IS NULL OR src_datederegistration > '{date}')\n",
    "\"\"\")"
   ]
  },
  {
   "cell_type": "code",
   "execution_count": 3,
   "id": "aad4a555-50a6-4dcc-9461-d5dcdea8400d",
   "metadata": {},
   "outputs": [
    {
     "data": {
      "text/html": [
       "<div>\n",
       "<style scoped>\n",
       "    .dataframe tbody tr th:only-of-type {\n",
       "        vertical-align: middle;\n",
       "    }\n",
       "\n",
       "    .dataframe tbody tr th {\n",
       "        vertical-align: top;\n",
       "    }\n",
       "\n",
       "    .dataframe thead th {\n",
       "        text-align: right;\n",
       "    }\n",
       "</style>\n",
       "<table border=\"1\" class=\"dataframe\">\n",
       "  <thead>\n",
       "    <tr style=\"text-align: right;\">\n",
       "      <th></th>\n",
       "      <th>person_id</th>\n",
       "      <th>src_registrationstatus</th>\n",
       "    </tr>\n",
       "  </thead>\n",
       "  <tbody>\n",
       "    <tr>\n",
       "      <th>0</th>\n",
       "      <td>13145109</td>\n",
       "      <td>Private</td>\n",
       "    </tr>\n",
       "    <tr>\n",
       "      <th>1</th>\n",
       "      <td>12435643</td>\n",
       "      <td>Temporary Resident &lt; 16 days</td>\n",
       "    </tr>\n",
       "    <tr>\n",
       "      <th>2</th>\n",
       "      <td>12625605</td>\n",
       "      <td>Temporary - Cohort Management</td>\n",
       "    </tr>\n",
       "    <tr>\n",
       "      <th>3</th>\n",
       "      <td>12532473</td>\n",
       "      <td>GMSContraception</td>\n",
       "    </tr>\n",
       "    <tr>\n",
       "      <th>4</th>\n",
       "      <td>13385121</td>\n",
       "      <td>Private</td>\n",
       "    </tr>\n",
       "    <tr>\n",
       "      <th>...</th>\n",
       "      <td>...</td>\n",
       "      <td>...</td>\n",
       "    </tr>\n",
       "    <tr>\n",
       "      <th>4063386</th>\n",
       "      <td>13129118</td>\n",
       "      <td>Temporary Resident 16 days to 3 months</td>\n",
       "    </tr>\n",
       "    <tr>\n",
       "      <th>4063387</th>\n",
       "      <td>634627</td>\n",
       "      <td>Temporary Resident 16 days to 3 months</td>\n",
       "    </tr>\n",
       "    <tr>\n",
       "      <th>4063388</th>\n",
       "      <td>12770126</td>\n",
       "      <td>Temporary Resident 16 days to 3 months</td>\n",
       "    </tr>\n",
       "    <tr>\n",
       "      <th>4063389</th>\n",
       "      <td>10421581</td>\n",
       "      <td>Temporary Resident 16 days to 3 months</td>\n",
       "    </tr>\n",
       "    <tr>\n",
       "      <th>4063390</th>\n",
       "      <td>12804269</td>\n",
       "      <td>Temporary Resident 16 days to 3 months</td>\n",
       "    </tr>\n",
       "  </tbody>\n",
       "</table>\n",
       "<p>4063391 rows × 2 columns</p>\n",
       "</div>"
      ],
      "text/plain": [
       "         person_id                  src_registrationstatus\n",
       "0         13145109                                 Private\n",
       "1         12435643            Temporary Resident < 16 days\n",
       "2         12625605           Temporary - Cohort Management\n",
       "3         12532473                        GMSContraception\n",
       "4         13385121                                 Private\n",
       "...            ...                                     ...\n",
       "4063386   13129118  Temporary Resident 16 days to 3 months\n",
       "4063387     634627  Temporary Resident 16 days to 3 months\n",
       "4063388   12770126  Temporary Resident 16 days to 3 months\n",
       "4063389   10421581  Temporary Resident 16 days to 3 months\n",
       "4063390   12804269  Temporary Resident 16 days to 3 months\n",
       "\n",
       "[4063391 rows x 2 columns]"
      ]
     },
     "execution_count": 3,
     "metadata": {},
     "output_type": "execute_result"
    }
   ],
   "source": [
    "data"
   ]
  },
  {
   "cell_type": "code",
   "execution_count": 7,
   "id": "a8952122-e6c5-49f0-a412-6ff6c5489730",
   "metadata": {},
   "outputs": [
    {
     "data": {
      "text/plain": [
       "GMS                                                                                    1112739\n",
       "OtherRemotely Registered                                                                230429\n",
       "Other                                                                                   114332\n",
       "Applied                                                                                  67711\n",
       "Remotely Registered                                                                      61734\n",
       "Temporary Resident 16 days to 3 months                                                   44007\n",
       "Patient                                                                                  31836\n",
       "Private                                                                                  19279\n",
       "Temporary - Cohort Management                                                            16402\n",
       "GMSChild Health Surveillance                                                             10684\n",
       "Temporary Resident < 16 days                                                              9837\n",
       "GMSContraception                                                                          3563\n",
       "GMSMinor Surgery                                                                          3176\n",
       "Incomplete                                                                                2679\n",
       "GMSContraceptionMaternity                                                                 2437\n",
       "Walk-in Patient                                                                           1789\n",
       "GMSMaternity                                                                              1745\n",
       "Immediately Necessary Treatment                                                           1397\n",
       "Other,Remotely Registered                                                                 1181\n",
       "GMSRemotely Registered                                                                     728\n",
       "Minor Surgery                                                                              491\n",
       "OtherTemporary - Cohort Management                                                         490\n",
       "Referred In                                                                                319\n",
       "GMSContraceptionMinor Surgery                                                              305\n",
       "AppliedRemotely Registered                                                                 280\n",
       "ContraceptionPrivate                                                                       240\n",
       "AppliedChild Health Surveillance                                                           222\n",
       "GMSContraceptionMaternityMinor Surgery                                                     152\n",
       "Contraception                                                                              151\n",
       "GMSOther                                                                                   131\n",
       "Minor SurgeryOther                                                                         106\n",
       "PrivateOther                                                                                99\n",
       "GMSTemporary - Cohort Management                                                            78\n",
       "GMSMaternityMinor Surgery                                                                   68\n",
       "Immediately Necessary TreatmentRemotely Registered                                          52\n",
       "IncompleteRemotely Registered                                                               46\n",
       "PrivateRemotely Registered                                                                  45\n",
       "GMS,Child Health Surveillance                                                               44\n",
       "GMSChild Health SurveillanceMinor Surgery                                                   36\n",
       "ContraceptionOther                                                                          28\n",
       "GMS,Minor Surgery                                                                           25\n",
       "AppliedTemporary - Cohort Management                                                        23\n",
       "GMS,Contraception                                                                           20\n",
       "GMSStandard                                                                                 20\n",
       "GMSContraceptionMinor SurgeryOther                                                          17\n",
       "Carer                                                                                       16\n",
       "Standard                                                                                    15\n",
       "CarerPatient                                                                                15\n",
       "AppliedOther                                                                                14\n",
       "Temporary Resident < 16 daysImmediately Necessary TreatmentOtherRemotely Registered         13\n",
       "Name: src_registrationstatus, dtype: int64"
      ]
     },
     "execution_count": 7,
     "metadata": {},
     "output_type": "execute_result"
    }
   ],
   "source": [
    "data.src_registrationstatus.value_counts()[:50]"
   ]
  },
  {
   "cell_type": "code",
   "execution_count": 9,
   "id": "33561e46-0393-42c7-b59d-64d328123428",
   "metadata": {},
   "outputs": [
    {
     "name": "stdout",
     "output_type": "stream",
     "text": [
      "GMS\n",
      "GMSChild Health Surveillance\n",
      "GMSContraception\n",
      "GMSMinor Surgery\n",
      "GMSContraceptionMaternity\n",
      "GMSMaternity\n",
      "GMSRemotely Registered\n",
      "GMSContraceptionMinor Surgery\n",
      "GMSContraceptionMaternityMinor Surgery\n",
      "GMSOther\n",
      "GMSTemporary - Cohort Management\n",
      "GMSMaternityMinor Surgery\n",
      "GMS,Child Health Surveillance\n",
      "GMSChild Health SurveillanceMinor Surgery\n",
      "GMS,Minor Surgery\n",
      "GMS,Contraception\n",
      "GMSStandard\n",
      "GMSContraceptionMinor SurgeryOther\n",
      "GMSMinor SurgeryOther\n",
      "GMS,Maternity\n",
      "GMSContraceptionMaternityMinor SurgeryOther\n",
      "GMS,Contraception,Maternity\n",
      "GMSChild Health SurveillanceMinor SurgeryOther\n",
      "GMS,Contraception,Maternity,Minor Surgery\n",
      "GMS,Other\n",
      "GMSMaternityMinor SurgeryOther\n",
      "GMS,Child Health Surveillance,Minor Surgery\n",
      "GMSContraceptionMaternityOther\n"
     ]
    }
   ],
   "source": [
    "for reg in data.src_registrationstatus.value_counts().index:\n",
    "    if \"gms\" in reg.lower():\n",
    "        print(reg)"
   ]
  },
  {
   "cell_type": "code",
   "execution_count": null,
   "id": "188e7db4-a846-4cd8-ac1a-4fe479e17d1e",
   "metadata": {},
   "outputs": [],
   "source": []
  }
 ],
 "metadata": {
  "environment": {
   "kernel": "conda-env-FDMEnv-py",
   "name": "r-cpu.4-1.m90",
   "type": "gcloud",
   "uri": "gcr.io/deeplearning-platform-release/r-cpu.4-1:m90"
  },
  "kernelspec": {
   "display_name": "Python [conda env:FDMEnv]",
   "language": "python",
   "name": "conda-env-FDMEnv-py"
  },
  "language_info": {
   "codemirror_mode": {
    "name": "ipython",
    "version": 3
   },
   "file_extension": ".py",
   "mimetype": "text/x-python",
   "name": "python",
   "nbconvert_exporter": "python",
   "pygments_lexer": "ipython3",
   "version": "3.10.5"
  }
 },
 "nbformat": 4,
 "nbformat_minor": 5
}
