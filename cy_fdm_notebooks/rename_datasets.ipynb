{
 "cells": [
  {
   "cell_type": "code",
   "execution_count": 1,
   "id": "4b089185-d9ef-4630-8685-880f0518f262",
   "metadata": {},
   "outputs": [],
   "source": [
    "from FDMBuilder.FDMTable import *\n",
    "from FDMBuilder.FDMDataset import *\n",
    "from FDMBuilder.testing_helpers import *\n",
    "from google.cloud.bigquery.enums import EntityTypes"
   ]
  },
  {
   "cell_type": "code",
   "execution_count": 2,
   "id": "3577a20d-cc85-43d3-83ba-4c6448e0e414",
   "metadata": {},
   "outputs": [],
   "source": [
    "def copy_dataset(dataset_id, new_dataset_name):\n",
    "    old_dataset = CLIENT.get_dataset(dataset_id)\n",
    "    entries = list(old_dataset.access_entries)\n",
    "    new_dataset = bigquery.Dataset(f\"{PROJECT}.{new_dataset_name}\")\n",
    "    new_dataset.location = \"europe-west2\"\n",
    "    new_dataset.access_entries = entries\n",
    "    new_dataset = CLIENT.create_dataset(new_dataset, timeout=30)               \n",
    "    for table in CLIENT.list_tables(dataset_id):\n",
    "        job = CLIENT.copy_table(f\"{PROJECT}.{dataset_id}.{table.table_id}\",\n",
    "                                f\"{PROJECT}.{new_dataset_name}.{table.table_id}\")"
   ]
  },
  {
   "cell_type": "code",
   "execution_count": 35,
   "id": "b5559b43-1817-4b98-927e-c92874cc2ce0",
   "metadata": {},
   "outputs": [],
   "source": [
    "copy_dataset(\"CY_CLASS_ACT\", \"CB_CLASS_ACT\")"
   ]
  },
  {
   "cell_type": "code",
   "execution_count": 4,
   "id": "9bf15451-cecc-4899-be09-17f9159b96ed",
   "metadata": {},
   "outputs": [
    {
     "name": "stdout",
     "output_type": "stream",
     "text": [
      "Not renaming CB_1242\n",
      "Not renaming CB_Achilles_Heel\n",
      "Not renaming CB_CLASS_ACT\n",
      "Not renaming CB_Demographics\n",
      "Not renaming CB_FDM_Airedale_SUS\n",
      "Not renaming CB_FDM_Calderdale_SUS\n",
      "Not renaming CB_FDM_MASTER\n",
      "Not renaming CB_FDM_NCMP\n",
      "Not renaming CB_FDM_PrimaryCare_V7\n",
      "Not renaming CB_FDM_SUS_BRI\n",
      "Not renaming CB_FDM_TEST_JDB\n",
      "Not renaming CB_FDM_Template\n",
      "Not renaming CB_FDM_Warehouse_ALL\n",
      "Not renaming CB_LOOKUPS\n",
      "Not renaming CB_MYSPACE_AH\n",
      "Not renaming CB_MYSPACE_JDB\n",
      "Not renaming CB_MYSPACE_KB\n",
      "Not renaming CB_MYSPACE_TM\n",
      "Not renaming CB_SAM_TEST\n",
      "Not renaming CB_STAGING_DATABASE\n",
      "Not renaming CB_STAGING_DATABASE_DFE_Education\n",
      "Not renaming CB_STAGING_DATABASE_NonIdentifiable\n",
      "Not renaming CB_STAGING_DATABASE_PrimaryCare\n",
      "Not renaming CB_STAGING_DATABASE_SUS_Airedale_FDM_Format\n",
      "Not renaming CB_STAGING_DATABASE_SUS_Calderdale_FDM_Format\n",
      "Not renaming CB_STAGING_DATABASE_WAREHOUSE_FDM_Format\n",
      "Cant rename CY_CDM_Analysis -> CB_CDM_Analysis\n",
      "Cant rename CY_CLASS_ACT -> CB_CLASS_ACT\n",
      "Cant rename CY_FDM_MASTER -> CB_FDM_MASTER\n",
      "Cant rename CY_FDM_SUS_BRI -> CB_FDM_SUS_BRI\n",
      "Cant rename CY_LOOKUPS -> CB_LOOKUPS\n",
      "Cant rename CY_SAM_TEST -> CB_SAM_TEST\n",
      "Cant rename CY_STAGING_DATABASE -> CB_STAGING_DATABASE\n",
      "Not renaming MY_SPACE_TEST_AK\n",
      "Not renaming MY_SPACE_TEST_RS\n",
      "Not renaming Macmillan_analysis_uk\n",
      "Not renaming Macmillan_uk\n",
      "Not renaming Rotherham\n",
      "Not renaming SAS_Model_uk\n",
      "Not renaming SAS_model_analysis_uk\n",
      "Not renaming Synthetic_academy_data_uk\n",
      "Not renaming yhcr_prd_phm_bia_core_bq_audit\n"
     ]
    }
   ],
   "source": [
    "not_renamed = []\n",
    "for dataset in CLIENT.list_datasets():\n",
    "    if dataset.dataset_id[:2] == \"CY\":\n",
    "        old_dataset_id = dataset.dataset_id\n",
    "        new_dataset_id = \"CB\" + dataset.dataset_id[2:]\n",
    "    else:\n",
    "        not_renamed.append(dataset.dataset_id)\n",
    "        print(f\"Not renaming {dataset.dataset_id}\")\n",
    "        continue\n",
    "    try:\n",
    "        copy_dataset(old_dataset_id, new_dataset_id)\n",
    "    except:\n",
    "        not_renamed.append(dataset.dataset_id)\n",
    "        print(f\"Cant rename {old_dataset_id} -> {new_dataset_id}\")"
   ]
  },
  {
   "cell_type": "code",
   "execution_count": null,
   "id": "17f67afe-c52a-4805-b586-a01d9da71665",
   "metadata": {},
   "outputs": [],
   "source": [
    "for dataset in CLIENT.list_datasets():\n",
    "    if dataset.dataset_id[:2] == \"XX\":\n",
    "        CLIENT.delete_dataset(dataset.dataset_id, delete_contents=True)"
   ]
  }
 ],
 "metadata": {
  "environment": {
   "kernel": "conda-env-FDMEnv-py",
   "name": "r-cpu.4-1.m90",
   "type": "gcloud",
   "uri": "gcr.io/deeplearning-platform-release/r-cpu.4-1:m90"
  },
  "kernelspec": {
   "display_name": "Python [conda env:FDMEnv]",
   "language": "python",
   "name": "conda-env-FDMEnv-py"
  },
  "language_info": {
   "codemirror_mode": {
    "name": "ipython",
    "version": 3
   },
   "file_extension": ".py",
   "mimetype": "text/x-python",
   "name": "python",
   "nbconvert_exporter": "python",
   "pygments_lexer": "ipython3",
   "version": "3.10.5"
  }
 },
 "nbformat": 4,
 "nbformat_minor": 5
}
