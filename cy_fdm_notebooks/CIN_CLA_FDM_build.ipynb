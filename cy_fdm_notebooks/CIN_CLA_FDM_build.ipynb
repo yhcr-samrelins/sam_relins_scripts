{
 "cells": [
  {
   "cell_type": "code",
   "execution_count": null,
   "id": "bd05ff8b-93d6-4b52-96b7-762c6c876c41",
   "metadata": {},
   "outputs": [],
   "source": [
    "from FDMBuilder.FDMTable import *\n",
    "from FDMBuilder.FDMDataset import *\n",
    "from FDMBuilder.testing_helpers import *"
   ]
  },
  {
   "cell_type": "markdown",
   "id": "aa658c25-d340-40f3-b6bf-7b90b912a267",
   "metadata": {},
   "source": [
    "# Build Children in Need FDM"
   ]
  },
  {
   "cell_type": "code",
   "execution_count": null,
   "id": "edf41e19-94d4-49ef-9868-aecc6f65d71a",
   "metadata": {},
   "outputs": [],
   "source": [
    "cin_dataset_id = \"CY_FDM_ChildrenInNeed\"\n",
    "cin_src_table_id = \"CY_MYSPACE_SR.ChildrenInNeed_2009-2019\"\n",
    "\n",
    "cin_fdm_table = FDMTable(\n",
    "    source_table_id = cin_src_table_id,\n",
    "    dataset_id = cin_dataset_id\n",
    ")\n",
    "\n",
    "cin_fdm_table.copy_table_to_dataset()\n",
    "cin_fdm_table.get_column_names()"
   ]
  },
  {
   "cell_type": "code",
   "execution_count": null,
   "id": "26cdad33-58a6-4c17-bac9-e6c8fd786b91",
   "metadata": {},
   "outputs": [],
   "source": [
    "cin_fdm_table.quick_build(\n",
    "    fdm_start_date_cols = \"ReferralDate\",\n",
    "    fdm_start_date_format = \"YMD\"\n",
    ")"
   ]
  },
  {
   "cell_type": "code",
   "execution_count": null,
   "id": "709388c0-ed24-440a-9311-429f63ab5370",
   "metadata": {},
   "outputs": [],
   "source": [
    "cin_dataset = FDMDataset(\n",
    "    dataset_id = cin_dataset_id\n",
    ")"
   ]
  },
  {
   "cell_type": "code",
   "execution_count": null,
   "id": "4aebdf54-1ab9-44d6-ba65-90f263078e69",
   "metadata": {},
   "outputs": [],
   "source": [
    "cin_dataset.build(includes_pre_natal=True)"
   ]
  },
  {
   "cell_type": "markdown",
   "id": "be550cb0-8d30-49ff-b308-f9ac7cc59fdf",
   "metadata": {},
   "source": [
    "# Build Children Looked After FDM"
   ]
  },
  {
   "cell_type": "code",
   "execution_count": null,
   "id": "cfdcfd6c-dc8a-4820-b1cf-e5941b7f2e9c",
   "metadata": {},
   "outputs": [],
   "source": [
    "cla_dataset_id = \"CY_FDM_LookedAfterChildren\"\n",
    "cla_src_table_id = \"CY_MYSPACE_SR.ChildrenLookedAfter_2006-2019\"\n",
    "\n",
    "cla_table = FDMTable(\n",
    "    source_table_id = cla_src_table_id,\n",
    "    dataset_id = cla_dataset_id\n",
    ")\n",
    "\n",
    "cla_table.copy_table_to_dataset()\n",
    "cla_table.get_column_names()"
   ]
  },
  {
   "cell_type": "markdown",
   "id": "19480832-670f-4862-93f4-56f808d6ed2e",
   "metadata": {},
   "source": [
    "For some reason, CLA data has been uploaded with the majority of data stored as lists with single items - not terribly helpful. The following script takes all the affected columns and takes the data out of the lists using `OFFSET(0)`:"
   ]
  },
  {
   "cell_type": "code",
   "execution_count": null,
   "id": "3f401071-a90e-43ac-8d86-894b6212e5dc",
   "metadata": {},
   "outputs": [],
   "source": [
    "non_list_cols = [\"EDRN\", \"PlacementLA\", \"PlacementLocation\", \"OC3\", \n",
    "                 \"ReasonPlaceChange\"]\n",
    "for col in cla_table.get_column_names():\n",
    "    if col in non_list_cols:\n",
    "        continue\n",
    "    cla_table.add_column(f\"{col}[OFFSET(0)] AS {col}_new\")\n",
    "    cla_table.drop_column(col)\n",
    "    cla_table.rename_columns({f\"{col}_new\": col})"
   ]
  },
  {
   "cell_type": "code",
   "execution_count": null,
   "id": "a08957f2-1c1b-4fde-9a98-6081f3fe5f08",
   "metadata": {},
   "outputs": [],
   "source": [
    "cla_table.quick_build(\n",
    "    fdm_start_date_cols=\"StartDateEPI\",\n",
    "    fdm_start_date_format=\"YMD\",\n",
    "    fdm_end_date_cols=\"EndDateEPI\",\n",
    "    fdm_end_date_format=\"YMD\",\n",
    ")"
   ]
  },
  {
   "cell_type": "code",
   "execution_count": null,
   "id": "0e22314c-a5fc-40de-85d4-1687ab2e1553",
   "metadata": {},
   "outputs": [],
   "source": [
    "cla_dataset = FDMDataset(\n",
    "    dataset_id = cla_dataset_id\n",
    ")\n",
    "cla_dataset.build()"
   ]
  }
 ],
 "metadata": {
  "environment": {
   "kernel": "python3",
   "name": "r-cpu.4-1.m90",
   "type": "gcloud",
   "uri": "gcr.io/deeplearning-platform-release/r-cpu.4-1:m90"
  },
  "kernelspec": {
   "display_name": "Python 3",
   "language": "python",
   "name": "python3"
  },
  "language_info": {
   "codemirror_mode": {
    "name": "ipython",
    "version": 3
   },
   "file_extension": ".py",
   "mimetype": "text/x-python",
   "name": "python",
   "nbconvert_exporter": "python",
   "pygments_lexer": "ipython3",
   "version": "3.7.12"
  }
 },
 "nbformat": 4,
 "nbformat_minor": 5
}
