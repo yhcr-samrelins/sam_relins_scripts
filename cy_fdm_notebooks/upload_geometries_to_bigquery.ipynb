{
 "cells": [
  {
   "cell_type": "code",
   "execution_count": 23,
   "id": "57fa5bcc-439b-48f0-8382-7c2ea6ee15ad",
   "metadata": {},
   "outputs": [],
   "source": [
    "import geopandas\n",
    "import pandas as pd\n",
    "from google.cloud.bigquery import Client\n",
    "import subprocess\n",
    "import os"
   ]
  },
  {
   "cell_type": "code",
   "execution_count": 21,
   "id": "9933745b-6bed-4089-ba31-1e2a10ce4810",
   "metadata": {},
   "outputs": [],
   "source": [
    "def upload_geo_to_gbq(geo_zip_dir_name, gbq_loc):\n",
    "    print(\"=\" * 80)\n",
    "    print(\"Unzipping geo data:\\n\")\n",
    "    subprocess.run([\"unzip\", \"-d\", geo_zip_dir_name, geo_zip_dir_name + \".zip\"])\n",
    "    gdf = geopandas.read_file(geo_zip_dir_name)\n",
    "    print(\"\\nConverting geometries to GCP format\")\n",
    "    gdf = gdf.to_crs(epsg=4326)\n",
    "    gdf[\"geometry\"] = gdf.geometry.astype(\"string\")\n",
    "    print(\"\\nUploading geo data to GBQ\")\n",
    "    gdf.to_gbq(gbq_loc + \"_tmp\")\n",
    "    sql = f\"\"\"\n",
    "        CREATE TABLE `{gbq_loc}` AS\n",
    "        SELECT * EXCEPT(geometry), \n",
    "            st_geogfromtext(geometry, make_valid => TRUE) as geometry, \n",
    "            SAFE.st_geogfromtext(geometry) IS NULL AS geom_needed_fix\n",
    "        FROM `{gbq_loc}_tmp`\n",
    "    \"\"\"\n",
    "    client = Client()\n",
    "    print(\"\\nConverting geometry to GEOGRAPHY type\")\n",
    "    client.query(sql).result()\n",
    "    client.delete_table(gbq_loc + \"_tmp\")\n",
    "    print(\"\\nDONE!!\")"
   ]
  },
  {
   "cell_type": "code",
   "execution_count": 24,
   "id": "f41a8b09-e7b6-4d59-ae7c-fd759977433f",
   "metadata": {},
   "outputs": [
    {
     "name": "stdout",
     "output_type": "stream",
     "text": [
      "================================================================================\n",
      "Unzipping geo data:\n",
      "\n",
      "Archive:  Wards_(December_2019)_Boundaries_EW_BFC.zip\n",
      "  inflating: Wards_(December_2019)_Boundaries_EW_BFC/Wards_(December_2019)_Boundaries_EW_BFC.shp  \n",
      "  inflating: Wards_(December_2019)_Boundaries_EW_BFC/Wards_(December_2019)_Boundaries_EW_BFC.shx  \n",
      "  inflating: Wards_(December_2019)_Boundaries_EW_BFC/Wards_(December_2019)_Boundaries_EW_BFC.dbf  \n",
      " extracting: Wards_(December_2019)_Boundaries_EW_BFC/Wards_(December_2019)_Boundaries_EW_BFC.cpg  \n",
      "  inflating: Wards_(December_2019)_Boundaries_EW_BFC/Wards_(December_2019)_Boundaries_EW_BFC.prj  \n",
      "  inflating: Wards_(December_2019)_Boundaries_EW_BFC/Wards_(December_2019)_Boundaries_EW_BFC.xml  \n"
     ]
    },
    {
     "name": "stderr",
     "output_type": "stream",
     "text": [
      "/opt/conda/envs/profileEnv/lib/python3.10/site-packages/geopandas/geodataframe.py:1442: UserWarning: Geometry column does not contain geometry.\n",
      "  warnings.warn(\"Geometry column does not contain geometry.\")\n"
     ]
    },
    {
     "name": "stdout",
     "output_type": "stream",
     "text": [
      "Uploading geo data to GBQ\n",
      "Converting geometry to GEOGRAPHY type\n"
     ]
    }
   ],
   "source": [
    "geo_zip_dir_name = \"Wards_(December_2019)_Boundaries_EW_BFC\"\n",
    "gbq_loc = \"yhcr-prd-phm-bia-core.CY_MYSPACE_SR.geog_test\"\n",
    "\n",
    "upload_geo_to_gbq(geo_zip_dir_name, gbq_loc)"
   ]
  },
  {
   "cell_type": "code",
   "execution_count": null,
   "id": "356d0bc6-b1d7-482b-8d42-d641255bf696",
   "metadata": {},
   "outputs": [],
   "source": []
  }
 ],
 "metadata": {
  "environment": {
   "kernel": "conda-env-profileEnv-py",
   "name": "r-cpu.4-1.m90",
   "type": "gcloud",
   "uri": "gcr.io/deeplearning-platform-release/r-cpu.4-1:m90"
  },
  "kernelspec": {
   "display_name": "Python [conda env:profileEnv]",
   "language": "python",
   "name": "conda-env-profileEnv-py"
  },
  "language_info": {
   "codemirror_mode": {
    "name": "ipython",
    "version": 3
   },
   "file_extension": ".py",
   "mimetype": "text/x-python",
   "name": "python",
   "nbconvert_exporter": "python",
   "pygments_lexer": "ipython3",
   "version": "3.10.6"
  }
 },
 "nbformat": 4,
 "nbformat_minor": 5
}
