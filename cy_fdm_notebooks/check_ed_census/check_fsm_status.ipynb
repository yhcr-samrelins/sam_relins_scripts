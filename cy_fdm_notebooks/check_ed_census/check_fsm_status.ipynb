{
 "cells": [
  {
   "cell_type": "code",
   "execution_count": 1,
   "id": "61dd85c3-77a2-4086-8114-1dde5c9edbc0",
   "metadata": {},
   "outputs": [],
   "source": [
    "from google.cloud import bigquery\n",
    "import numpy as np\n",
    "import pandas as pd"
   ]
  },
  {
   "cell_type": "code",
   "execution_count": 27,
   "id": "821ac672-bf7c-4720-8068-ef1a33b37601",
   "metadata": {},
   "outputs": [],
   "source": [
    "non_standard_sen = [\"AP_Census_2008_2020\",  \n",
    "                    \"Spring_Census_2011_Disability\",  \n",
    "                    \"Spring_Census_2012_Disability\",\n",
    "                    \"PRU_Census_2010_to_2013\"]\n",
    "def return_table_variables(database_name, filter=False, skip_tables=non_standard_sen):\n",
    "    client = bigquery.Client()\n",
    "    dataset_ref = client.dataset(database_name)\n",
    "    tables = client.list_tables(dataset_ref)\n",
    "    table_variables = {}\n",
    "    for table in tables:\n",
    "        if filter and filter not in table.table_id.lower():\n",
    "            continue\n",
    "        if skip_tables and  table.table_id in skip_tables:\n",
    "            continue\n",
    "        table_variables[table.table_id] = []\n",
    "        schema = client.get_table(table).schema\n",
    "        for field in schema:\n",
    "            table_variables[table.table_id].append(field.name)\n",
    "    return table_variables\n",
    "            \n",
    "            \n",
    "table_variables = return_table_variables(\"CB_RAW_CENSUS\")"
   ]
  },
  {
   "cell_type": "code",
   "execution_count": null,
   "id": "31217c8a-a323-4e47-9b62-f263c5d860cd",
   "metadata": {},
   "outputs": [],
   "source": [
    "1509 + 3539 + "
   ]
  },
  {
   "cell_type": "code",
   "execution_count": 17,
   "id": "5c3aa6eb-3936-42a2-bab9-bf4c51c0a5f6",
   "metadata": {},
   "outputs": [],
   "source": [
    "all_vars = [variable for table_vars in table_variables.values() for variable in table_vars]"
   ]
  },
  {
   "cell_type": "code",
   "execution_count": 18,
   "id": "8a19f111-dfd0-47ec-8e27-157099b01685",
   "metadata": {},
   "outputs": [
    {
     "data": {
      "text/plain": [
       "[('edrn', 43),\n",
       " ('pupil_matching_ref_anonymous', 43),\n",
       " ('record_status', 43),\n",
       " ('academic_year', 43),\n",
       " ('census_date', 43),\n",
       " ('census_term', 43),\n",
       " ('la', 43),\n",
       " ('estab', 43),\n",
       " ('la_estab', 43),\n",
       " ('urn', 43),\n",
       " ('gender', 43),\n",
       " ('age_at_start_of_academic_year', 43),\n",
       " ('month_part_of_age_at_start_of_academic_year', 43),\n",
       " ('year_of_birth', 43),\n",
       " ('month_of_birth', 43),\n",
       " ('fs_meligible', 43),\n",
       " ('enrol_status', 43),\n",
       " ('entry_date', 43),\n",
       " ('leaving_date', 43),\n",
       " ('part_time', 43),\n",
       " ('boarder', 43),\n",
       " ('n_cyear_actual', 43),\n",
       " ('se_nprovision', 43),\n",
       " ('language', 40),\n",
       " ('type_of_class', 37),\n",
       " ('language_group_minor', 37),\n",
       " ('language_group_major', 37),\n",
       " ('locality', 36),\n",
       " ('town', 36),\n",
       " ('administrative_area', 36),\n",
       " ('on_roll', 34),\n",
       " ('se_nprovision_major', 34),\n",
       " ('hours_at_setting', 31),\n",
       " ('funded_hours', 28),\n",
       " ('la_9_code', 28),\n",
       " ('idaci_score', 27),\n",
       " ('idaci_rank', 27),\n",
       " ('ethnicity', 25),\n",
       " ('yssa', 22),\n",
       " ('oa11', 22),\n",
       " ('lsoa11', 22),\n",
       " ('connexions', 21),\n",
       " ('coa', 19),\n",
       " ('llsoa', 19),\n",
       " ('ethnic_group_minor', 19),\n",
       " ('ethnic_group_major', 19),\n",
       " ('phase', 19),\n",
       " ('top_up_funding', 19),\n",
       " ('sen_unit_indicator', 19),\n",
       " ('resourced_provision_indicator', 19),\n",
       " ('gand_tindicator', 18),\n",
       " ('primary_se_ntype', 17),\n",
       " ('secondary_se_ntype', 17),\n",
       " ('school_lunch_taken', 17),\n",
       " ('service_child', 16),\n",
       " ('ethnicity_source', 15),\n",
       " ('mobility_ind', 15),\n",
       " ('dist_curr_sch', 15),\n",
       " ('dist_near_sch', 15),\n",
       " ('near_sch_la_estab', 15),\n",
       " ('idaci_score_15', 14),\n",
       " ('idaci_rank_15', 14),\n",
       " ('plaa', 11),\n",
       " ('everfsm_3', 11),\n",
       " ('everfsm_6', 11),\n",
       " ('everfsm_all', 11),\n",
       " ('source_table', 9),\n",
       " ('in_care', 8),\n",
       " ('care_authority', 8),\n",
       " ('in_care_at_current_school', 8),\n",
       " ('n_cyear_leaving', 8),\n",
       " ('extended_hours', 8),\n",
       " ('thirty_hour_code', 8),\n",
       " ('daf_indicator', 8),\n",
       " ('unit_contact_time', 7),\n",
       " ('ethnic_group', 6),\n",
       " ('class_type', 6),\n",
       " ('oa01', 6),\n",
       " ('lsoa01', 6),\n",
       " ('adopted_from_care_all_years', 6),\n",
       " ('qual_hrs', 6),\n",
       " ('non_qual_hrs', 6),\n",
       " ('ft_emp', 6),\n",
       " ('mode_of_travel', 6),\n",
       " ('maths_gcse_highest_prior_attainment', 5),\n",
       " ('maths_gcse_prior_attainment_year_group', 5),\n",
       " ('english_gcse_highest_prior_attainment', 5),\n",
       " ('english_gcse_prior_attainment_year_group', 5),\n",
       " ('maths_gcse_funding_exemption', 5),\n",
       " ('english_gcse_funding_exemption', 5),\n",
       " ('eyu_entitlement', 5),\n",
       " ('eye_entitlement', 5),\n",
       " ('sb_entitlement', 5),\n",
       " ('pp_entitlement', 5),\n",
       " ('everfsm_6_p', 5),\n",
       " ('language_group', 4),\n",
       " ('special_provision_indicator', 3),\n",
       " ('idaci_score_10', 3),\n",
       " ('idaci_rank_10', 3),\n",
       " ('service_child_source', 3),\n",
       " ('n_siblings_sga', 3),\n",
       " ('birth_order_sga', 3),\n",
       " ('group_id_sga', 3),\n",
       " ('n_siblings_sgas', 3),\n",
       " ('birth_order_sgas', 3),\n",
       " ('group_id_sgas', 3),\n",
       " ('eyppbf', 3),\n",
       " ('funding_basis_eco', 3),\n",
       " ('funding_basis_hsd', 3),\n",
       " ('funding_basis_laa', 3),\n",
       " ('first_language', 2),\n",
       " ('adopted_from_care_from2005', 2),\n",
       " ('eyp_peligible', 2),\n",
       " ('eyp_preason', 2),\n",
       " ('eyppr', 2),\n",
       " ('qual_hrs_prev', 1),\n",
       " ('non_qual_hrs_prev', 1),\n",
       " ('qual_hrs_previous_year', 1),\n",
       " ('non_qual_hrs_previous_year', 1),\n",
       " ('maths_gcse_highest_prior_attainment_previous_year', 1),\n",
       " ('english_gcse_highest_prior_attainment_previous_year', 1),\n",
       " ('data_collection', 1),\n",
       " ('post_advanced', 1),\n",
       " ('alevel', 1),\n",
       " ('gcse', 1),\n",
       " ('gnvq', 1),\n",
       " ('pre_gnvq', 1),\n",
       " ('nvq', 1),\n",
       " ('other', 1),\n",
       " ('la_lgr', 1),\n",
       " ('eyppe', 1),\n",
       " ('idaci_score_19', 1),\n",
       " ('idaci_rank_19', 1)]"
      ]
     },
     "execution_count": 18,
     "metadata": {},
     "output_type": "execute_result"
    }
   ],
   "source": [
    "from collections import Counter\n",
    "Counter(all_vars).most_common()"
   ]
  },
  {
   "cell_type": "code",
   "execution_count": 46,
   "id": "37cf1ad5-74a4-49ae-ad15-0109c4f4f92b",
   "metadata": {},
   "outputs": [],
   "source": [
    "client = bigquery.Client()\n",
    "dataset_ref = client.dataset(\"CB_RAW_CENSUS\")\n",
    "tables = client.list_tables(dataset_ref)\n",
    "table_variables = {}\n",
    "fsm_df = pd.DataFrame() \n",
    "for table in tables:\n",
    "    if table.table_id in non_standard_sen:\n",
    "        continue\n",
    "    cols = \"edrn, academic_year, census_term, fs_meligible\"\n",
    "    df = pd.read_gbq(f\"SELECT {cols} FROM CB_RAW_CENSUS.{table.table_id}\")\n",
    "    fsm_df = pd.concat([fsm_df, df])"
   ]
  },
  {
   "cell_type": "code",
   "execution_count": 47,
   "id": "56cc45b7-a3e7-4cc3-b781-71d682583021",
   "metadata": {},
   "outputs": [
    {
     "name": "stdout",
     "output_type": "stream",
     "text": [
      "<class 'pandas.core.frame.DataFrame'>\n",
      "Int64Index: 5473880 entries, 0 to 135617\n",
      "Data columns (total 4 columns):\n",
      " #   Column         Dtype \n",
      "---  ------         ----- \n",
      " 0   edrn           object\n",
      " 1   academic_year  object\n",
      " 2   census_term    object\n",
      " 3   fs_meligible   Int64 \n",
      "dtypes: Int64(1), object(3)\n",
      "memory usage: 214.0+ MB\n"
     ]
    }
   ],
   "source": [
    "fsm_df.info()"
   ]
  },
  {
   "cell_type": "code",
   "execution_count": 52,
   "id": "18db2340-9ecd-4338-a347-bf3eceff8c85",
   "metadata": {},
   "outputs": [
    {
     "name": "stderr",
     "output_type": "stream",
     "text": [
      "Query complete after 0.00s: 100%|██████████| 1/1 [00:00<00:00, 683.89query/s] \n",
      "Downloading: 100%|██████████| 5955732/5955732 [00:14<00:00, 412181.10rows/s] \n"
     ]
    }
   ],
   "source": [
    "%%bigquery fdm_census\n",
    "SELECT EDRN, AcademicYear, CensusTerm, FSMEligible \n",
    "FROM `yhcr-prd-phm-bia-core.CB_FDM_DepartmentForEducation.src_census` "
   ]
  },
  {
   "cell_type": "code",
   "execution_count": 53,
   "id": "6f509ab9-4304-4df0-b376-3e34df103a5a",
   "metadata": {},
   "outputs": [
    {
     "name": "stdout",
     "output_type": "stream",
     "text": [
      "<class 'pandas.core.frame.DataFrame'>\n",
      "RangeIndex: 5955732 entries, 0 to 5955731\n",
      "Data columns (total 4 columns):\n",
      " #   Column        Dtype  \n",
      "---  ------        -----  \n",
      " 0   EDRN          object \n",
      " 1   AcademicYear  object \n",
      " 2   CensusTerm    object \n",
      " 3   FSMEligible   boolean\n",
      "dtypes: boolean(1), object(3)\n",
      "memory usage: 147.7+ MB\n"
     ]
    }
   ],
   "source": [
    "fdm_census.info()"
   ]
  },
  {
   "cell_type": "code",
   "execution_count": 54,
   "id": "62f3d86a-95e9-4541-bc32-b53e1fecc04f",
   "metadata": {},
   "outputs": [],
   "source": [
    "fdm_census.rename(columns={\n",
    "    \"EDRN\": \"edrn\",\n",
    "    \"AcademicYear\": \"academic_year\",\n",
    "    \"CensusTerm\": \"census_term\",\n",
    "    \"FSMEligible\": \"fs_meligible_census\"\n",
    "}, inplace=True)"
   ]
  },
  {
   "cell_type": "code",
   "execution_count": 56,
   "id": "849e92bc-66fd-4d8f-9950-87bbca016de4",
   "metadata": {},
   "outputs": [],
   "source": [
    "merged_df = fsm_df.merge(fdm_census, on=[\"edrn\", \"academic_year\", \"census_term\"])"
   ]
  },
  {
   "cell_type": "code",
   "execution_count": 62,
   "id": "d5897b55-592f-4c95-ac4f-33760825819e",
   "metadata": {},
   "outputs": [
    {
     "name": "stdout",
     "output_type": "stream",
     "text": [
      "<class 'pandas.core.frame.DataFrame'>\n",
      "Int64Index: 5477686 entries, 0 to 5477685\n",
      "Data columns (total 5 columns):\n",
      " #   Column               Dtype  \n",
      "---  ------               -----  \n",
      " 0   edrn                 object \n",
      " 1   academic_year        object \n",
      " 2   census_term          object \n",
      " 3   fs_meligible         boolean\n",
      " 4   fs_meligible_census  boolean\n",
      "dtypes: boolean(2), object(3)\n",
      "memory usage: 188.1+ MB\n"
     ]
    }
   ],
   "source": [
    "merged_df.info()"
   ]
  },
  {
   "cell_type": "code",
   "execution_count": 61,
   "id": "57d79a99-ef90-4283-901a-3f5d3a1bcda5",
   "metadata": {},
   "outputs": [],
   "source": [
    "merged_df[\"fs_meligible\"] = merged_df.fs_meligible.astype(\"boolean\")"
   ]
  },
  {
   "cell_type": "code",
   "execution_count": 68,
   "id": "f2c1c6c6-c601-4b4e-ad86-95845f11cee4",
   "metadata": {},
   "outputs": [
    {
     "data": {
      "text/plain": [
       "2     286\n",
       "4      17\n",
       "1      13\n",
       "6       2\n",
       "20      1\n",
       "12      1\n",
       "Name: academic_year, dtype: int64"
      ]
     },
     "execution_count": 68,
     "metadata": {},
     "output_type": "execute_result"
    }
   ],
   "source": [
    "merged_df[merged_df.fs_meligible != merged_df.fs_meligible_census].groupby(\"edrn\").count().academic_year.value_counts()"
   ]
  },
  {
   "cell_type": "code",
   "execution_count": null,
   "id": "77423ae5-7746-4b33-aa95-08e8a14921a1",
   "metadata": {},
   "outputs": [],
   "source": []
  }
 ],
 "metadata": {
  "environment": {
   "kernel": "conda-env-FDMEnv-py",
   "name": "r-cpu.4-1.m90",
   "type": "gcloud",
   "uri": "gcr.io/deeplearning-platform-release/r-cpu.4-1:m90"
  },
  "kernelspec": {
   "display_name": "Python [conda env:FDMEnv]",
   "language": "python",
   "name": "conda-env-FDMEnv-py"
  },
  "language_info": {
   "codemirror_mode": {
    "name": "ipython",
    "version": 3
   },
   "file_extension": ".py",
   "mimetype": "text/x-python",
   "name": "python",
   "nbconvert_exporter": "python",
   "pygments_lexer": "ipython3",
   "version": "3.10.5"
  }
 },
 "nbformat": 4,
 "nbformat_minor": 5
}
