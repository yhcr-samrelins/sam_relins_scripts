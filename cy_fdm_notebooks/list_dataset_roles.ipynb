{
 "cells": [
  {
   "cell_type": "code",
   "execution_count": 1,
   "id": "d6996ed5-dd08-451f-a29f-e8e553fb6643",
   "metadata": {},
   "outputs": [
    {
     "name": "stderr",
     "output_type": "stream",
     "text": [
      "100%|██████████| 1/1 [00:00<00:00, 8224.13it/s]\n"
     ]
    }
   ],
   "source": [
    "from google.cloud import bigquery\n",
    "import pandas as pd\n",
    "\n",
    "client = bigquery.Client()\n",
    "data = {\n",
    "    \"dataset\": [],\n",
    "    \"entity_id\": [],\n",
    "    \"role\": []\n",
    "}\n",
    "for dataset in client.list_datasets():\n",
    "    dataset = client.get_dataset(dataset.dataset_id)\n",
    "    for entry in dataset.access_entries:\n",
    "        if entry.entity_type == \"userByEmail\":\n",
    "            data[\"dataset\"].append(dataset.dataset_id)\n",
    "            data[\"entity_id\"].append(entry.entity_id)\n",
    "            data[\"role\"].append(entry.role)\n",
    "            \n",
    "## Change dataset_id and table_id to adjust location in bigquery for roles table\n",
    "dataset_id = \"CB_SAM_TEST\"\n",
    "table_id = \"gbq_dataset_permissions\"\n",
    "##\n",
    "pd.DataFrame(data).to_gbq(f\"yhcr-prd-phm-bia-core.{dataset_id}.{table_id}\")"
   ]
  },
  {
   "cell_type": "code",
   "execution_count": null,
   "id": "2f3178f4-6191-4eb3-8c4e-f5d346911618",
   "metadata": {},
   "outputs": [],
   "source": []
  }
 ],
 "metadata": {
  "environment": {
   "kernel": "conda-env-FDMEnv-py",
   "name": "r-cpu.4-1.m90",
   "type": "gcloud",
   "uri": "gcr.io/deeplearning-platform-release/r-cpu.4-1:m90"
  },
  "kernelspec": {
   "display_name": "Python [conda env:FDMEnv]",
   "language": "python",
   "name": "conda-env-FDMEnv-py"
  },
  "language_info": {
   "codemirror_mode": {
    "name": "ipython",
    "version": 3
   },
   "file_extension": ".py",
   "mimetype": "text/x-python",
   "name": "python",
   "nbconvert_exporter": "python",
   "pygments_lexer": "ipython3",
   "version": "3.10.5"
  }
 },
 "nbformat": 4,
 "nbformat_minor": 5
}
