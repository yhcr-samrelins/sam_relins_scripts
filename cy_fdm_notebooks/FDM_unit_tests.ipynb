{
 "cells": [
  {
   "cell_type": "code",
   "execution_count": 1,
   "id": "1286e2b5-71de-40ba-9671-4da568b7e3fe",
   "metadata": {},
   "outputs": [],
   "source": [
    "import pandas as pd\n"
   ]
  },
  {
   "cell_type": "code",
   "execution_count": 2,
   "id": "9030afe0-8fd4-42e4-8ea6-237a1fa00e4e",
   "metadata": {},
   "outputs": [],
   "source": [
    "from google.cloud import bigquery\n",
    "\n",
    "client = bigquery.Client()\n",
    "project_id = \"yhcr-prd-phm-bia-core\"\n",
    "\n",
    "def get_duplicate_person_test_sql(dataset_id):\n",
    "    return f\"\"\"\n",
    "    WITH counts AS (\n",
    "        SELECT COUNT(*) AS count, COUNT(DISTINCT person_id) AS person_count\n",
    "        FROM `yhcr-prd-phm-bia-core.{dataset_id}.person`\n",
    "    )\n",
    "    SELECT count = person_count AS person_check\n",
    "    FROM counts\n",
    "    \"\"\""
   ]
  },
  {
   "cell_type": "code",
   "execution_count": null,
   "id": "ef4398a0-a36d-4296-88f1-8820832642d2",
   "metadata": {},
   "outputs": [],
   "source": [
    "for dataset in client.list_datasets():\n",
    "    dataset_id = dataset.dataset_id\n",
    "    if \"FDM\" in dataset_id or \"CDM\" in dataset_id:\n",
    "        print(dataset_id)\n",
    "    try:\n",
    "        table_ids = [table.table_id for table in client.list_tables(dataset.dataset_id)]\n",
    "    except:\n",
    "        table_ids = []\n",
    "    if \"person\" in table_ids and \"observation_period\" in table_ids:\n",
    "        print(dataset_id)\n",
    "    print()"
   ]
  },
  {
   "cell_type": "code",
   "execution_count": null,
   "id": "0493554c-2d9b-4cda-90dd-29d2da5f3b33",
   "metadata": {},
   "outputs": [],
   "source": [
    "%%bigquery result\n",
    "\n",
    "WITH counts AS (\n",
    "    SELECT COUNT(*) AS count, COUNT(DISTINCT person_id) AS person_count\n",
    "    FROM `yhcr-prd-phm-bia-core.CY_FDM_PrimaryCare_v4.person`\n",
    ")\n",
    "SELECT count = person_count AS person_check\n",
    "FROM counts"
   ]
  },
  {
   "cell_type": "code",
   "execution_count": null,
   "id": "4fed6c61-6be9-4fc7-8d19-3bd07a2c8806",
   "metadata": {},
   "outputs": [],
   "source": [
    "result.values[0,0]"
   ]
  },
  {
   "cell_type": "code",
   "execution_count": 7,
   "id": "50a7ae19-2e47-441e-92cc-9680f69b5047",
   "metadata": {},
   "outputs": [
    {
     "name": "stderr",
     "output_type": "stream",
     "text": [
      "Query complete after 0.00s: 100%|██████████| 5/5 [00:00<00:00, 2083.82query/s]                        \n",
      "Downloading: 100%|██████████| 1/1 [00:00<00:00,  1.17rows/s]\n"
     ]
    }
   ],
   "source": [
    "%%bigquery demo\n",
    "WITH counts AS (\n",
    "    SELECT COUNT(*) AS count, COUNT(DISTINCT person_id) AS person_count, COUNT(DISTINCT digest) AS digest_count\n",
    "    FROM `yhcr-prd-phm-bia-core.CY_STAGING_DATABASE.src_DemoGraphics_MASTER`\n",
    ")\n",
    "SELECT count = person_count AS person_check, count = digest_count AS digest_check\n",
    "FROM counts"
   ]
  },
  {
   "cell_type": "code",
   "execution_count": 8,
   "id": "6db22b9e-55fc-4ea4-8713-8dfd8bcfe3db",
   "metadata": {},
   "outputs": [
    {
     "data": {
      "text/html": [
       "<div>\n",
       "<style scoped>\n",
       "    .dataframe tbody tr th:only-of-type {\n",
       "        vertical-align: middle;\n",
       "    }\n",
       "\n",
       "    .dataframe tbody tr th {\n",
       "        vertical-align: top;\n",
       "    }\n",
       "\n",
       "    .dataframe thead th {\n",
       "        text-align: right;\n",
       "    }\n",
       "</style>\n",
       "<table border=\"1\" class=\"dataframe\">\n",
       "  <thead>\n",
       "    <tr style=\"text-align: right;\">\n",
       "      <th></th>\n",
       "      <th>person_check</th>\n",
       "      <th>digest_check</th>\n",
       "    </tr>\n",
       "  </thead>\n",
       "  <tbody>\n",
       "    <tr>\n",
       "      <th>0</th>\n",
       "      <td>True</td>\n",
       "      <td>False</td>\n",
       "    </tr>\n",
       "  </tbody>\n",
       "</table>\n",
       "</div>"
      ],
      "text/plain": [
       "   person_check  digest_check\n",
       "0          True         False"
      ]
     },
     "execution_count": 8,
     "metadata": {},
     "output_type": "execute_result"
    }
   ],
   "source": [
    "demo"
   ]
  },
  {
   "cell_type": "code",
   "execution_count": 1,
   "id": "29040779-02f4-4bfa-aa46-a569cfe9a252",
   "metadata": {},
   "outputs": [
    {
     "name": "stderr",
     "output_type": "stream",
     "text": [
      "Query complete after 0.01s: 100%|██████████| 3/3 [00:00<00:00, 1348.22query/s]                        \n",
      "Downloading: 100%|██████████| 6953750/6953750 [00:08<00:00, 813168.82rows/s] \n"
     ]
    }
   ],
   "source": [
    "%%bigquery demo\n",
    "SELECT * \n",
    "FROM `yhcr-prd-phm-bia-core.CY_STAGING_DATABASE.src_DemoGraphics_MASTER`"
   ]
  },
  {
   "cell_type": "code",
   "execution_count": 13,
   "id": "730de1bf-f29f-42a5-a14d-5c6c48dc867e",
   "metadata": {},
   "outputs": [
    {
     "data": {
      "text/plain": [
       "6953750"
      ]
     },
     "execution_count": 13,
     "metadata": {},
     "output_type": "execute_result"
    }
   ],
   "source": [
    "demo.person_id.nunique()"
   ]
  },
  {
   "cell_type": "code",
   "execution_count": 14,
   "id": "5ca9f897-312d-46fa-9856-ed5e8f56a73a",
   "metadata": {},
   "outputs": [
    {
     "data": {
      "text/plain": [
       "6953749"
      ]
     },
     "execution_count": 14,
     "metadata": {},
     "output_type": "execute_result"
    }
   ],
   "source": [
    "demo.digest.nunique()"
   ]
  },
  {
   "cell_type": "code",
   "execution_count": 15,
   "id": "78cef721-ee15-491d-9e93-a5d9d486eb7c",
   "metadata": {},
   "outputs": [
    {
     "data": {
      "text/plain": [
       "(6953750, 4)"
      ]
     },
     "execution_count": 15,
     "metadata": {},
     "output_type": "execute_result"
    }
   ],
   "source": [
    "demo.shape"
   ]
  },
  {
   "cell_type": "code",
   "execution_count": 5,
   "id": "c10abec0-12c3-4e93-ba6b-dfedca00ef3d",
   "metadata": {},
   "outputs": [
    {
     "name": "stdout",
     "output_type": "stream",
     "text": [
      "<class 'pandas.core.frame.DataFrame'>\n",
      "RangeIndex: 6953750 entries, 0 to 6953749\n",
      "Data columns (total 30 columns):\n",
      " #   Column                  Dtype \n",
      "---  ------                  ----- \n",
      " 0   person_id               Int64 \n",
      " 1   digest                  object\n",
      " 2   EDRN                    object\n",
      " 3   source_DOB              object\n",
      " 4   source_DOD              object\n",
      " 5   source_DOD_Full         object\n",
      " 6   source_gender           object\n",
      " 7   source_sex              object\n",
      " 8   source_religion         object\n",
      " 9   source_ethnicity        object\n",
      " 10  census_ethnicity        object\n",
      " 11  source_maritalstatus    object\n",
      " 12  source_language         object\n",
      " 13  PartialPostCode         object\n",
      " 14  LSOA                    object\n",
      " 15  Ward                    object\n",
      " 16  OptOut                  object\n",
      " 17  DOB_formatted           dbdate\n",
      " 18  DOD_formatted           dbdate\n",
      " 19  remapped_gender         Int64 \n",
      " 20  remapped_sex            Int64 \n",
      " 21  remapped_religion       Int64 \n",
      " 22  remapped_ethnicity      Int64 \n",
      " 23  remapped_language       Int64 \n",
      " 24  remapped_maritalstatus  Int64 \n",
      " 25  quality_assured         object\n",
      " 26  notes                   object\n",
      " 27  source_of_record        object\n",
      " 28  complete_record         object\n",
      " 29  DateBuilt               dbdate\n",
      "dtypes: Int64(7), dbdate(3), object(20)\n",
      "memory usage: 1.6+ GB\n"
     ]
    }
   ],
   "source": [
    "demo.info()"
   ]
  },
  {
   "cell_type": "code",
   "execution_count": 7,
   "id": "00f3d9c9-1300-44c1-9537-85459841c87d",
   "metadata": {},
   "outputs": [
    {
     "data": {
      "text/plain": [
       "6550558"
      ]
     },
     "execution_count": 7,
     "metadata": {},
     "output_type": "execute_result"
    }
   ],
   "source": [
    "demo.duplicated(subset=[\"source_DOB\", \"source_DOD\", \"source_gender\", \"source_sex\", \"source_religion\", \"source_ethnicity\"]).sum()"
   ]
  },
  {
   "cell_type": "code",
   "execution_count": 10,
   "id": "4ff36e57-48b9-4b2b-882f-1ba19b07d12e",
   "metadata": {},
   "outputs": [
    {
     "name": "stdout",
     "output_type": "stream",
     "text": [
      "person_id\n",
      "0.0\n",
      "digest\n",
      "1.4380729822038469e-05\n",
      "EDRN\n",
      "0.0\n",
      "source_DOB\n",
      "65.42188028042423\n",
      "source_DOD\n",
      "97.28566600754988\n",
      "source_DOD_Full\n",
      "98.87224878662592\n",
      "source_gender\n",
      "71.05745820600396\n",
      "source_sex\n",
      "53.714082329678234\n",
      "source_religion\n",
      "97.1235808017257\n",
      "source_ethnicity\n",
      "74.44617652345856\n",
      "census_ethnicity\n",
      "1.8146611540535682\n",
      "source_maritalstatus\n",
      "98.43793636527053\n",
      "source_language\n",
      "90.02910659715981\n",
      "PartialPostCode\n",
      "94.20577386302355\n",
      "LSOA\n",
      "82.00851339205465\n",
      "Ward\n",
      "82.58618730900594\n",
      "OptOut\n",
      "100.0\n",
      "DOB_formatted\n",
      "65.42186589969441\n",
      "DOD_formatted\n",
      "97.29692611900055\n",
      "remapped_gender\n",
      "35.32094193780334\n",
      "remapped_sex\n",
      "30.65042602912098\n",
      "remapped_religion\n",
      "100.0\n",
      "remapped_ethnicity\n",
      "1.8121157648750674\n",
      "remapped_language\n",
      "100.0\n",
      "remapped_maritalstatus\n",
      "100.0\n",
      "quality_assured\n",
      "0.0\n",
      "notes\n",
      "0.0\n",
      "source_of_record\n",
      "0.0\n",
      "complete_record\n",
      "0.0\n",
      "DateBuilt\n",
      "0.0\n"
     ]
    }
   ],
   "source": [
    "for col in demo.columns:\n",
    "    print(col)\n",
    "    print(demo[col].isna().sum() * 100/ demo.shape[0])"
   ]
  },
  {
   "cell_type": "code",
   "execution_count": null,
   "id": "2d3fe16c-3d33-4e0b-b1af-a7474c247de7",
   "metadata": {},
   "outputs": [],
   "source": []
  }
 ],
 "metadata": {
  "environment": {
   "kernel": "conda-env-FDMEnv-py",
   "name": "r-cpu.4-1.m90",
   "type": "gcloud",
   "uri": "gcr.io/deeplearning-platform-release/r-cpu.4-1:m90"
  },
  "kernelspec": {
   "display_name": "Python [conda env:FDMEnv]",
   "language": "python",
   "name": "conda-env-FDMEnv-py"
  },
  "language_info": {
   "codemirror_mode": {
    "name": "ipython",
    "version": 3
   },
   "file_extension": ".py",
   "mimetype": "text/x-python",
   "name": "python",
   "nbconvert_exporter": "python",
   "pygments_lexer": "ipython3",
   "version": "3.10.5"
  }
 },
 "nbformat": 4,
 "nbformat_minor": 5
}
