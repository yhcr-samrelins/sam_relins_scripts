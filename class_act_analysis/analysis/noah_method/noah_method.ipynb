{
 "cells": [
  {
   "cell_type": "markdown",
   "id": "cc25f097-a6a2-4920-8bcd-264e943749f3",
   "metadata": {},
   "source": [
    "# ClassAct - Noah Method\n",
    "\n",
    "We are interested in estimating the difference in illness sessions as a proportion of attended sessions, so called \"illness ratios\" between schools with HEPA filters and those without. The model we have currently adopted calculates illness ratios as a function of the presence of HEPA filters - whilst we can calculate a simple difference between the predicted ratios of HEPA filtered and non-HEPA filtered schools, this does not provide us with an estimate of the variance of, and consequently a confidence interval for, this figure. We propose an alternative method to estimate the proportion of illness ratios between HEPA filtered and control schools, whereby this figure is directly estimated as a coefficient of a re-formulated poisson regression. \n",
    "\n",
    "It should be noted that, by adding a direct estimate of the proportion of illness ratios between HEPA filtered and control schools, we remove two important features of the original model:\n",
    "* **Covariates:** This method does not allow for the inclusion of the covariates in our initial model, CO_2 and positive tests in the local area, and thus the estimated differences are for unadjusted illness ratios.\n",
    "* **HEPA/control Illness ratios:** This method decomposes the illness ratio estimates in one of HEPA/control schools into multiple parameters. As such, it is not possible to estimate the variance of the mean illness ratios for both HEPA and control schools using this model, only the variance of the difference between them.\n",
    "As such, this method is proposed as an additional model for estimating the overall mean proportion of illness ratios between HEPA and control schools, and not as a replacement for the original model. \n",
    "\n",
    "## The Model\n",
    "\n",
    "We begin with a model that estimates simple count of school sessions y_i as a poisson random variable, whose rate parameter is the mean session count:\n",
    "\n",
    "y_i ~ pois(y_bar)\n",
    "\n",
    "The rate parameter y_bar is given by a log-linear model, with coefficients describing the type of school session (illnesss or in-person), the presence or absence of HEPA filtration, and an interaction term for session type and presence of HEPA:\n",
    "\n",
    "log(y_bar) = b_0 + b_1*1_illness? + b_2*1_HEPA? + b_3*1_illness?*1_HEPA?\n",
    "\n",
    "Indicator functions encode a simple binary for the type of session count being estimated: in-person (1_illness? = 0) or or illness (1_illness? = 1), control (1_HEPA? = 0) or HEPA (1_HEPA? = 1). The log-linear relationship between the mean session count y_bar and the coefficients, means that the log-linear model is decomposed as follows:\n",
    "\n",
    "y_bar = e^b_0 * e^(b_1*1_illness?) * e^(b_2*1_HEPA?) * e^(b_3*1_illness?*1_HEPA?)\n",
    "\n",
    "Table XXXX contains lay-descriptions of each of the statistics estimated by the exponents of these coefficients. We see that by taking the exponent of the b_3 coefficient, we arrive at an estimate of the the mean illness ratio in HEPA filtered schools as a proportion of the mean illness ratio in control schools. The standard methodology for estimating the variance of regression coefficients then allows us to estimate a confidence interval for this statistic.\n",
    "\n",
    "| Coefficient | Variable | Description |\n",
    "|-------------|----------|-------------|\n",
    "| b_0 | n/a | The mean number of in-person sessions for non-HEPA schools |\n",
    "| | | |\n",
    "| b_1 | 1_illness? | The mean illness ratio in non-HEPA schools |\n",
    "| | | |\n",
    "| b_2 | 1_HEPA? | The mean ratio of in-person sessions in HEPA schools to in-person sessions in control schools |\n",
    "| | | |\n",
    "| b_3 | 1_illness?\\*1_hepa? | The mean proportion of illness ratios (illness sessions as a proportion of in-person sessions) in HEPA schools compared to mean illness ratios in control schools |\n",
    "\n",
    "## Method\n",
    "\n",
    "We started by re-formatting our data to facilitate this new analysis. We took each observation from the initial analysis, the mean ratio of illness sessions to in-person sessions for each school over the study period, and decomposed them into two observations: a mean count of the attended sessions and a mean count of the illness sessions. We added binary indicators for the count type (illness or in-person) and the presence or absence of HEPA filters. An example of our re-formatted data can be seen in FIGURE XXXX (see code outputs below).\n",
    "\n",
    "We round our analyses in R, specifying our poisson log-linear model using the built-in `glm` function as follows:\n",
    "\n",
    "```\n",
    "model <- glm(\n",
    "    attendance_count ~ is_illness + is_illness*hepa_filters,\n",
    "    data = data,\n",
    "    family = poisson(link=log)\n",
    ")\n",
    "```\n",
    "\n",
    "and produced statistics using the `summary` and `confint` built-in helper functions.\n",
    "\n",
    "# Results\n",
    "\n",
    "As can be seen from the below outputs, the proportion of illness ratios between HEPA and control schools is 0.769 (95% CI: 0.758, 0.780) - that is, HEPA filtered schools show an estimated reduction of sessions missed due to illness as a proportion of sessions attended of 23.1% (95% CI: 22.0%, 24.2%).\n",
    "\n",
    "As stated above, we can provide variance estimates for the mean illness ratios of only control or HEPA schools depending on the parametarisation of this model (in this case control schools). As such, we will omit these estimates and refer the reader to the initial model for estimates of these statistics. \n",
    "\n",
    "# Additional Materials\n",
    "\n",
    "## Explanation by Intuition\n",
    "\n",
    "This can be understood by intuition: the model begins at a baseline (whereby both illness_? and HEPA_? are zero), giving the mean count of in-person attendance sessions in control schools, e^b_0. We then have a coefficient to vary the count by the type of session (where illness_? = 1, HEPA_? = 0), which gives the mean proportion of illness session to in-person sessions e^b_1 in control schools. \n",
    "\n",
    "We then have two coefficients that act in partnership to estimate the effect of HEPA filtration, b_2 and b_3. b_2 adjusts the number of sessions counted based on the presence of HEPA filters, HEPA_? = 1. In a simple model with only independent interactions between attendance type and the presence of hepa filters, the adjustment of b_2 would be unidirectional - this would imply an effect of HEPA filters as reducing/increasing **both** in person attendance and illness sessions by the same proportion. Because of this, an interaction term b_3 is included, adjusting the proportion of illness sessions in schools with HEPA filters. As such, e^b_2 is the mean proportion of in-person attended sessions between control and HEPA schools (where illness_? = 0, HEPA_? = 1) and e^b_3, only being present with both b_1 and b_2 (HEPA_? = 1, illness_? = 1), encodes the mean proportional difference in the proportion of illness to in-person sessions between control and HEPA schools.\n",
    "\n",
    "## Explanation by ?proof?\n",
    "\n",
    "See \"Noah method explainer.docx.pdf\""
   ]
  },
  {
   "cell_type": "code",
   "execution_count": null,
   "id": "d8ed6970-30b9-46a3-b4c3-acd823ac2565",
   "metadata": {},
   "outputs": [],
   "source": [
    "library(bigrquery)\n",
    "library(ggplot2)\n",
    "library(lubridate)\n",
    "library(tidyverse)\n",
    "library(marginaleffects)\n",
    "\n",
    "project_id=\"yhcr-prd-phm-bia-core\" \n",
    "attendance_sql <- \"SELECT * FROM `yhcr-prd-phm-bia-core.CB_CLASS_ACT.attendance`\"\n",
    "attendance_table <- bq_project_query(project_id, attendance_sql)\n",
    "\n",
    "start_date <- as.Date(\"2021-09-01\")\n",
    "end_date <- as.Date(\"2022-04-01\")\n",
    "\n",
    "hepa_school_codes <- c(\"H01\", \"H02\", \"H03\", \"H04\", \"H05\", \"H06\", \"H07\", \"H08\", \n",
    "                       \"H09\", \"H10\", \"H11\")\n",
    "control_school_codes <- c(\"C01\", \"C02\", \"C03\", \"C04\", \"C05\", \"C09\", \"C10\", \n",
    "                          \"C11\", \"C12\", \"C13\", \"C14\")\n",
    "study_schools <- c(hepa_school_codes, control_school_codes)\n",
    "\n",
    "agg_data <- bq_table_download(attendance_table) %>%\n",
    "    filter(School_AnonID %in% study_schools) %>% \n",
    "    filter(pct_in_school > 0) %>%\n",
    "    filter(Unk / (pupils * 14) < 0.01) %>%\n",
    "    filter(WeekStart < end_date) %>%\n",
    "    mutate(arm = case_when(School_AnonID %in% hepa_school_codes ~ \"HEPA\", \n",
    "                           School_AnonID %in% control_school_codes ~ \"Control\"),\n",
    "           mth = factor(month.abb[month(WeekStart)], \n",
    "                          levels=c(\"Sep\", \"Oct\", \"Nov\", \"Dec\", \"Jan\", \"Feb\", \"Mar\"), \n",
    "                          ordered=TRUE),\n",
    "           illness_rate = prop_absent_ill * 100) %>%\n",
    "    group_by(WeekStart, arm) %>% \n",
    "    mutate(outlier_threshold = mean(prop_absent_ill) + 3.25 * (IQR(prop_absent_ill, na.rm=TRUE)),\n",
    "           is_outlier = prop_absent_ill > outlier_threshold) %>%\n",
    "    filter(!is_outlier) %>%\n",
    "    group_by(School_AnonID, arm) %>% \n",
    "    summarise(in_school = sum(in_school),\n",
    "              ill = sum(ill)) %>% \n",
    "    pivot_longer(cols=c(in_school, ill), \n",
    "                 names_to = \"attendance_type\", \n",
    "                 values_to = \"attendance_count\") %>%\n",
    "    mutate(is_illness = as.integer(attendance_type == \"ill\"),\n",
    "           hepa_filters = as.integer(arm == \"HEPA\")) %>%\n",
    "    ungroup()\n",
    "\n",
    "ratio_model <- glm(\n",
    "    attendance_count ~ is_illness + is_illness*hepa_filters,\n",
    "    data = agg_data,\n",
    "    family = poisson(link=log)\n",
    ")"
   ]
  },
  {
   "cell_type": "code",
   "execution_count": null,
   "id": "a7bef289-ef28-4e33-ab6d-d935ea43af8c",
   "metadata": {},
   "outputs": [],
   "source": [
    "head(agg_data, 10)"
   ]
  },
  {
   "cell_type": "code",
   "execution_count": null,
   "id": "e9ca3d98-282e-41f8-b5c0-2fcd0e2bdb63",
   "metadata": {},
   "outputs": [],
   "source": [
    "summary(ratio_model)"
   ]
  },
  {
   "cell_type": "code",
   "execution_count": null,
   "id": "8d9c49ba-d81b-4e68-a833-fc8bd50480a0",
   "metadata": {},
   "outputs": [],
   "source": [
    "illness_coef <- unname(coef(ratio_model)[\"is_illness\"])\n",
    "illness_hepa_coef <- unname(coef(ratio_model)[\"is_illness:hepa_filters\"])\n",
    "hepa_illness_ratio <- exp(illness_coef + illness_hepa_coef)\n",
    "hepa_illness_ratio"
   ]
  },
  {
   "cell_type": "code",
   "execution_count": null,
   "id": "47a423a8-7d3b-4fb9-b591-41bfd9b7d6e6",
   "metadata": {},
   "outputs": [],
   "source": [
    "control_illness_ratio <- exp(illness_coef)\n",
    "control_illness_ratio"
   ]
  },
  {
   "cell_type": "code",
   "execution_count": null,
   "id": "a8dd8ac6-0fa9-4c22-9afa-6688c9c8f1c2",
   "metadata": {},
   "outputs": [],
   "source": [
    "exp(illness_hepa_coef)"
   ]
  },
  {
   "cell_type": "code",
   "execution_count": null,
   "id": "b6cdea1c-97bc-44a0-949f-cfa7579c426b",
   "metadata": {},
   "outputs": [],
   "source": [
    "exp(confint(ratio_model)[\"is_illness:hepa_filters\",])"
   ]
  },
  {
   "cell_type": "markdown",
   "id": "28dbca73-d9a1-441d-bea0-74c29ad3d319",
   "metadata": {},
   "source": [
    "## Responses to \"Checking the averages\"\n",
    "\n",
    "if you calculated the the average in-school attendance session in the non-HEPA schools by hand, that it would match the output from:"
   ]
  },
  {
   "cell_type": "code",
   "execution_count": null,
   "id": "7dc60e23-1cbb-43e5-a9cf-13e79d7e6d52",
   "metadata": {},
   "outputs": [],
   "source": [
    "summary(ratio_mod)$coefficients %>% \n",
    "    as.data.frame() %>%     \n",
    "    dplyr::select(Estimate) %>% \n",
    "    filter(row.names(.) %in% c('(Intercept)')) %>% \n",
    "    sum() %>% \n",
    "    exp() "
   ]
  },
  {
   "cell_type": "code",
   "execution_count": null,
   "id": "a5cc14dd-ce87-463d-abe4-541167ca532b",
   "metadata": {},
   "outputs": [],
   "source": [
    "agg_data %>% \n",
    "    filter(!is_illness & !hepa_filters) %>% \n",
    "    select(attendance_count) %>% \n",
    "    unlist() %>%\n",
    "    as.numeric() %>%\n",
    "    mean()"
   ]
  },
  {
   "cell_type": "markdown",
   "id": "d1a46b36-3d5f-45c1-9f24-cb512bb24de4",
   "metadata": {},
   "source": [
    "if you calculated the the average in-school attendance session in the HEPA schools by hand, that it would match the output from:\n"
   ]
  },
  {
   "cell_type": "code",
   "execution_count": null,
   "id": "d0c81981-dd35-4407-aafe-48cf7bd33018",
   "metadata": {},
   "outputs": [],
   "source": [
    "summary(ratio_mod)$coefficients %>% \n",
    "    as.data.frame() %>%     \n",
    "    dplyr::select(Estimate) %>% \n",
    "    filter(row.names(.) %in% c('(Intercept)', 'hepa_filters')) %>% \n",
    "    sum() %>% \n",
    "    exp() "
   ]
  },
  {
   "cell_type": "code",
   "execution_count": null,
   "id": "48a2dcf7-baf2-41c3-a9c4-32b3fb82ead3",
   "metadata": {},
   "outputs": [],
   "source": [
    "agg_data %>% \n",
    "    filter(!is_illness & hepa_filters) %>% \n",
    "    select(attendance_count) %>% \n",
    "    unlist() %>%\n",
    "    as.numeric() %>%\n",
    "    mean()"
   ]
  },
  {
   "cell_type": "markdown",
   "id": "052e3bf1-3482-47a5-a07c-2d02773b22af",
   "metadata": {},
   "source": [
    "if you calculated the the average illness-related absences in the non-HEPA schools by hand, that it would match the output from:\n"
   ]
  },
  {
   "cell_type": "code",
   "execution_count": null,
   "id": "e1a479a5-bd54-43cb-9e49-1d1ee8db5c9c",
   "metadata": {},
   "outputs": [],
   "source": [
    "summary(ratio_mod)$coefficients %>% \n",
    "    as.data.frame() %>%     \n",
    "    dplyr::select(Estimate) %>% \n",
    "    filter(row.names(.) %in% c('(Intercept)', 'is_illness')) %>% \n",
    "    sum() %>% \n",
    "    exp() "
   ]
  },
  {
   "cell_type": "code",
   "execution_count": null,
   "id": "ff3b74c9-6d77-4762-b3d7-78211c825dbd",
   "metadata": {},
   "outputs": [],
   "source": [
    "agg_data %>% \n",
    "    filter(is_illness & !hepa_filters) %>% \n",
    "    select(attendance_count) %>% \n",
    "    unlist() %>%\n",
    "    as.numeric() %>%\n",
    "    mean()"
   ]
  },
  {
   "cell_type": "markdown",
   "id": "ac94ed88-8154-4d12-a64c-e7e39f43aa16",
   "metadata": {},
   "source": [
    "if you calculated the the average illness-related absences in the HEPA schools by hand, that it would match the output from:"
   ]
  },
  {
   "cell_type": "code",
   "execution_count": null,
   "id": "3dcef9c4-8697-436e-9de6-2c8bb610569c",
   "metadata": {},
   "outputs": [],
   "source": [
    "summary(ratio_mod)$coefficients %>% \n",
    "    as.data.frame() %>%     \n",
    "    dplyr::select(Estimate) %>% \n",
    "    filter(row.names(.) %in% c('(Intercept)', 'is_illness', 'hepa_filters', 'is_illness:hepa_filters')) %>% \n",
    "    sum() %>% \n",
    "    exp() "
   ]
  },
  {
   "cell_type": "code",
   "execution_count": null,
   "id": "9235cd6a-4ef4-4e14-be99-20a8b90cf1a6",
   "metadata": {},
   "outputs": [],
   "source": [
    "agg_data %>% \n",
    "    filter(is_illness & hepa_filters) %>% \n",
    "    select(attendance_count) %>% \n",
    "    unlist() %>%\n",
    "    as.numeric() %>%\n",
    "    mean()"
   ]
  },
  {
   "cell_type": "code",
   "execution_count": null,
   "id": "59dfed00-4279-47b0-a8c6-83f03822cd7d",
   "metadata": {},
   "outputs": [],
   "source": [
    "summary(ratio_mod)$coefficients %>% \n",
    "    as.data.frame() %>%     \n",
    "    dplyr::select(Estimate) %>% \n",
    "    filter(row.names(.) %in% c('is_illness')) %>% \n",
    "    sum() "
   ]
  },
  {
   "cell_type": "code",
   "execution_count": null,
   "id": "7cbb9ca2-afe8-4a15-be39-866d47165f4d",
   "metadata": {},
   "outputs": [],
   "source": []
  }
 ],
 "metadata": {
  "environment": {
   "kernel": "renv",
   "name": "r-cpu.4-2.m110",
   "type": "gcloud",
   "uri": "gcr.io/deeplearning-platform-release/r-cpu.4-2:m110"
  },
  "kernelspec": {
   "display_name": "REnv",
   "language": "R",
   "name": "renv"
  },
  "language_info": {
   "codemirror_mode": "r",
   "file_extension": ".r",
   "mimetype": "text/x-r-source",
   "name": "R",
   "pygments_lexer": "r",
   "version": "4.3.1"
  }
 },
 "nbformat": 4,
 "nbformat_minor": 5
}
