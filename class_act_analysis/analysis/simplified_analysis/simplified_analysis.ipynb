{
 "cells": [
  {
   "cell_type": "code",
   "execution_count": null,
   "id": "9b6a073c-a5e2-49a1-ad9e-e8f423012fdb",
   "metadata": {},
   "outputs": [],
   "source": [
    "library(bigrquery)\n",
    "library(ggplot2)\n",
    "library(lubridate)\n",
    "library(tidyverse)\n",
    "library(marginaleffects)"
   ]
  },
  {
   "cell_type": "code",
   "execution_count": null,
   "id": "2fb70c47-efd9-4e96-a8b5-a3e62a5facd1",
   "metadata": {},
   "outputs": [],
   "source": [
    "project_id=\"yhcr-prd-phm-bia-core\" \n",
    "attendance_sql <- \"SELECT * FROM `yhcr-prd-phm-bia-core.CB_CLASS_ACT.attendance`\"\n",
    "attendance_table <- bq_project_query(project_id, attendance_sql)\n",
    "\n",
    "start_date <- as.Date(\"2021-09-01\")\n",
    "end_date <- as.Date(\"2022-04-01\")\n",
    "\n",
    "hepa_school_codes <- c(\"H01\", \"H02\", \"H03\", \"H04\", \"H05\", \"H06\", \"H07\", \"H08\", \n",
    "                       \"H09\", \"H10\", \"H11\")\n",
    "control_school_codes <- c(\"C01\", \"C02\", \"C03\", \"C04\", \"C05\", \"C09\", \"C10\", \n",
    "                          \"C11\", \"C12\", \"C13\", \"C14\")\n",
    "study_schools <- c(hepa_school_codes, control_school_codes)\n",
    "\n",
    "# load in schools data for time-period of study - drop closures\n",
    "attendance <- bq_table_download(attendance_table) %>%\n",
    "    filter(School_AnonID %in% study_schools) %>% \n",
    "    filter(pct_in_school > 0) %>%\n",
    "    filter(Unk / (pupils * 14) < 0.01) %>%\n",
    "    filter(WeekStart < end_date) %>%\n",
    "    mutate(arm = case_when(School_AnonID %in% hepa_school_codes ~ \"HEPA\", \n",
    "                           School_AnonID %in% control_school_codes ~ \"Control\"),\n",
    "           mth = factor(month.abb[month(WeekStart)], \n",
    "                          levels=c(\"Sep\", \"Oct\", \"Nov\", \"Dec\", \"Jan\", \"Feb\", \"Mar\"), \n",
    "                          ordered=TRUE),\n",
    "           illness_rate = prop_absent_ill * 100) %>%\n",
    "    group_by(WeekStart, arm) %>% \n",
    "    mutate(outlier_threshold = mean(prop_absent_ill) + 3.25*(IQR(prop_absent_ill, na.rm=TRUE)),\n",
    "           is_outlier = prop_absent_ill > outlier_threshold) \n",
    "\n",
    "# download CO2 stats and format variables\n",
    "co2_sql <- \"SELECT School_ID, week_start, co2_mean FROM `yhcr-prd-phm-bia-core.CB_CLASS_ACT.stats_week_school_21_09_22`\"\n",
    "co2_table <- bq_project_query(project_id, co2_sql)\n",
    "co2 <- bq_table_download(co2_table) %>% \n",
    "    rename(WeekStart = week_start, School_AnonID = School_ID) \n",
    "\n",
    "# download rate data from .gov site and format WeekStart and msoa varaiables\n",
    "msoa_rates_link <- \"https://api.coronavirus.data.gov.uk/v2/data?areaType=msoa&areaCode=E08000032&metric=newCasesBySpecimenDateRollingRate&format=csv\"\n",
    "msoa_rates_csv <- \"msoa_2023-01-19.csv\"\n",
    "keep_cols <- c(\"msoa\", \"WeekStart\", \"covid_msoa_rate\")\n",
    "msoa_rates <- read_csv(msoa_rates_csv) %>%\n",
    "    mutate(WeekStart = date - 5) %>%\n",
    "    rename(covid_msoa_rate = newCasesBySpecimenDateRollingRate, \n",
    "           msoa = areaCode) %>%\n",
    "    select(all_of(keep_cols)) \n",
    "\n",
    "cov_age_rate_link <- \"https://api.coronavirus.data.gov.uk/v2/data?areaType=ltla&areaCode=E08000032&metric=newCasesBySpecimenDateAgeDemographics&format=csv&release=2022-04-29\"\n",
    "cov_age_rate_csv <- \"ltla_2022-04-29.csv\"\n",
    "keep_cols <- c(\"msoa\", \"WeekStart\", \"covid_msoa_rate\")\n",
    "cov_age_rates <- read_csv(cov_age_rate_csv) %>%\n",
    "    filter(age %in% c(\"05_09\", \"10_14\")) %>%\n",
    "    filter(weekdays(date) == \"Saturday\") %>%\n",
    "    mutate(WeekStart = date - 5) %>%\n",
    "    group_by(WeekStart) %>%\n",
    "    summarise(covid_age_rate = mean(rollingRate))"
   ]
  },
  {
   "cell_type": "code",
   "execution_count": null,
   "id": "ac77b378-af39-4364-a098-8aced5277641",
   "metadata": {},
   "outputs": [],
   "source": [
    "attendance %>% filter(prop_absent_ill > 0.15)"
   ]
  },
  {
   "cell_type": "code",
   "execution_count": null,
   "id": "599b5718-7fbd-4e25-ba75-5a4b64a0761e",
   "metadata": {},
   "outputs": [],
   "source": [
    "options(repr.plot.width = 9, repr.plot.height = 4.5, repr.plot.res = 200)\n",
    "attendance %>% \n",
    "    ggplot() +\n",
    "    geom_boxplot(aes(x=WeekStart, y=illness_rate, group=interaction(WeekStart, arm), color=arm)) "
   ]
  },
  {
   "cell_type": "code",
   "execution_count": null,
   "id": "4ad4de2b-98f8-46b9-aee8-9bd5dbae5cc1",
   "metadata": {},
   "outputs": [],
   "source": [
    "options(repr.plot.width = 8, repr.plot.height = 5, repr.plot.res = 200)\n",
    "arm_colors <- c(HEPA = \"#808080\", Control = \"#000000\")\n",
    "bw_ratios_plot <- attendance %>% \n",
    "    left_join(msoa_rates) %>%\n",
    "    left_join(co2) %>%\n",
    "    group_by(School_AnonID, mth, arm, msoa) %>% \n",
    "    summarise(total_in_school = sum(in_school),\n",
    "              total_ill = sum(ill),\n",
    "              overall_illness_rate = total_ill/total_in_school * 100,\n",
    "              mean_weekly_illness_ratio = mean(prop_absent_ill),\n",
    "              mean_msoa_rate = mean(covid_msoa_rate, na.rm=TRUE),\n",
    "              mean_co2 = mean(co2_mean, na.rm=TRUE)) %>%\n",
    "    ungroup() %>%\n",
    "    ggplot() +\n",
    "    geom_boxplot(aes(x=mth, y=overall_illness_rate, color=arm)) +\n",
    "    xlab(\"Date\") +\n",
    "    ylab(\"Illness Rate\") +\n",
    "    theme_classic() +\n",
    "    scale_color_manual(values=arm_colors, breaks=c(\"Control\", \"HEPA\")) +\n",
    "    theme(legend.direction = \"horizontal\", \n",
    "        legend.position = \"bottom\",\n",
    "        legend.box = \"horizontal\"\n",
    "    )\n",
    "bw_ratios_plot"
   ]
  },
  {
   "cell_type": "code",
   "execution_count": null,
   "id": "a4ad6c82-6d3e-4058-bc83-626cc4cc9d77",
   "metadata": {},
   "outputs": [],
   "source": [
    "ggsave(\"plots/illness_rates_by_month_bw.jpg\", bw_ratios_plot, width=8, height=4)"
   ]
  },
  {
   "cell_type": "code",
   "execution_count": null,
   "id": "8805444c-437c-4ff3-a5b8-ebe3d116ca3f",
   "metadata": {},
   "outputs": [],
   "source": [
    "options(repr.plot.width = 8, repr.plot.height = 5, repr.plot.res = 200)\n",
    "arm_colors <- c(HEPA = \"#ff6633\", Control = \"#336699\")\n",
    "colour_ratios_plot <- attendance %>% \n",
    "    left_join(msoa_rates) %>%\n",
    "    left_join(co2) %>%\n",
    "    group_by(School_AnonID, mth, arm, msoa) %>% \n",
    "    summarise(total_in_school = sum(in_school),\n",
    "              total_ill = sum(ill),\n",
    "              overall_illness_rate = total_ill/total_in_school * 100,\n",
    "              mean_weekly_illness_ratio = mean(prop_absent_ill),\n",
    "              mean_msoa_rate = mean(covid_msoa_rate, na.rm=TRUE),\n",
    "              mean_co2 = mean(co2_mean, na.rm=TRUE)) %>%\n",
    "    ungroup() %>%\n",
    "    ggplot() +\n",
    "    geom_boxplot(aes(x=mth, y=overall_illness_rate, color=arm)) +\n",
    "    xlab(\"Date\") +\n",
    "    ylab(\"Illness Rate\") +\n",
    "    theme_classic() +\n",
    "    scale_color_manual(values=arm_colors, breaks=c(\"Control\", \"HEPA\")) +\n",
    "    theme(legend.direction = \"horizontal\", \n",
    "        legend.position = \"bottom\",\n",
    "        legend.box = \"horizontal\"\n",
    "    )\n",
    "colour_ratios_plot"
   ]
  },
  {
   "cell_type": "code",
   "execution_count": null,
   "id": "89a37e52-509a-4e84-8924-c303b477742f",
   "metadata": {},
   "outputs": [],
   "source": [
    "ggsave(\"plots/illness_rates_by_month_colour.jpg\", colour_ratios_plot, width=8, height=4)"
   ]
  },
  {
   "cell_type": "code",
   "execution_count": null,
   "id": "3c5817d1-4851-4a6a-9da4-24b059953277",
   "metadata": {},
   "outputs": [],
   "source": [
    "options(repr.plot.width = 5, repr.plot.height = 5, repr.plot.res = 200)\n",
    "agg_data <- attendance %>% \n",
    "    left_join(msoa_rates) %>%\n",
    "    left_join(co2) %>%\n",
    "    group_by(School_AnonID, arm, msoa) %>% \n",
    "    summarise(total_in_school = sum(in_school),\n",
    "              total_ill = sum(ill),\n",
    "              illness_rate = total_ill/total_in_school*100,\n",
    "              mean_weekly_illness_ratio = mean(illness_rate),\n",
    "              mean_positive_tests = mean(covid_msoa_rate, na.rm=TRUE),\n",
    "              mean_co2 = mean(co2_mean, na.rm=TRUE))\n",
    "agg_data %>% \n",
    "    ggplot() +\n",
    "    geom_boxplot(aes(x=arm, y=illness_rate, color=arm))"
   ]
  },
  {
   "cell_type": "code",
   "execution_count": null,
   "id": "47ae8852-1b6b-4e7a-a7ed-829c2cf28cad",
   "metadata": {},
   "outputs": [],
   "source": [
    "all_model <- glm(formula = illness_rate ~ 1 + arm + mean_co2 + mean_positive_tests,      \n",
    "                 data = agg_data,   \n",
    "                 family=Gamma(link=\"log\"))\n",
    "summary(all_model)"
   ]
  },
  {
   "cell_type": "code",
   "execution_count": null,
   "id": "43d454ea-e290-43c0-a434-dfbc087a1a36",
   "metadata": {},
   "outputs": [],
   "source": [
    "arm_model <- glm(formula = illness_rate ~ 1 + arm,      \n",
    "                 data = agg_data,   \n",
    "                 family=Gamma(link=\"log\"))\n",
    "summary(arm_model)"
   ]
  },
  {
   "cell_type": "code",
   "execution_count": null,
   "id": "0dcb8f80-e75a-4015-b610-f07c1a236ce7",
   "metadata": {},
   "outputs": [],
   "source": [
    "options(repr.plot.width = 7.5, repr.plot.height = 5, repr.plot.res = 200)\n",
    "agg_data$cooks_d = cooks.distance(arm_model)\n",
    "cooks_plot <- agg_data %>% \n",
    "    ggplot() +\n",
    "    geom_bar(aes(x=School_AnonID, \n",
    "                 y=cooks_d, \n",
    "                 fill=factor(ifelse(School_AnonID==\"H07\",\"Highlighted\",\"Normal\"))), \n",
    "             stat=\"identity\", \n",
    "             width = 0.5,\n",
    "             show.legend=FALSE) +\n",
    "    scale_fill_manual(name = \"School_AnonID\", values=c(\"darkred\",\"grey50\")) +\n",
    "    xlab(\"School ID\") +\n",
    "    ylab(\"Cook's Distance\") +\n",
    "    theme_classic()\n",
    "cooks_plot"
   ]
  },
  {
   "cell_type": "code",
   "execution_count": null,
   "id": "58e81cb3-ca1d-43f1-9a48-26db4f549721",
   "metadata": {},
   "outputs": [],
   "source": [
    "ggsave(\"plots/cooks_plot.jpg\", cooks_plot, width=8, height=4)"
   ]
  },
  {
   "cell_type": "code",
   "execution_count": null,
   "id": "9ef3bfba-6706-4df7-8182-c47fe84a1f1a",
   "metadata": {},
   "outputs": [],
   "source": [
    "summary(comparisons(all_model))"
   ]
  },
  {
   "cell_type": "code",
   "execution_count": null,
   "id": "d8b1d481-2806-4633-82b1-cbed27225758",
   "metadata": {},
   "outputs": [],
   "source": [
    "summary(comparisons(all_model)) %>% \n",
    "    dplyr::mutate_if(is.numeric, signif, 3) %>% \n",
    "    write_csv(\"all_model_margins.csv\")"
   ]
  },
  {
   "cell_type": "markdown",
   "id": "d11e51db-cf72-4396-9c18-c10a8131b1a2",
   "metadata": {},
   "source": [
    "The occurrence of extreme covid outbreaks resulted in several \"extreme\" outlying observations of illness rates. One of these outbreaks, that took place over three weeks in September 2021 resulted in single school having a uniquely high influence on the estimated effect of HEPA filtration. To analyse the effect of these outlying values, we defined a threshold value of 3 times the interquartile range of illness rates above the mean for a given week - any value above this threshold was removed from the weekly observations. 12 observations from 7 schools were identified as outliers. The data were then re-aggregated to mean illness rates over the study period."
   ]
  },
  {
   "cell_type": "code",
   "execution_count": null,
   "id": "2a641d92-e4ad-4676-b516-ad57de292f77",
   "metadata": {},
   "outputs": [],
   "source": [
    "attendance %>% filter(is_outlier) "
   ]
  },
  {
   "cell_type": "code",
   "execution_count": null,
   "id": "7b0c794f-1264-4c22-a640-d3aff1545876",
   "metadata": {},
   "outputs": [],
   "source": [
    "attendance %>% filter(is_outlier) %>% group_by(School_AnonID) %>% count()"
   ]
  },
  {
   "cell_type": "code",
   "execution_count": null,
   "id": "4130a4f0-0ac7-4eb0-83ab-25ea27ed9c51",
   "metadata": {},
   "outputs": [],
   "source": [
    "options(repr.plot.width = 5, repr.plot.height = 5, repr.plot.res = 200)\n",
    "agg_data_wo_outliers <- attendance %>% \n",
    "    filter(!is_outlier) %>%\n",
    "    left_join(msoa_rates) %>%\n",
    "    left_join(co2) %>%\n",
    "    group_by(School_AnonID, arm, msoa) %>% \n",
    "    summarise(total_in_school = sum(in_school),\n",
    "              total_ill = sum(ill),\n",
    "              illness_rate = total_ill/total_in_school*100,\n",
    "              mean_weekly_illness_ratio = mean(illness_rate),\n",
    "              mean_positive_tests = mean(covid_msoa_rate, na.rm=TRUE),\n",
    "              mean_co2 = mean(co2_mean, na.rm=TRUE))\n",
    "agg_data_wo_outliers %>% \n",
    "    ggplot() +\n",
    "    geom_boxplot(aes(x=arm, y=illness_rate, color=arm))"
   ]
  },
  {
   "cell_type": "code",
   "execution_count": null,
   "id": "de8f60dc-0625-4be9-a361-55f43d4798e6",
   "metadata": {},
   "outputs": [],
   "source": [
    "no_out_model <-  glm(formula = illness_rate ~ 1 + arm + mean_co2 + mean_positive_tests, \n",
    "                     data = agg_data_wo_outliers,   \n",
    "                     family=Gamma(link=\"log\"))\n",
    "summary(no_out_model)"
   ]
  },
  {
   "cell_type": "code",
   "execution_count": null,
   "id": "884c5402-2d10-4971-81be-2d860a0b9a97",
   "metadata": {},
   "outputs": [],
   "source": [
    "no_out_arm_model <-  glm(formula = illness_rate ~ 1 + arm, \n",
    "                     data = agg_data_wo_outliers,   \n",
    "                     family=Gamma(link=\"log\"))\n",
    "summary(no_out_arm_model)"
   ]
  },
  {
   "cell_type": "code",
   "execution_count": null,
   "id": "498c5c41-82c4-473d-89b4-5081417b0f70",
   "metadata": {},
   "outputs": [],
   "source": [
    "summary(comparisons(no_out_model)) %>%\n",
    "      dplyr::mutate_if(is.numeric, signif, 3)"
   ]
  },
  {
   "cell_type": "code",
   "execution_count": null,
   "id": "54535827-2f44-4648-a10f-67f7dd51d10c",
   "metadata": {},
   "outputs": [],
   "source": [
    "summary(comparisons(no_out_model)) %>%\n",
    "    dplyr::mutate_if(is.numeric, signif, 3) %>% \n",
    "    write_csv(\"no_out_margins.csv\")"
   ]
  },
  {
   "cell_type": "code",
   "execution_count": null,
   "id": "fa9206f2-5359-40ee-9e25-a44e02ce4ccd",
   "metadata": {},
   "outputs": [],
   "source": [
    "marginalmeans(no_out_arm_model)"
   ]
  },
  {
   "cell_type": "code",
   "execution_count": null,
   "id": "fee0e75f-563b-48ea-a105-dd16a4dffef4",
   "metadata": {},
   "outputs": [],
   "source": [
    "options(repr.plot.width = 2.5, repr.plot.height = 4, repr.plot.res = 400)\n",
    "mm_plot <- marginalmeans(no_out_model) %>% \n",
    "    ggplot(aes(x=value, y=marginalmean, color=value)) +\n",
    "    geom_point(size=3, show.legend=FALSE) +\n",
    "    geom_errorbar(aes(ymax=conf.high, ymin=conf.low), width=0.05, show.legend=FALSE) +\n",
    "    xlab(\"Study Arm\") +\n",
    "    ylab(\"Predicted Illness Rate\") +\n",
    "    theme_classic()\n",
    "mm_plot"
   ]
  },
  {
   "cell_type": "code",
   "execution_count": null,
   "id": "e9b79065-dce4-417b-b123-cd8ad447bc68",
   "metadata": {},
   "outputs": [],
   "source": [
    "ggsave(\"plots/mm_values.jpg\", mm_plot, width=2.5, height=4, dpi=400)"
   ]
  },
  {
   "cell_type": "code",
   "execution_count": null,
   "id": "75a7bbe9-cd7c-4eec-8ce2-a8092d612f43",
   "metadata": {},
   "outputs": [],
   "source": []
  }
 ],
 "metadata": {
  "environment": {
   "kernel": "ir",
   "name": "r-cpu.4-2.m110",
   "type": "gcloud",
   "uri": "gcr.io/deeplearning-platform-release/r-cpu.4-2:m110"
  },
  "kernelspec": {
   "display_name": "R",
   "language": "R",
   "name": "ir"
  },
  "language_info": {
   "codemirror_mode": "r",
   "file_extension": ".r",
   "mimetype": "text/x-r-source",
   "name": "R",
   "pygments_lexer": "r",
   "version": "4.3.1"
  }
 },
 "nbformat": 4,
 "nbformat_minor": 5
}
