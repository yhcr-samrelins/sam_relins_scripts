{
 "cells": [
  {
   "cell_type": "markdown",
   "id": "72c00b06-1a5b-4e25-be3a-112f37cc9cad",
   "metadata": {},
   "source": [
    "Summary: Experiments estimating the amount of auto-correlation in the multi-level/heirarchical models.\n",
    "\n",
    "The weekly observations from each school represent a time series running from the start (Sep 2021) to the end (Apr 2022) of the study period - the models in all the multi-level analyses assume the observations are independent, which is not the case for time series. These experiments demonstrate the extent to which the repeated observations from each school are autocorrelated, and issue that resulted in these experiments being abandoned in favour of a more simple modeling strategy that can be found in /analysis/simplified_analysis."
   ]
  },
  {
   "cell_type": "code",
   "execution_count": null,
   "id": "c805eb0b-077e-4782-87fc-6699c634be3a",
   "metadata": {},
   "outputs": [],
   "source": [
    "library(tidyverse)\n",
    "library(tidybayes)\n",
    "library(bigrquery)\n",
    "library(brms)\n",
    "library(ggmcmc)\n",
    "library(loo)\n",
    "library(lme4)\n",
    "library(lubridate)\n",
    "library(gridExtra)\n",
    "library(grid)\n",
    "library(bayesplot)\n",
    "library(marginaleffects)\n",
    "library(table1)\n",
    "\n",
    "hepa_school_codes <- c(\"H01\", \"H02\", \"H03\", \"H04\", \"H05\", \"H06\", \"H07\", \"H08\", \n",
    "                       \"H09\", \"H10\", \"H11\")\n",
    "# removed C01 due to primary/secondary attendance issue\n",
    "# control_school_codes <- c(\"C01\", \"C02\", \"C03\", \"C04\", \"C05\", \"C09\", \"C10\", \n",
    "#                           \"C11\", \"C12\", \"C13\", \"C14\")\n",
    "control_school_codes <- c(\"C02\", \"C03\", \"C04\", \"C05\", \"C09\", \"C10\", \n",
    "                          \"C11\", \"C12\", \"C13\", \"C14\")\n",
    "study_schools <- c(hepa_school_codes, control_school_codes)\n",
    "\n",
    "project_id=\"yhcr-prd-phm-bia-core\" \n",
    "attendance_sql <- \"SELECT * FROM `yhcr-prd-phm-bia-core.CY_CLASS_ACT.attendance`\"\n",
    "attendance_table <- bq_project_query(project_id, attendance_sql)\n",
    "\n",
    "attendance <- bq_table_download(attendance_table) %>%\n",
    "    filter(School_AnonID %in% study_schools) %>% \n",
    "    filter(WeekStart <= as.Date(\"2022-04-01\")) %>%\n",
    "    filter(pct_in_school > 0) \n",
    "\n",
    "attendance_data_threshold <- attendance$Unk / (attendance$pupils *  14) >= 0.01\n",
    "attendance[attendance_data_threshold, \"prop_absent_ill\"] <- NA\n",
    "\n",
    "attendance$arm <- \"None\"\n",
    "attendance[attendance$School_AnonID %in% control_school_codes, \"arm\"] <- \"Control\" \n",
    "attendance[attendance$School_AnonID %in% hepa_school_codes, \"arm\"] <- \"HEPA\"\n",
    "\n",
    "msoa_rates_link <- \"https://api.coronavirus.data.gov.uk/v2/data?areaType=msoa&areaCode=E08000032&metric=newCasesBySpecimenDateRollingRate&format=csv\"\n",
    "keep_cols <- c(\"msoa\", \"WeekStart\", \"covid_msoa_rate\")\n",
    "msoa_rates <- read_csv(msoa_rates_link) %>%\n",
    "    mutate(WeekStart = date - 5) %>%\n",
    "    rename(covid_msoa_rate = newCasesBySpecimenDateRollingRate, msoa = areaCode) %>%\n",
    "    select(all_of(keep_cols))\n",
    "\n",
    "cov_age_rate_link <- \"https://api.coronavirus.data.gov.uk/v2/data?areaType=ltla&areaCode=E08000032&metric=newCasesBySpecimenDateAgeDemographics&format=csv&release=2022-04-29\"\n",
    "cov_age_rates <- read_csv(cov_age_rate_link) %>%\n",
    "    filter(age %in% c(\"05_09\", \"10_14\")) %>%\n",
    "    filter(weekdays(date) == \"Saturday\") %>%\n",
    "    mutate(WeekStart = date - 5) %>%\n",
    "    group_by(WeekStart) %>%\n",
    "    summarise(covid_age_rate = mean(rollingRate))\n",
    "\n",
    "attendance <- attendance %>% \n",
    "    left_join(msoa_rates, by=c(\"WeekStart\", \"msoa\")) %>%\n",
    "    left_join(cov_age_rates, by=c(\"WeekStart\")) \n",
    "\n",
    "co2_sql <- \"SELECT School_ID, week_start, co2_mean FROM `yhcr-prd-phm-bia-core.CY_CLASS_ACT.stats_week_school`\"\n",
    "co2_table <- bq_project_query(project_id, co2_sql)\n",
    "co2 <- bq_table_download(co2_table)\n",
    "\n",
    "co2 <- co2 %>% \n",
    "    rename(WeekStart = week_start, School_AnonID = School_ID) \n",
    "\n",
    "attendance <- attendance %>% \n",
    "    left_join(co2, by=c(\"WeekStart\", \"School_AnonID\"))\n",
    "\n",
    "thresholds <- attendance %>% group_by(WeekStart) %>% \n",
    "    summarise(outlier_threshold = quantile(prop_absent_ill, p=0.75, na.rm=TRUE) + 3*(IQR(prop_absent_ill, na.rm=TRUE)))\n",
    "\n",
    "attendance <- attendance %>% \n",
    "    left_join(thresholds, by=\"WeekStart\") %>% \n",
    "    mutate(covid_age_rate_scaled = covid_age_rate / max(covid_age_rate), \n",
    "           covid_msoa_rate_scaled = covid_msoa_rate / max(covid_msoa_rate, na.rm=TRUE), \n",
    "           prop_absent_ill_scaled = prop_absent_ill / max(prop_absent_ill, na.rm=TRUE), \n",
    "           log_prop_absent_ill = log(prop_absent_ill), \n",
    "           co2_mean_scaled = co2_mean / max(co2_mean, na.rm=TRUE), \n",
    "           is_outlier = prop_absent_ill > outlier_threshold)"
   ]
  },
  {
   "cell_type": "code",
   "execution_count": null,
   "id": "61d90cf4-ff0e-4d6f-8180-3aaead1712d3",
   "metadata": {},
   "outputs": [],
   "source": [
    "options(repr.plot.width = 10, repr.plot.height = 5, repr.plot.res = 300)\n",
    "School_IDs <- attendance %>% distinct(School_AnonID) %>% pull(School_AnonID)\n",
    "\n",
    "attendance %>%\n",
    "    filter(School_AnonID %in% sample(x=School_IDs, size=5)) %>%\n",
    "    ggplot() +\n",
    "    geom_line(aes(x=WeekStart, y=prop_absent_ill, group=School_AnonID, color=School_AnonID))"
   ]
  },
  {
   "cell_type": "code",
   "execution_count": null,
   "id": "6272fcd6-9c26-4e00-9eda-d7b8758fca27",
   "metadata": {},
   "outputs": [],
   "source": [
    "attendance %>%  \n",
    "    filter(!is_outlier) %>% \n",
    "    ggplot() + \n",
    "    geom_boxplot(aes(x=WeekStart,    \n",
    "                     y=prop_absent_ill,    \n",
    "                     group=interaction(WeekStart, arm),\n",
    "                     color=arm)) + \n",
    "    theme_classic()"
   ]
  },
  {
   "cell_type": "code",
   "execution_count": null,
   "id": "18a6f01b-8981-44b4-93f2-2cbf97e0940f",
   "metadata": {},
   "outputs": [],
   "source": [
    "basic_model <- glmer(formula = prop_absent_ill ~ 1 + arm + (1 | School_AnonID),    \n",
    "                     data = attendance %>% filter(!is_outlier),\n",
    "                     family=Gamma())\n",
    "summary(basic_model)"
   ]
  },
  {
   "cell_type": "code",
   "execution_count": null,
   "id": "aed7f142-db9b-4746-941f-c834fa69a511",
   "metadata": {},
   "outputs": [],
   "source": [
    "options(repr.plot.width = 5, repr.plot.height = 5, repr.plot.res = 300)\n",
    "plot(fitted(basic_model), resid(basic_model, type = \"pearson\"))# this will create the plot\n",
    "abline(0,0, col=\"red\")"
   ]
  },
  {
   "cell_type": "code",
   "execution_count": null,
   "id": "b421da70-42e1-4365-9d70-665a873be2bd",
   "metadata": {},
   "outputs": [],
   "source": [
    "options(repr.plot.width = 5, repr.plot.height = 5, repr.plot.res = 300)\n",
    "qqnorm(resid(basic_model)) \n",
    "qqline(resid(basic_model), col = \"red\") # add a perfect fit line"
   ]
  },
  {
   "cell_type": "code",
   "execution_count": null,
   "id": "02505556-10b2-4001-a98f-faa528377ba3",
   "metadata": {},
   "outputs": [],
   "source": [
    "attendance %>% \n",
    "    filter(!is_outlier) %>%\n",
    "    select(School_AnonID, WeekStart, arm, prop_absent_ill) %>% \n",
    "    na.omit() %>% \n",
    "    mutate(resid = resid(basic_model)) %>%\n",
    "    ggplot() + \n",
    "    geom_point(aes(x=WeekStart, y=resid))\n",
    "    "
   ]
  },
  {
   "cell_type": "code",
   "execution_count": null,
   "id": "7b36e6d2-98fe-4f3c-a64a-fc92f8cbf28a",
   "metadata": {},
   "outputs": [],
   "source": [
    "attendance <- attendance %>% \n",
    "    mutate(day = yday(WeekStart)) %>% \n",
    "    mutate(winter_period = cos(day/365*2*pi),\n",
    "           autumn_period = cos((day+91)/365*2*pi),\n",
    "           summer_period = cos((day+182)/365*2*pi),\n",
    "           spring_period = cos((day-91)/365*2*pi))"
   ]
  },
  {
   "cell_type": "code",
   "execution_count": null,
   "id": "448b40c6-1b1d-422b-9788-47e87fba04f8",
   "metadata": {},
   "outputs": [],
   "source": [
    "period_model <- glmer(formula = prop_absent_ill ~ 1 + arm +  arm*winter_period + arm*spring_period + \n",
    "                         (1 | School_AnonID),    \n",
    "                     data = attendance, \n",
    "                     family=Gamma(link=\"log\"))\n",
    "summary(period_model)"
   ]
  },
  {
   "cell_type": "code",
   "execution_count": null,
   "id": "56b3f482-dbc7-4066-8d67-1d9e004d0112",
   "metadata": {},
   "outputs": [],
   "source": [
    "options(repr.plot.width = 5, repr.plot.height = 5, repr.plot.res = 300)\n",
    "qqnorm(resid(period_model)) \n",
    "qqline(resid(period_model), col = \"red\") # add a perfect fit line"
   ]
  },
  {
   "cell_type": "code",
   "execution_count": null,
   "id": "c15539f8-dfee-422e-9009-665344196ba6",
   "metadata": {},
   "outputs": [],
   "source": [
    "attendance %>% \n",
    "    select(School_AnonID, WeekStart, arm, prop_absent_ill) %>% \n",
    "    na.omit() %>% \n",
    "    mutate(basic_resid = resid(basic_model),\n",
    "           period_resid = resid(period_model)) %>%\n",
    "    ggplot() + \n",
    "    geom_point(aes(x=WeekStart, y=basic_resid), color=\"red\") +\n",
    "    geom_smooth(aes(x=WeekStart, y=basic_resid), color=\"red\") +\n",
    "    geom_point(aes(x=WeekStart, y=period_resid), color=\"blue\") +\n",
    "    geom_smooth(aes(x=WeekStart, y=period_resid), color=\"blue\") \n",
    "    "
   ]
  },
  {
   "cell_type": "code",
   "execution_count": null,
   "id": "f97ec0df-2c2e-4f45-9cab-e2812644acea",
   "metadata": {},
   "outputs": [],
   "source": [
    "yday(\"2021-04-01\")"
   ]
  },
  {
   "cell_type": "code",
   "execution_count": null,
   "id": "93d06c46-9f56-401c-b93f-04d5ee6932fb",
   "metadata": {},
   "outputs": [],
   "source": [
    "attendance %>% \n",
    "    mutate(days_to_dec_31 = abs(difftime(WeekStart, \"2021-12-31\", units=\"days\")),\n",
    "           days_to_sep_20 = abs(difftime(WeekStart, \"2021-09-20\", units=\"days\")),\n",
    "           days_to_apr_01 = abs(difftime(WeekStart, \"2022-04-01\", units=\"days\"))) %>%\n",
    "    select(WeekStart, days_to_dec_31, days_to_sep_20) %>%\n",
    "    summarise(max(days_to_sep_20))"
   ]
  },
  {
   "cell_type": "code",
   "execution_count": null,
   "id": "954a13c4-f29f-42cf-a616-7dc17999fd35",
   "metadata": {},
   "outputs": [],
   "source": []
  }
 ],
 "metadata": {
  "environment": {
   "kernel": "ir",
   "name": "r-cpu.4-2.m110",
   "type": "gcloud",
   "uri": "gcr.io/deeplearning-platform-release/r-cpu.4-2:m110"
  },
  "kernelspec": {
   "display_name": "R",
   "language": "R",
   "name": "ir"
  },
  "language_info": {
   "codemirror_mode": "r",
   "file_extension": ".r",
   "mimetype": "text/x-r-source",
   "name": "R",
   "pygments_lexer": "r",
   "version": "4.3.1"
  }
 },
 "nbformat": 4,
 "nbformat_minor": 5
}
