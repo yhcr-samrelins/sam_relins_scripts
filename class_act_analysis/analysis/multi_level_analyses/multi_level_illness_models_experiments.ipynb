{
 "cells": [
  {
   "cell_type": "markdown",
   "id": "a8c7abaa-4b3c-46c2-86bb-f6433db34e32",
   "metadata": {},
   "source": [
    "Summary: Experiments with heirachichal/multi-level modelling to account for in-group variance of repeated measures from schools. Several versions of these analyses/experiments were produced iteratively, the final of which contributed to a written report and can be found in `plots_for_multi_level_write_up.ipynb` \n",
    "\n",
    "Notes:\n",
    "* All models incorrectly assume independence of within-school observations and thus variance estimates/confidence intervals are not accurate. The observations are weekly rates, thus are auto-correlated. This relationship is explored in the notebook `autocorr_tests.ipynb`.\n",
    "* Bayesian sampling is used to estimate the model parameters (this method is later abandoned as being unnecessarily complex). \n",
    "* Multiple specifications of the logistic regression model are tested and the lowest BIC selected. This is somewhat arbitrary model selection, and several of the model variants are obviously functionally flawed i.e. increased CO2 decreasing illnesses or greater covid rates in the population decreasing illnesses etc.\n",
    "* LOESS curves are again used as a comparator. The fit is arbitrary - it's based on the default settings of ggplot, and are not based on an interpretable or statistically sound model, thus shouldn't be considered reliable when interpreting the effects of either ACTs (or absence of ACTs). \n",
    "* None of the analyses explore the high-leverage outlying observations"
   ]
  },
  {
   "cell_type": "code",
   "execution_count": null,
   "id": "c805eb0b-077e-4782-87fc-6699c634be3a",
   "metadata": {},
   "outputs": [],
   "source": [
    "library(tidyverse)\n",
    "library(tidybayes)\n",
    "library(bigrquery)\n",
    "library(brms)\n",
    "library(ggmcmc)\n",
    "library(loo)\n",
    "library(lubridate)\n",
    "library(gridExtra)\n",
    "library(grid)\n",
    "library(bayesplot)\n",
    "library(marginaleffects)\n",
    "library(table1)\n",
    "\n",
    "hepa_school_codes <- c(\"H01\", \"H02\", \"H03\", \"H04\", \"H05\", \"H06\", \"H07\", \"H08\", \n",
    "                       \"H09\", \"H10\", \"H11\")\n",
    "control_school_codes <- c(\"C01\", \"C02\", \"C03\", \"C04\", \"C05\", \"C09\", \"C10\", \n",
    "                          \"C11\", \"C12\", \"C13\", \"C14\")\n",
    "study_schools <- c(hepa_school_codes, control_school_codes)\n",
    "\n",
    "project_id=\"yhcr-prd-phm-bia-core\" \n",
    "attendance_sql <- \"SELECT * FROM `yhcr-prd-phm-bia-core.CY_CLASS_ACT.attendance`\"\n",
    "attendance_table <- bq_project_query(project_id, attendance_sql)\n",
    "\n",
    "attendance <- bq_table_download(attendance_table) %>%\n",
    "    filter(School_AnonID %in% study_schools) %>% \n",
    "    filter(WeekStart <= as.Date(\"2022-04-01\")) %>%\n",
    "    filter(pct_in_school > 0) \n",
    "\n",
    "attendance_data_threshold <- attendance$Unk / (attendance$pupils *  14) >= 0.01\n",
    "attendance[attendance_data_threshold, \"prop_absent_ill\"] <- NA\n",
    "\n",
    "attendance$arm <- \"None\"\n",
    "attendance[attendance$School_AnonID %in% control_school_codes, \"arm\"] <- \"Control\" \n",
    "attendance[attendance$School_AnonID %in% hepa_school_codes, \"arm\"] <- \"HEPA\"\n",
    "\n",
    "msoa_rates_link <- \"https://api.coronavirus.data.gov.uk/v2/data?areaType=msoa&areaCode=E08000032&metric=newCasesBySpecimenDateRollingRate&format=csv\"\n",
    "keep_cols <- c(\"msoa\", \"WeekStart\", \"covid_msoa_rate\")\n",
    "msoa_rates <- read_csv(msoa_rates_link) %>%\n",
    "    mutate(WeekStart = date - 5) %>%\n",
    "    rename(covid_msoa_rate = newCasesBySpecimenDateRollingRate, msoa = areaCode) %>%\n",
    "    select(all_of(keep_cols))\n",
    "\n",
    "cov_age_rate_link <- \"https://api.coronavirus.data.gov.uk/v2/data?areaType=ltla&areaCode=E08000032&metric=newCasesBySpecimenDateAgeDemographics&format=csv&release=2022-04-29\"\n",
    "cov_age_rates <- read_csv(cov_age_rate_link) %>%\n",
    "    filter(age %in% c(\"05_09\", \"10_14\")) %>%\n",
    "    filter(weekdays(date) == \"Saturday\") %>%\n",
    "    mutate(WeekStart = date - 5) %>%\n",
    "    group_by(WeekStart) %>%\n",
    "    summarise(covid_age_rate = mean(rollingRate))\n",
    "\n",
    "attendance <- attendance %>% \n",
    "    left_join(msoa_rates, by=c(\"WeekStart\", \"msoa\")) %>%\n",
    "    left_join(cov_age_rates, by=c(\"WeekStart\")) \n",
    "\n",
    "co2_sql <- \"SELECT School_ID, week_start, co2_mean FROM `yhcr-prd-phm-bia-core.CY_CLASS_ACT.stats_week_school`\"\n",
    "co2_table <- bq_project_query(project_id, co2_sql)\n",
    "co2 <- bq_table_download(co2_table)\n",
    "\n",
    "co2 <- co2 %>% \n",
    "    rename(WeekStart = week_start, School_AnonID = School_ID) \n",
    "\n",
    "attendance <- attendance %>% \n",
    "    left_join(co2, by=c(\"WeekStart\", \"School_AnonID\"))\n",
    "\n",
    "thresholds <- attendance %>% group_by(WeekStart) %>% \n",
    "    summarise(outlier_threshold = quantile(prop_absent_ill, p=0.75, na.rm=TRUE) + 3*(IQR(prop_absent_ill, na.rm=TRUE)))\n",
    "\n",
    "attendance <- attendance %>% \n",
    "    left_join(thresholds, by=\"WeekStart\") %>% \n",
    "    mutate(covid_age_rate_scaled = covid_age_rate / max(covid_age_rate), \n",
    "           covid_msoa_rate_scaled = covid_msoa_rate / max(covid_msoa_rate, na.rm=TRUE), \n",
    "           prop_absent_ill_scaled = prop_absent_ill / max(prop_absent_ill, na.rm=TRUE), \n",
    "           co2_mean_scaled = co2_mean / max(co2_mean, na.rm=TRUE), \n",
    "           is_outlier = prop_absent_ill > outlier_threshold)"
   ]
  },
  {
   "cell_type": "code",
   "execution_count": null,
   "id": "1e1f4767-94cf-4db4-b9f3-ecc5960f554b",
   "metadata": {},
   "outputs": [],
   "source": [
    "options(repr.plot.width = 7.5, repr.plot.height = 5, repr.plot.res = 200)\n",
    "ggplot(attendance) + \n",
    "    geom_boxplot(aes(x=WeekStart, \n",
    "                     y=covid_msoa_rate, \n",
    "                     group=WeekStart), \n",
    "                 color=\"blue\") +\n",
    "    geom_line(aes(x=WeekStart, y=covid_age_rate), color=\"red\")\n"
   ]
  },
  {
   "cell_type": "code",
   "execution_count": null,
   "id": "7f0f2885-d91b-43e9-89a6-30e13ac0dafd",
   "metadata": {},
   "outputs": [],
   "source": [
    "ggplot(attendance, aes(x=log(covid_msoa_rate), \n",
    "                       y=log(prop_absent_ill), \n",
    "                       color=arm)) + \n",
    "    geom_point(alpha=0.4) +\n",
    "    geom_smooth(method=\"lm\")"
   ]
  },
  {
   "cell_type": "code",
   "execution_count": null,
   "id": "96a44ca5-f2c0-488c-bcba-d5f0b65e7060",
   "metadata": {},
   "outputs": [],
   "source": [
    "ggplot(attendance, aes(x=log(covid_msoa_rate), \n",
    "                       y=log(prop_absent_ill))) + \n",
    "    geom_point(alpha=0.4) +\n",
    "    geom_smooth(method=\"lm\")"
   ]
  },
  {
   "cell_type": "code",
   "execution_count": null,
   "id": "a3a6c2e7-d994-4db6-a6b3-acc5d8560951",
   "metadata": {},
   "outputs": [],
   "source": [
    "ggplot(attendance, aes(x=log(covid_age_rate), \n",
    "                       y=log(prop_absent_ill), \n",
    "                       color=arm)) + \n",
    "    geom_jitter(alpha=0.4, width=0.03) +\n",
    "    geom_smooth(method=\"lm\")"
   ]
  },
  {
   "cell_type": "code",
   "execution_count": null,
   "id": "22b4c753-dae9-4651-9006-c993b17fbeca",
   "metadata": {},
   "outputs": [],
   "source": [
    "ggplot(attendance, aes(x=co2_mean, \n",
    "                       y=log(prop_absent_ill), \n",
    "                       color=arm)) + \n",
    "    geom_jitter(alpha=0.4, width=0.03) +\n",
    "    geom_smooth(method=\"lm\")"
   ]
  },
  {
   "cell_type": "code",
   "execution_count": null,
   "id": "4a78243f-6937-4cc9-a5a7-86277284528f",
   "metadata": {},
   "outputs": [],
   "source": [
    "options(repr.plot.width = 7.5, repr.plot.height = 5, repr.plot.res = 200)\n",
    "plot_1 <- (ggplot(\n",
    "    data=attendance %>% \n",
    "        mutate(month_year = as.Date(format(attendance$WeekStart, \"%Y-%m-01\")))\n",
    "    ) + geom_boxplot(mapping=aes(x=month_year,  \n",
    "                                 y=prop_absent_ill,  \n",
    "                                 color=arm,  \n",
    "                                 group=interaction(month_year, arm)), \n",
    "                   )\n",
    "    + labs(x=\"\", y=\"Illness Ratio\")\n",
    "     + ggtitle(\"Distribution of Illness Ratios by Month and Study Arm\") \n",
    "     + theme(plot.title = element_text(hjust = 0.5))\n",
    " )\n",
    "\n",
    "plot_2 <- (ggplot(attendance)\n",
    "           + geom_smooth(mapping=aes(x=WeekStart, y=prop_absent_ill, color=arm), method=\"loess\") \n",
    "           + labs(x=\"\", y=\"Illness Ratio\") \n",
    "           + ggtitle(\"LOESS Curves of Illness Ratio by Date: UVC vs Control\")  \n",
    "           + theme(plot.title = element_text(hjust = 0.5))\n",
    ")\n",
    "\n",
    "grid.arrange(plot_2, plot_1, nrow=2, heights=c(1.5,2))"
   ]
  },
  {
   "cell_type": "code",
   "execution_count": null,
   "id": "437336f1-4bf4-4df6-a399-9351612b6fa5",
   "metadata": {},
   "outputs": [],
   "source": [
    "options(repr.plot.width = 5, repr.plot.height = 5, repr.plot.res = 300)\n",
    "ggplot(attendance) + \n",
    "    geom_boxplot(aes(x=WeekStart, y=prop_absent_ill, group=WeekStart, color=\"Illness Ratio\"), color=\"black\") +\n",
    "    geom_line(data=attendance %>% filter(School_AnonID == \"H07\"), \n",
    "               mapping=aes(x=WeekStart, y=prop_absent_ill, group=\"School H07\"), color=\"red\") +\n",
    "    geom_point(data=attendance %>% filter(School_AnonID == \"H07\"), \n",
    "               mapping=aes(x=WeekStart, y=prop_absent_ill), color=\"red\")"
   ]
  },
  {
   "cell_type": "code",
   "execution_count": null,
   "id": "a2923324-dd7c-4667-a35e-06c349f530e6",
   "metadata": {},
   "outputs": [],
   "source": [
    "return_illness_model <- function(data, covariates) {\n",
    "    model_string <- append(\"prop_absent_ill ~ 1 + arm\", covariates)\n",
    "    model_string <- append(model_string, \"(1 | School_AnonID)\")\n",
    "    model_string <- paste(model_string, collapse=\" + \")\n",
    "    model <- brm(model_string, data = data, family=Gamma(link=\"log\"),  \n",
    "                 warmup = 500, iter = 2000, chains = 5, init = 1, cores = 5)\n",
    "    model <- add_criterion(model, \"loo\")\n",
    "    return(model)\n",
    "}\n",
    "\n",
    "msoa_model <- return_illness_model(\n",
    "    attendance %>% na.omit(), \n",
    "    \"covid_msoa_rate_scaled\"\n",
    ")\n",
    "int_msoa_model <- return_illness_model(\n",
    "    attendance %>% na.omit(), \n",
    "    \"covid_msoa_rate_scaled*arm\"\n",
    ")\n",
    "co2_model <- return_illness_model(\n",
    "    attendance %>% na.omit(),  \n",
    "    \"co2_mean_scaled\"\n",
    ")\n",
    "int_co2_model <- return_illness_model(\n",
    "    attendance %>% na.omit(),  \n",
    "    \"co2_mean_scaled*arm\"\n",
    ")\n",
    "msoa_co2_model <- return_illness_model(\n",
    "    attendance %>% na.omit(), \n",
    "    c(\"covid_msoa_rate_scaled\", \"co2_mean_scaled\")\n",
    ")\n",
    "int_msoa_co2_model <- return_illness_model(\n",
    "    attendance %>% na.omit(), \n",
    "    c(\"covid_msoa_rate_scaled*arm\", \"co2_mean_scaled\")\n",
    ")\n",
    "msoa_int_co2_model <- return_illness_model(\n",
    "    attendance %>% na.omit(), \n",
    "    c(\"covid_msoa_rate_scaled\", \"co2_mean_scaled*arm\")\n",
    ")\n",
    "int_msoa_int_co2_model <- return_illness_model(\n",
    "    attendance %>% na.omit(), \n",
    "    c(\"covid_msoa_rate_scaled*arm\", \"co2_mean_scaled*arm\")\n",
    ")\n",
    "age_model <- return_illness_model(\n",
    "    attendance %>% na.omit(), \n",
    "    \"covid_age_rate_scaled\"\n",
    ")\n",
    "int_age_model <- return_illness_model(\n",
    "    attendance %>% na.omit(), \n",
    "    \"covid_age_rate_scaled*arm\"\n",
    ")\n",
    "age_co2_model <- return_illness_model(\n",
    "    attendance %>% na.omit(), \n",
    "    c(\"covid_age_rate_scaled\", \"co2_mean_scaled\")\n",
    ")\n",
    "int_age_co2_model <- return_illness_model(\n",
    "    attendance %>% na.omit(), \n",
    "    c(\"covid_age_rate_scaled*arm\", \"co2_mean_scaled\")\n",
    ")\n",
    "age_int_co2_model <- return_illness_model(\n",
    "    attendance %>% na.omit(), \n",
    "    c(\"covid_age_rate_scaled\", \"co2_mean_scaled*arm\")\n",
    ")\n",
    "int_age_int_co2_model <- return_illness_model(\n",
    "    attendance %>% na.omit(), \n",
    "    c(\"covid_age_rate_scaled*arm\", \"co2_mean_scaled*arm\")\n",
    ")"
   ]
  },
  {
   "cell_type": "code",
   "execution_count": null,
   "id": "12fa6820-b94a-4383-8b61-9d9b9a546382",
   "metadata": {},
   "outputs": [],
   "source": [
    "loo_compare(msoa_model,  \n",
    "            int_msoa_model,  \n",
    "            co2_model,  \n",
    "            int_co2_model,  \n",
    "            msoa_co2_model,  \n",
    "            int_msoa_co2_model,  \n",
    "            msoa_int_co2_model,  \n",
    "            int_msoa_int_co2_model,  \n",
    "            age_model,  \n",
    "            int_age_model,  \n",
    "            age_co2_model,  \n",
    "            int_age_co2_model,  \n",
    "            age_int_co2_model,  \n",
    "            int_age_int_co2_model,\n",
    "            criterion=\"loo\")"
   ]
  },
  {
   "cell_type": "code",
   "execution_count": null,
   "id": "a3076147-1959-4e11-8f13-0eaca60d06fb",
   "metadata": {},
   "outputs": [],
   "source": [
    "msoa_int_co2_model"
   ]
  },
  {
   "cell_type": "code",
   "execution_count": null,
   "id": "68df6219-72f9-40ee-8efb-330b9bf38a26",
   "metadata": {},
   "outputs": [],
   "source": [
    "options(repr.plot.width = 5, repr.plot.height = 5, repr.plot.res = 300)\n",
    "color_scheme_set(\"darkgray\")\n",
    "plot <- mcmc_areas(msoa_int_co2_model, \n",
    "                   regex_pars=\"^b_*\", \n",
    "                   prob=.95)\n",
    "plot "
   ]
  },
  {
   "cell_type": "code",
   "execution_count": null,
   "id": "4fa8b72c-a3b8-418a-9933-a7ec7737e0c2",
   "metadata": {},
   "outputs": [],
   "source": [
    "names(msoa_int_co2_model$fit)"
   ]
  },
  {
   "cell_type": "code",
   "execution_count": null,
   "id": "fc081c88-3f1e-4e47-9738-cba17ad72963",
   "metadata": {},
   "outputs": [],
   "source": [
    "options(repr.plot.width = 5, repr.plot.height = 5, repr.plot.res = 300)\n",
    "\n",
    "plot_posterior_densities <- function(model_tab) {\n",
    "    ggplot(model_tab %>%  \n",
    "               filter(!grepl(\"\\\\[\", Parameter)) %>% \n",
    "               filter(grepl(\"b_\", Parameter))) + \n",
    "    geom_density(aes(x=value, fill=Parameter),  \n",
    "                 alpha=0.5) +  \n",
    "    geom_vline(xintercept=0, linetype=\"dashed\", col=\"red\") + \n",
    "    facet_grid(Parameter ~.) + \n",
    "    theme_light() \n",
    "}\n",
    "\n",
    "plot_posterior_densities <- function(model_tab) {\n",
    "    model_tab %>%   \n",
    "        filter(!grepl(\"\\\\[\", Parameter)) %>%  \n",
    "        filter(grepl(\"b_\", Parameter)) %>%\n",
    "    ggplot(aes(x=value, y=Parameter, fill=Parameter)) +\n",
    "    stat_halfeye(show.legend=FALSE) +\n",
    "    geom_vline(xintercept=0, linetype=\"dashed\", col=\"red\") + \n",
    "    theme_light() \n",
    "}\n",
    "\n",
    "plot_caterpillars <- function(model_tab) {\n",
    "    ggplot(model_tab %>% \n",
    "               filter(Parameter %in% c(\"b_armHEPA\", \"b_covid_rate\", \"b_Intercept\", \"b_co2_mean\")),\n",
    "           aes(x=Iteration, y=value, col=as.factor(Chain))) +\n",
    "      geom_line() +\n",
    "      facet_grid(Parameter ~ .) +\n",
    "      labs(title = \"Caterpillar Plots\", \n",
    "           col   = \"Chains\")\n",
    "}\n",
    "\n",
    "best_model_tab <- ggs(msoa_int_co2_model)\n",
    "plot_posterior_densities(best_model_tab)"
   ]
  },
  {
   "cell_type": "code",
   "execution_count": null,
   "id": "d2e7a301-6792-4689-923a-1c1fb5421dad",
   "metadata": {},
   "outputs": [],
   "source": [
    "?stat_slab"
   ]
  },
  {
   "cell_type": "code",
   "execution_count": null,
   "id": "ccec8ea3-1fc2-4a08-b9aa-b1fec5218ebc",
   "metadata": {},
   "outputs": [],
   "source": [
    "ggplot(best_model_tab %>%  \n",
    "           filter(Parameter == \"b_armHEPA\")) +\n",
    "geom_density(aes(x=value, fill=Parameter), \n",
    "                 alpha=0.5) +  \n",
    "geom_vline(xintercept=0, linetype=\"dashed\") + \n",
    "theme_light() "
   ]
  },
  {
   "cell_type": "code",
   "execution_count": null,
   "id": "f2d4fc4a-fa41-4c67-9f47-8c12a3f73580",
   "metadata": {},
   "outputs": [],
   "source": [
    "posterior_interval(best_model_tab %>% filter(Parameter == \"b_armHEPA\"))"
   ]
  },
  {
   "cell_type": "code",
   "execution_count": null,
   "id": "7dc70a3b-e2e8-432e-a680-3311c4fe8a07",
   "metadata": {},
   "outputs": [],
   "source": [
    "spread(best_model_tab)"
   ]
  },
  {
   "cell_type": "code",
   "execution_count": null,
   "id": "3af72a9c-44ef-43ba-bb7f-70db7baf5f08",
   "metadata": {},
   "outputs": [],
   "source": [
    "as_matrix\n",
    "(best_model_tab)"
   ]
  },
  {
   "cell_type": "code",
   "execution_count": null,
   "id": "d586e0fd-d350-4e2b-b46b-e37783d360c0",
   "metadata": {},
   "outputs": [],
   "source": []
  },
  {
   "cell_type": "code",
   "execution_count": null,
   "id": "26d9e0ea-67d4-47cb-9df5-5e5c490dcb82",
   "metadata": {},
   "outputs": [],
   "source": [
    "plot_caterpillars(best_model_tab)"
   ]
  },
  {
   "cell_type": "code",
   "execution_count": null,
   "id": "9643f2a8-03ae-45b2-97ff-0c5eda2dfd23",
   "metadata": {},
   "outputs": [],
   "source": [
    "no_msoa_model <- return_illness_model(\n",
    "    attendance %>% na.omit() %>% filter(!is_outlier), \n",
    "    \"covid_msoa_rate_scaled\"\n",
    ")\n",
    "no_int_msoa_model <- return_illness_model(\n",
    "    attendance %>% na.omit() %>% filter(!is_outlier), \n",
    "    \"covid_msoa_rate_scaled*arm\"\n",
    ")\n",
    "no_co2_model <- return_illness_model(\n",
    "    attendance %>% na.omit() %>% filter(!is_outlier),  \n",
    "    \"co2_mean_scaled\"\n",
    ")\n",
    "no_int_co2_model <- return_illness_model(\n",
    "    attendance %>% na.omit() %>% filter(!is_outlier),  \n",
    "    \"co2_mean_scaled*arm\"\n",
    ")\n",
    "no_msoa_co2_model <- return_illness_model(\n",
    "    attendance %>% na.omit() %>% filter(!is_outlier), \n",
    "    c(\"covid_msoa_rate_scaled\", \"co2_mean_scaled\")\n",
    ")\n",
    "no_int_msoa_co2_model <- return_illness_model(\n",
    "    attendance %>% na.omit() %>% filter(!is_outlier), \n",
    "    c(\"covid_msoa_rate_scaled*arm\", \"co2_mean_scaled\")\n",
    ")\n",
    "no_msoa_int_co2_model <- return_illness_model(\n",
    "    attendance %>% na.omit() %>% filter(!is_outlier), \n",
    "    c(\"covid_msoa_rate_scaled\", \"co2_mean_scaled*arm\")\n",
    ")\n",
    "no_int_msoa_int_co2_model <- return_illness_model(\n",
    "    attendance %>% na.omit() %>% filter(!is_outlier), \n",
    "    c(\"covid_msoa_rate_scaled*arm\", \"co2_mean_scaled*arm\")\n",
    ")\n",
    "no_age_model <- return_illness_model(\n",
    "    attendance %>% na.omit() %>% filter(!is_outlier), \n",
    "    \"covid_age_rate_scaled\"\n",
    ")\n",
    "no_int_age_model <- return_illness_model(\n",
    "    attendance %>% na.omit() %>% filter(!is_outlier), \n",
    "    \"covid_age_rate_scaled*arm\"\n",
    ")\n",
    "no_age_co2_model <- return_illness_model(\n",
    "    attendance %>% na.omit() %>% filter(!is_outlier), \n",
    "    c(\"covid_age_rate_scaled\", \"co2_mean_scaled\")\n",
    ")\n",
    "no_int_age_co2_model <- return_illness_model(\n",
    "    attendance %>% na.omit() %>% filter(!is_outlier), \n",
    "    c(\"covid_age_rate_scaled*arm\", \"co2_mean_scaled\")\n",
    ")\n",
    "no_age_int_co2_model <- return_illness_model(\n",
    "    attendance %>% na.omit() %>% filter(!is_outlier), \n",
    "    c(\"covid_age_rate_scaled\", \"co2_mean_scaled*arm\")\n",
    ")\n",
    "no_int_age_int_co2_model <- return_illness_model(\n",
    "    attendance %>% na.omit() %>% filter(!is_outlier), \n",
    "    c(\"covid_age_rate_scaled*arm\", \"co2_mean_scaled*arm\")\n",
    ")"
   ]
  },
  {
   "cell_type": "code",
   "execution_count": null,
   "id": "2f1e7db0-6103-46e8-95b3-cdcb0d9e31af",
   "metadata": {},
   "outputs": [],
   "source": [
    "loo_compare(no_msoa_model,  \n",
    "            no_int_msoa_model,  \n",
    "            no_co2_model,  \n",
    "            no_int_co2_model,  \n",
    "            no_msoa_co2_model,  \n",
    "            no_int_msoa_co2_model,  \n",
    "            no_msoa_int_co2_model,  \n",
    "            no_int_msoa_int_co2_model,  \n",
    "            no_age_model,  \n",
    "            no_int_age_model,  \n",
    "            no_age_co2_model,  \n",
    "            no_int_age_co2_model,  \n",
    "            no_age_int_co2_model,  \n",
    "            no_int_age_int_co2_model,\n",
    "            criterion=\"loo\")"
   ]
  },
  {
   "cell_type": "code",
   "execution_count": null,
   "id": "e1a8f2d8-7924-4d62-b2ee-7f454645b10a",
   "metadata": {},
   "outputs": [],
   "source": [
    "best_no_out_model_tab <- ggs(no_msoa_model)\n",
    "plot_posterior_densities(best_no_out_model_tab)"
   ]
  },
  {
   "cell_type": "code",
   "execution_count": null,
   "id": "a7d2b2c1-49d6-4c70-bf78-064039867976",
   "metadata": {},
   "outputs": [],
   "source": [
    "plot_caterpillars(best_no_out_model_tab)"
   ]
  },
  {
   "cell_type": "code",
   "execution_count": null,
   "id": "c1223163-daee-40cf-b29f-a0d89c953ac1",
   "metadata": {},
   "outputs": [],
   "source": [
    "prior_summary(basic_model_msoa_rate)"
   ]
  },
  {
   "cell_type": "code",
   "execution_count": null,
   "id": "93edc417-ea02-4992-93cf-603a2a996037",
   "metadata": {},
   "outputs": [],
   "source": [
    "options(repr.plot.width = 5, repr.plot.height = 5, repr.plot.res = 300)\n",
    "attendance %>%\n",
    "  add_residual_draws(brm_model) %>%\n",
    "  ggplot(aes(x = .row, y = .residual)) +\n",
    "  stat_pointinterval()"
   ]
  },
  {
   "cell_type": "code",
   "execution_count": null,
   "id": "43b4bd36-3a0e-448f-b6fa-8aa4d00eae54",
   "metadata": {},
   "outputs": [],
   "source": [
    "options(repr.plot.width = 5, repr.plot.height = 5, repr.plot.res = 300)\n",
    "attendance %>%\n",
    "  add_residual_draws(brm_model) %>%\n",
    "  median_qi() %>%\n",
    "  ggplot(aes(sample = .residual)) +\n",
    "  geom_qq() +\n",
    "  geom_qq_line()"
   ]
  },
  {
   "cell_type": "code",
   "execution_count": null,
   "id": "18a6f01b-8981-44b4-93f2-2cbf97e0940f",
   "metadata": {},
   "outputs": [],
   "source": [
    "glmer_model <- glmer(formula = prop_absent_ill ~ 1 + arm + covid_rate + (1 | School_AnonID),    \n",
    "                     data = attendance, \n",
    "                     family=Gamma(link=\"log\"))"
   ]
  },
  {
   "cell_type": "code",
   "execution_count": null,
   "id": "91a4aee8-ed1c-4d56-9e40-7747106f28bc",
   "metadata": {},
   "outputs": [],
   "source": [
    "summary(glmer_model)"
   ]
  },
  {
   "cell_type": "code",
   "execution_count": null,
   "id": "aed7f142-db9b-4746-941f-c834fa69a511",
   "metadata": {},
   "outputs": [],
   "source": [
    "options(repr.plot.width = 5, repr.plot.height = 5, repr.plot.res = 300)\n",
    "plot(fitted(glmer_model), resid(glmer_model, type = \"pearson\"))# this will create the plot\n",
    "abline(0,0, col=\"red\")"
   ]
  },
  {
   "cell_type": "code",
   "execution_count": null,
   "id": "b421da70-42e1-4365-9d70-665a873be2bd",
   "metadata": {},
   "outputs": [],
   "source": [
    "options(repr.plot.width = 5, repr.plot.height = 5, repr.plot.res = 300)\n",
    "qqnorm(resid(glmer_model)) \n",
    "qqline(resid(glmer_model), col = \"red\") # add a perfect fit line"
   ]
  },
  {
   "cell_type": "code",
   "execution_count": null,
   "id": "e6d828f3-e6c9-4696-bc45-43888644965f",
   "metadata": {},
   "outputs": [],
   "source": [
    "msoa_rates_link <- \"https://api.coronavirus.data.gov.uk/v2/data?areaType=msoa&areaCode=E08000032&metric=newCasesBySpecimenDateRollingRate&format=csv\"\n",
    "msoa_rates <- read_csv(msoa_rates_link)\n"
   ]
  },
  {
   "cell_type": "code",
   "execution_count": null,
   "id": "bdf54b52-1888-4796-9f37-9611247a83df",
   "metadata": {},
   "outputs": [],
   "source": [
    "head(msoa_rates)"
   ]
  }
 ],
 "metadata": {
  "environment": {
   "kernel": "ir",
   "name": "r-cpu.4-2.m110",
   "type": "gcloud",
   "uri": "gcr.io/deeplearning-platform-release/r-cpu.4-2:m110"
  },
  "kernelspec": {
   "display_name": "R",
   "language": "R",
   "name": "ir"
  },
  "language_info": {
   "codemirror_mode": "r",
   "file_extension": ".r",
   "mimetype": "text/x-r-source",
   "name": "R",
   "pygments_lexer": "r",
   "version": "4.3.1"
  }
 },
 "nbformat": 4,
 "nbformat_minor": 5
}
