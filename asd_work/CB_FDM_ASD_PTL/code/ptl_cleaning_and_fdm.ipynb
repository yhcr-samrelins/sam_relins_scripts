{
 "cells": [
  {
   "cell_type": "markdown",
   "id": "751bb5a0-1633-4b08-b648-75ed82cac911",
   "metadata": {},
   "source": [
    "## Notes on variables\n",
    "\n",
    "Summary of cleaning:\n",
    "\n",
    "* `person_id`: self explanatory\n",
    "* `tbl_autism_amalgamated_ptl_oct2022_start_date`: random column added for fdm spec - dropping as FDM builder handles this\n",
    "* `tbl_autism_amalgamated_ptl_oct2022_end_date`: random column added for fdm spec - dropping as FDM builder handles this\n",
    "* `date`: every entry is \"31/10/2022\". Drop.\n",
    "* `trust`: BDCT is coded as \"BDCT\", \"bDCT\" and \"BDCT\" - normalise all these\n",
    "* `department`: One entry coded as \"cAHMS\" - change to \"CAHMS\"\n",
    "* `gender_assigned_at_birth`: Lots of variations of M/F/Trans - normalise these.\n",
    "* `year_of_birth`: seems to *mostly* agree with demographics. combine with `month of birth` to form `dob` variable. Drop.\n",
    "* `month_of_birth`: As above. Drop\n",
    "* `age_will_update_automatically`: Not necessary - can calculate as required. Drop.\n",
    "* `pathway_allocated`: looks weird and already advised to ignore. Drop.\n",
    "* `asd_adhd`: describes ASD/ADHD assessments (?) in one string variable e.g. \"ASD\"/\"ASD & ADHD\" etc. Convert to two `asd` and `adhd` variables. Drop.\n",
    "* `lac`: Messy combo of Ys and Ns. Cleaned and converted to bool.\n",
    "* `ehcp`: similar to above. cleaned.\n",
    "* `started_assessment`: Advised to ignore. Drop.\n",
    "* `started_october_2022`: Advised to ignore. Drop.\n",
    "* `qb_dd_mm_yyyy`: 4 random entries that can't be converted - cleaning as with other date variables\n",
    "* `cognitive_assessment`: 3 random non-date entries. Nothing too concerning\n",
    "* `referral_date`: Just dates - convert to datetime.\n",
    "* `breach_date_13_weeks_to_first_contact`: Just dates. Convert to datetime.\n",
    "* `weeks_waiting_until_case_closed_will_update_automatically`: Numeric. Convert to float.\n",
    "* `date_closed_dd_mm_yyyy_when_closed_from_neuro`: Mostly dates, a couple of corrections and a few duplicates. Seems mostly fine so correct as usual. \n",
    "* `tbl_autism_amalgamated_ptl_oct2022_end_date`: same as above\n",
    "* `gp`: GP names as strings - possibly data risk. Check.\n",
    "* `ethnicity`: odd codes that aren't intuitive - A, C, F, H, J, NSP (maybe not specified). Seems to be a decent amount of disagreement with demographics ethnicity even considering only legible codings. No changes. Leave for now.\n",
    "* `ccg`: Lots of potential overlap i.e. \"Bradford\"/\"Bradford District\"/\"Bradford City\" - looks like it could do with cleaning. Not sure how to aggregate Bradford CCGs and not sure if this info is useful. Check.\n",
    "* `first_contact_autism_assessment_dd_mm_yyyy`: A couple of entries with multiple dates e.g. \"26/08/2020 + 25/11/2020\". Check if multi-date entries should be treated differently\n",
    "* `school_info_dd_mm_yyyy`: A handful of non-date entries, meaning unclear: \"Transfer of Care\"/\"Outstanding\"/\"Not in Education\"/\"Home Schooled\"/\"In Progress\"/\"Needed\"/\"Not in school\"/\"Requested\". Check if non-dates should be considered as non-NA\n",
    "* `school_obs_dd_mm_yyyy`: A few text entries that say \"YES\" or other odd strings and quite a few multi-date entries - cleaning as with other date variables. Check about \"YES\".\n",
    "* `ados_dd_mm_yyyy`: A few text entries that say \"School\" or other odd strings and a few multi-date entries. Check about random entries.\n",
    "* `salt_dd_mm_yyyy`: Quire a few text entries that say \"x\" and some other odd strings, loads of multi-dates. Check about \"x\" and random entries.\n",
    "* `mdt_dd_mm_yyyy`: Huge number of \"Clinical Partners\" entries (about 1/3) and significant number of \"Helios\". Treating as other date variables for the moment but may need to capture these entries. Check.\n",
    "* `feedback_given_dd_mm_yyyy`: Loads of entries with multiple dates. A few \"Helios\" and \"Clinical Partners\" entries. Treated as usual at the moment. Query.\n",
    "* `jac_report_circulated_dd_mm_yyyy`: Lots of notes like \"closed without decision\"/\"D/Cd ...\". Treat as normal now. Query.\n",
    "* `referral_source`: Loads of categories, looks like many could be cleaned into groups e.g. ['Paediatrician', 'Paediatrics', 'Community Paediatrics', 'Community paediatrics', 'Comm Paeds', 'Paediatricians', 'Paeditrician', 'Community Paediatric', 'Comm Paeds/GP', 'paediatrics', 'Community Paeds', 'community paeds', 'Paeditircian', 'Fast-track due to reccomendation from paeds for ADHD', 'Community Paed', 'S Bowring Paediatrics', 'Paeds', 'Paeditrician ', 'Dr Bowring - Paediatrics', 'Paedrician']. Have a proper go at cleaning and query.\n",
    "* `diagnosis`: Seems to be a combination of ASD, ADHD, \"Disch\" (presumably discharged) and \"No Diagnosis\" but lots of categories. For the moment will create `asd_diagnosis` and `adhd_diagnosis` variables with obs that obviously denote one of the two. Entries for \"diagnosis agreed\" can probably be cross-referenced with assessment type to mark diagnosis type as ASD/ADHD. Possibly also \"Disch-Complete\". Check.\n",
    "* `outsource`: Mostly No. Lots of categories otherwise, could maybe be grouped. Query."
   ]
  },
  {
   "cell_type": "code",
   "execution_count": null,
   "id": "d246c010-5355-47a6-b530-360109ca5737",
   "metadata": {},
   "outputs": [],
   "source": [
    "import re\n",
    "import pandas as pd\n",
    "import numpy as np\n",
    "from datetime import datetime, date, timedelta"
   ]
  },
  {
   "cell_type": "code",
   "execution_count": null,
   "id": "fe8b4327-f962-4fb7-a5a9-493d4a6dab4b",
   "metadata": {},
   "outputs": [],
   "source": [
    "# from FDMBuilder.FDM_helpers import clear_dataset\n",
    "# clear_dataset(\"CB_FDM_ASD_PTL\")"
   ]
  },
  {
   "cell_type": "code",
   "execution_count": null,
   "id": "fc1d78ac-2c3d-4765-867e-8f4f601ca1c8",
   "metadata": {},
   "outputs": [],
   "source": [
    "project_id = \"yhcr-prd-phm-bia-core\"\n",
    "dd_loc = \"CB_STAGING_DATABASE_WAREHOUSE_FDM_Format.tbl_autism_amalgamated_ptl_oct2022\"\n",
    "sql = f\"SELECT * FROM `{project_id}.{dd_loc}` dd \"\n",
    "asd_data = pd.read_gbq(sql)"
   ]
  },
  {
   "cell_type": "code",
   "execution_count": null,
   "id": "d9202f64-f392-4323-aad7-188086c35a51",
   "metadata": {},
   "outputs": [],
   "source": [
    "asd_data.head()"
   ]
  },
  {
   "cell_type": "code",
   "execution_count": null,
   "id": "78a3148e-36f4-4141-9527-dc9bb6064fc8",
   "metadata": {},
   "outputs": [],
   "source": [
    "asd_data.info()"
   ]
  },
  {
   "cell_type": "markdown",
   "id": "056c4ad7-7a6a-492a-98d5-24bb976e5428",
   "metadata": {},
   "source": [
    "# Cleaning\n",
    "\n",
    "## tbl_autism_amalgamated_ptl_oct2022_start/end_date\n",
    "\n",
    "random columns added for some spurious FDM reason - drop as FDMBuilder (below) handles start/end dates"
   ]
  },
  {
   "cell_type": "code",
   "execution_count": null,
   "id": "e261c390-b0fe-4a0a-8cd7-761ef9ee9268",
   "metadata": {},
   "outputs": [],
   "source": [
    "asd_data.drop([\"tbl_autism_amalgamated_ptl_oct2022_start_date\",\n",
    "               \"tbl_autism_amalgamated_ptl_oct2022_end_date\"], \n",
    "              inplace=True, \n",
    "              axis=1)"
   ]
  },
  {
   "cell_type": "markdown",
   "id": "66e12c1b-d0d2-4f0f-bb28-97d9a8850ba0",
   "metadata": {},
   "source": [
    "## Date\n",
    "\n",
    "Drop \"Date\" as every entry is \"31/10/2022\""
   ]
  },
  {
   "cell_type": "code",
   "execution_count": null,
   "id": "838b8885-7c1b-4102-a151-70dd628759f1",
   "metadata": {},
   "outputs": [],
   "source": [
    "asd_data.date.value_counts()"
   ]
  },
  {
   "cell_type": "code",
   "execution_count": null,
   "id": "88b1d3d6-cf3e-4513-a92b-df4debe2e407",
   "metadata": {},
   "outputs": [],
   "source": [
    "asd_data.drop(\"date\", inplace=True, axis=1)"
   ]
  },
  {
   "cell_type": "markdown",
   "id": "869d2b58-2db1-4efd-bda9-b716b3a63895",
   "metadata": {},
   "source": []
  },
  {
   "cell_type": "markdown",
   "id": "1b454ace-c8ed-455d-a79a-e110758fb67d",
   "metadata": {},
   "source": [
    "## Trust\n",
    "\n",
    "BDCT is coded as \"BDCT\", \"bDCT\" and \"BDCT\" - normalise all these"
   ]
  },
  {
   "cell_type": "code",
   "execution_count": null,
   "id": "2de6257b-8965-49aa-8cdb-75d084460aaa",
   "metadata": {},
   "outputs": [],
   "source": [
    "asd_data.trust.value_counts()"
   ]
  },
  {
   "cell_type": "code",
   "execution_count": null,
   "id": "69f85216-8920-4f4b-86c4-b1093c4b020a",
   "metadata": {},
   "outputs": [],
   "source": [
    "asd_data[\"trust\"] = asd_data.trust.apply(\n",
    "    lambda x: \"BDCT\" if type(x) == str and x.strip().lower() == \"bdct\" else x\n",
    ")"
   ]
  },
  {
   "cell_type": "code",
   "execution_count": null,
   "id": "40623f82-3d8c-4eb7-84cb-f11c4bd6157e",
   "metadata": {},
   "outputs": [],
   "source": [
    "asd_data.trust.value_counts()"
   ]
  },
  {
   "cell_type": "markdown",
   "id": "109340ae-1934-4364-859d-bb9503b4e75d",
   "metadata": {},
   "source": [
    "## Department\n",
    "\n",
    "One entry coded as \"cAHMS\" - change to \"CAHMS\""
   ]
  },
  {
   "cell_type": "code",
   "execution_count": null,
   "id": "c175d959-451c-4c56-abd3-eb08aa31d125",
   "metadata": {},
   "outputs": [],
   "source": [
    "asd_data.department.value_counts()"
   ]
  },
  {
   "cell_type": "code",
   "execution_count": null,
   "id": "743eb17e-c5bf-48d3-88d2-45b236937259",
   "metadata": {},
   "outputs": [],
   "source": [
    "asd_data[\"department\"] = asd_data.department.apply(\n",
    "    lambda x: \"CAMHS\" if type(x) == str and x.strip().lower() == \"camhs\" else x\n",
    ")"
   ]
  },
  {
   "cell_type": "code",
   "execution_count": null,
   "id": "6e38ba5a-d59f-44a1-a52e-8e01dcf546c6",
   "metadata": {},
   "outputs": [],
   "source": [
    "asd_data.department.value_counts()"
   ]
  },
  {
   "cell_type": "markdown",
   "id": "084f14fe-dbc4-4e8a-81b0-c461308a28a8",
   "metadata": {},
   "source": [
    "## Gender_assigned_at_birth\n",
    "\n",
    "Lots of variations of M/F/Trans - normalise these."
   ]
  },
  {
   "cell_type": "code",
   "execution_count": null,
   "id": "e7c09719-7615-426d-b7dc-3379b64c4762",
   "metadata": {},
   "outputs": [],
   "source": [
    "asd_data.gender_assigned_at_birth.value_counts()"
   ]
  },
  {
   "cell_type": "code",
   "execution_count": null,
   "id": "8fd87053-f06c-475d-83f2-5bbd28dff8e8",
   "metadata": {},
   "outputs": [],
   "source": [
    "normalised_genders = {\n",
    "    'Male': \"M\",  'M': \"M\",  'Male ': \"M\",  'male': \"M\",  ' Male': \"M\", \n",
    "    'F': \"F\",  'Female': \"F\",  'female': \"F\", \n",
    "    'Transgender': \"Transgender\", 'Female but identifies as male': \"Transgender\", \n",
    "    'Indeterminate': \"Indeterminate\"\n",
    "}\n",
    "\n",
    "asd_data[\"gender\"] = asd_data.gender_assigned_at_birth.apply(\n",
    "    lambda x: normalised_genders[x] if type(x) == str else x\n",
    ")"
   ]
  },
  {
   "cell_type": "code",
   "execution_count": null,
   "id": "56cf2df3-8440-44ce-b491-86fd3fb1af1d",
   "metadata": {},
   "outputs": [],
   "source": [
    "asd_data.gender.value_counts()"
   ]
  },
  {
   "cell_type": "markdown",
   "id": "12b6b607-34bb-49ef-a4ef-11230c157226",
   "metadata": {},
   "source": [
    "## Year_of_birth/Month_of_birth/Age_will_update_automatically\n",
    "\n",
    "can drop Age_will_update_automatically\n",
    "\n",
    "ages mostly seem to agree with demographics and fewer missing entries so will keep for the moment - will adjust to datetime to make life easier"
   ]
  },
  {
   "cell_type": "code",
   "execution_count": null,
   "id": "06bc0f32-a217-4043-a4d6-5893b0e2d015",
   "metadata": {},
   "outputs": [],
   "source": [
    "demo_loc = \"CB_STAGING_DATABASE.src_DemoGraphics_MASTER\"\n",
    "sql = (\"SELECT person_id, dob_formatted AS demo_dob \"\n",
    "       f\"FROM `{project_id}.{demo_loc}` demo \"\n",
    "       f\"WHERE EXISTS(SELECT person_id FROM `{project_id}.{dd_loc}` dd WHERE dd.person_id = demo.person_id)\"\n",
    "      )\n",
    "test_dobs = pd.read_gbq(sql)\n",
    "test_dobs[\"demo_dob\"] = test_dobs.demo_dob.astype(\"datetime64[ns]\")\n",
    "test_dobs = test_dobs.merge(asd_data[[\"person_id\", \"year_of_birth\", \"month_of_birth\"]], \n",
    "                            on=\"person_id\")\n",
    "test_dobs[\"year\"] = (test_dobs.year_of_birth\n",
    " .apply(lambda x: re.sub(\"[^0-9]+\", \"\", x).lower() if type(x) == str else x)\n",
    " .replace(\"\", None)\n",
    " .astype(float)\n",
    " .apply(lambda x: None if x < 1980 or x > 2023 else x)\n",
    ")\n",
    "test_dobs[\"month\"] = (test_dobs.month_of_birth\n",
    " .apply(lambda x: re.sub(\"[^0-9]+\", \"\", x).lower() if type(x) == str else x)\n",
    " .replace(\"\", None)\n",
    " .astype(float)\n",
    " .apply(lambda x: None if x < 1 or x > 12 else x)\n",
    ")\n",
    "def convert_date(x):\n",
    "    if np.isnan(x.year) or np.isnan(x.month):\n",
    "        output = None\n",
    "    else:\n",
    "        output = date(int(x.year), int(x.month), 15)\n",
    "    return output\n",
    "test_dobs[\"dd_date\"] = test_dobs.apply(convert_date, axis=1).astype(\"datetime64[ns]\")\n",
    "test_dobs[\"days_diff\"] = (abs(test_dobs.dd_date - test_dobs.demo_dob))\n",
    "diff_dobs = sum(test_dobs.days_diff > timedelta(days=0))\n",
    "diff_dobs_100 = sum(test_dobs.days_diff > timedelta(days=100)) \n",
    "diff_dobs_year = sum(test_dobs.days_diff > timedelta(days=365))\n",
    "print(f\"\"\"\n",
    "    No of entries where d.o.bs differ = {diff_dobs} ({np.round(diff_dobs / asd_data.person_id.nunique() * 100, 2)}%)\n",
    "    No of entries where d.o.bs differ by 100 days or more = {diff_dobs_100} ({np.round(diff_dobs_100 / asd_data.person_id.nunique() * 100, 2)}%)\n",
    "    No of entries where d.o.bs differ by one year or more = {diff_dobs_year} ({np.round(diff_dobs_year / asd_data.person_id.nunique() * 100, 2)}%)\n",
    "\"\"\")"
   ]
  },
  {
   "cell_type": "code",
   "execution_count": null,
   "id": "43e14840-ee61-4f69-9857-e222c56fb5bb",
   "metadata": {},
   "outputs": [],
   "source": [
    "asd_data[\"year_ob\"] = (asd_data.year_of_birth\n",
    " .apply(lambda x: re.sub(\"[^0-9]+\", \"\", x).lower() if type(x) == str else x)\n",
    " .replace(\"\", None)\n",
    " .astype(float)\n",
    " .apply(lambda x: None if x < 1980 or x > 2023 else x)\n",
    ")\n",
    "asd_data[\"month_ob\"] = (asd_data.month_of_birth\n",
    " .apply(lambda x: re.sub(\"[^0-9]+\", \"\", x).lower() if type(x) == str else x)\n",
    " .replace(\"\", None)\n",
    " .astype(float)\n",
    " .apply(lambda x: None if x < 1 or x > 12 else x)\n",
    ")\n",
    "def convert_date(x):\n",
    "    if np.isnan(x.year_ob) or np.isnan(x.month_ob):\n",
    "        output = None\n",
    "    else:\n",
    "        output = date(int(x.year_ob), int(x.month_ob), 15)\n",
    "    return output\n",
    "asd_data[\"dob\"] = asd_data.apply(convert_date, axis=1).astype(\"datetime64[ns]\")\n",
    "dob_drop_cols = [\"year_of_birth\", \"month_of_birth\", \"year_ob\", \"month_ob\", \n",
    "                 \"age_will_update_automatically\"]\n",
    "asd_data.drop(dob_drop_cols, inplace=True, axis=1)"
   ]
  },
  {
   "cell_type": "markdown",
   "id": "b1b2a4e9-d710-49e9-962c-646b847ac7a9",
   "metadata": {},
   "source": [
    "## Ethnicity\n",
    "\n",
    "odd codes that aren't intuitive - A, C, F, H, J, NSP (maybe not specified). Seems to be a decent amount of disagreement with demographics ethnicity even considering only legible codings. Maybe needs checking. No changes."
   ]
  },
  {
   "cell_type": "code",
   "execution_count": null,
   "id": "0b35a664-eaf1-43fd-8972-35b91fb923fc",
   "metadata": {},
   "outputs": [],
   "source": [
    "ethnic_group_regex = \"REGEXP_EXTRACT(demo.census_ethnicity, r'^(.+?):')\"\n",
    "ethnic_group = f\"\"\"\n",
    "    CASE\n",
    "        WHEN {ethnic_group_regex} IS NOT NULL THEN {ethnic_group_regex}\n",
    "        ELSE \"Unknown\"\n",
    "    END AS ethnic_group\n",
    "\"\"\"\n",
    "sql = (f\"SELECT person_id, {ethnic_group} \"\n",
    "       f\"FROM `{project_id}.{demo_loc}` demo \"\n",
    "       f\"WHERE EXISTS(SELECT person_id FROM `{project_id}.{dd_loc}` dd WHERE dd.person_id = demo.person_id)\"\n",
    "      )\n",
    "test_eths = pd.read_gbq(sql)\n",
    "test_eths = test_eths.merge(asd_data[[\"person_id\", \"ethnicity\"]], \n",
    "                            on=\"person_id\")"
   ]
  },
  {
   "cell_type": "code",
   "execution_count": null,
   "id": "13c9ad8f-7297-4c9f-9d7d-07f3dcc4f798",
   "metadata": {},
   "outputs": [],
   "source": [
    "test_eths.groupby([\"ethnic_group\", \"ethnicity\"]).agg(\"count\").sort_values(\"person_id\", ascending=False).head(20)"
   ]
  },
  {
   "cell_type": "markdown",
   "id": "3bebe70a-0561-4466-adbd-7a2db0082a41",
   "metadata": {},
   "source": [
    "## GP\n",
    "\n",
    "Too varied to do anything with - probs not useful anyways. Leave for now"
   ]
  },
  {
   "cell_type": "code",
   "execution_count": null,
   "id": "9eae8d2e-5c2b-483a-b202-5bc1d5196fce",
   "metadata": {},
   "outputs": [],
   "source": [
    "asd_data.gp.value_counts()"
   ]
  },
  {
   "cell_type": "markdown",
   "id": "c4d84521-06b2-4a4c-bf55-56050f38b610",
   "metadata": {},
   "source": [
    "## CCG\n",
    "\n",
    "Lots of potential overlap i.e. \"Bradford\"/\"Bradford District\"/\"Bradford City\" - looks like it could do with cleaning. Not sure how to aggregate Bradford CCGs and not sure if this info is useful, so leave for now"
   ]
  },
  {
   "cell_type": "code",
   "execution_count": null,
   "id": "024ab382-8e54-4a0c-aa73-14a7a570423d",
   "metadata": {},
   "outputs": [],
   "source": [
    "asd_data.ccg.value_counts()"
   ]
  },
  {
   "cell_type": "markdown",
   "id": "30002737-6e26-4f91-8827-a5f66ab047f5",
   "metadata": {},
   "source": [
    "## Pathway_allocated\n",
    "\n",
    "Looks v odd - advised to ignore so will drop."
   ]
  },
  {
   "cell_type": "code",
   "execution_count": null,
   "id": "9a89b71c-e8d4-4bbb-9ef5-a6e5b11a6c8f",
   "metadata": {},
   "outputs": [],
   "source": [
    "asd_data.pathway_allocated.value_counts()"
   ]
  },
  {
   "cell_type": "code",
   "execution_count": null,
   "id": "a1db88f1-fb6c-4502-b8d8-692f5af0a5a3",
   "metadata": {},
   "outputs": [],
   "source": [
    "asd_data.drop(\"pathway_allocated\", axis=1, inplace=True)"
   ]
  },
  {
   "cell_type": "markdown",
   "id": "869a555e-fb7e-4ed6-850c-3ae4223b603c",
   "metadata": {},
   "source": [
    "## ASD_ADHD\n",
    "\n",
    "Codes for ASD and ADHD - separate into two binary variables"
   ]
  },
  {
   "cell_type": "code",
   "execution_count": null,
   "id": "9587bfb9-290a-4aaa-a1b0-e72cc858ac86",
   "metadata": {},
   "outputs": [],
   "source": [
    "asd_data.asd_adhd.value_counts()"
   ]
  },
  {
   "cell_type": "code",
   "execution_count": null,
   "id": "e9d47b10-8710-460f-bd56-46d18d196598",
   "metadata": {},
   "outputs": [],
   "source": [
    "def parse_asd_adhd_strings(string):\n",
    "    if not type(string) == str or \"no \" in string.lower():\n",
    "        return (False, False)\n",
    "    else:\n",
    "        string_list = re.split(r\"\\W+\", string.lower())\n",
    "    contains_asd = \"asd\" in string_list or \"asc\" in string_list\n",
    "    contains_adhd = \"adhd\" in string_list\n",
    "    return contains_asd, contains_adhd\n",
    "asd_data[[\"asd_assessment\", \"adhd_assessment\"]] = pd.DataFrame(\n",
    "    asd_data.asd_adhd.apply(parse_asd_adhd_strings).to_list()\n",
    ")\n",
    "asd_data.drop(\"asd_adhd\", axis=1, inplace=True)"
   ]
  },
  {
   "cell_type": "markdown",
   "id": "bd9170c0-cc47-4bb1-b522-8c888b50ba4e",
   "metadata": {},
   "source": [
    "## LAC\n",
    "\n",
    "Messy combo of Ys and Ns. Cleaned and converted to bool."
   ]
  },
  {
   "cell_type": "code",
   "execution_count": null,
   "id": "1a680d4c-d816-42b5-85cc-bb55f8b12689",
   "metadata": {},
   "outputs": [],
   "source": [
    "asd_data.lac.value_counts()"
   ]
  },
  {
   "cell_type": "code",
   "execution_count": null,
   "id": "3ce44ff4-ee45-4cf1-99b2-9f800618ee0d",
   "metadata": {},
   "outputs": [],
   "source": [
    "corrected_lac = {\n",
    "    'No': False, 'Yes': True, 'YES': True, 'y': True, 'No ': False, 'Y': True, \n",
    "    'LAC': True\n",
    "}\n",
    "asd_data[\"lac\"] = (asd_data\n",
    "                   .lac\n",
    "                   .apply(lambda x: corrected_lac[x] if not x is None else None)\n",
    "                   .astype(\"float\"))"
   ]
  },
  {
   "cell_type": "code",
   "execution_count": null,
   "id": "01315351-89b4-4774-a8bd-c32930aeb587",
   "metadata": {},
   "outputs": [],
   "source": [
    "asd_data.lac.value_counts()"
   ]
  },
  {
   "cell_type": "markdown",
   "id": "950eff88-b351-46d0-b347-cfc746367739",
   "metadata": {},
   "source": [
    "## EHCP\n",
    "\n",
    "similar to above. Clean"
   ]
  },
  {
   "cell_type": "code",
   "execution_count": null,
   "id": "7e1f6951-008e-4ecd-87a6-fcf5ce7e3a0b",
   "metadata": {},
   "outputs": [],
   "source": [
    "asd_data.ehcp.value_counts()"
   ]
  },
  {
   "cell_type": "code",
   "execution_count": null,
   "id": "add182c2-bb70-4046-8a9e-540914a9bca2",
   "metadata": {},
   "outputs": [],
   "source": [
    "asd_data[\"ehcp\"] = (asd_data\n",
    "                   .ehcp\n",
    "                   .apply(lambda x: corrected_lac[x] if not x is None else None)\n",
    "                   .astype(\"float\"))"
   ]
  },
  {
   "cell_type": "code",
   "execution_count": null,
   "id": "e63a9e9d-0b7c-499e-88f7-a28ad8dec033",
   "metadata": {},
   "outputs": [],
   "source": [
    "asd_data.ehcp.value_counts()"
   ]
  },
  {
   "cell_type": "markdown",
   "id": "fcb26992-8a03-4aab-b7e9-6e5c9a403f6f",
   "metadata": {},
   "source": [
    "## Started_assessment\n",
    "\n",
    "Advised to ignore so will drop"
   ]
  },
  {
   "cell_type": "code",
   "execution_count": null,
   "id": "4c329f4f-421b-47a5-819c-c7b7ddeab970",
   "metadata": {},
   "outputs": [],
   "source": [
    "asd_data.drop(\"started_assessment\", axis=1, inplace=True)"
   ]
  },
  {
   "cell_type": "markdown",
   "id": "964eb211-be15-40eb-b0ad-e7076a980408",
   "metadata": {},
   "source": [
    "## Started_October_2022\n",
    "\n",
    "Same as above"
   ]
  },
  {
   "cell_type": "code",
   "execution_count": null,
   "id": "79353af5-a433-4528-9f10-d06eab5cd50c",
   "metadata": {},
   "outputs": [],
   "source": [
    "asd_data.drop(\"started_october_2022\", axis=1, inplace=True)"
   ]
  },
  {
   "cell_type": "markdown",
   "id": "ae382845-cb50-4029-ab58-dcf35c88b571",
   "metadata": {},
   "source": [
    "## Helper functions"
   ]
  },
  {
   "cell_type": "code",
   "execution_count": null,
   "id": "60f49c31-6a3c-4e3b-be2d-d8c1d66ed7ab",
   "metadata": {},
   "outputs": [],
   "source": [
    "import re\n",
    "        \n",
    "def no_nas(string):\n",
    "    if type(string) != str:\n",
    "        return string\n",
    "    elif re.sub(\"[^a-z]+\", \"\", string.lower()) == \"na\":\n",
    "        return None\n",
    "    else:\n",
    "        return string\n",
    "    \n",
    "def convert_date_string(date_string, return_non_dates=False):\n",
    "    date_string = no_nas(date_string)\n",
    "    if date_string is None:\n",
    "        return None\n",
    "    date_list = re.split(r\"[^\\w]+\", date_string)\n",
    "    if len(date_list) == 1:\n",
    "        return date_string if return_non_dates else None\n",
    "    elif len(date_list) > 3:\n",
    "        if return_non_dates:\n",
    "            return date_string \n",
    "        else:\n",
    "            day, month, year = date_list[:3]\n",
    "    elif len(date_list) == 2:\n",
    "        day = \"15\"\n",
    "        month, year = date_list\n",
    "    else:\n",
    "        day, month, year = date_list\n",
    "    m_format = \"%b\" if len(month) == 3 else \"%m\"\n",
    "    y_format = \"%y\" if len(year) == 2 else \"%Y\"\n",
    "    datetime_string = f\"{day} {month} {year}\"\n",
    "    try:\n",
    "        date_obj = datetime.strptime(datetime_string, f'%d {m_format} {y_format}')\n",
    "        return date_obj.strftime('%Y/%m/%d') if not return_non_dates else None\n",
    "    except:\n",
    "        return date_string if return_non_dates else None\n",
    "    \n",
    "def print_problem_dates(date_series):\n",
    "    for date in date_series.apply(no_nas):\n",
    "        convert_date_string(date, verbose=True)"
   ]
  },
  {
   "cell_type": "markdown",
   "id": "cb5b0fb0-7813-4bd2-9350-93e42c72ef4c",
   "metadata": {},
   "source": [
    "## first_contact_autism_assessment_dd_mm_yyyy\n",
    "\n",
    "A couple of entries with multiple dates e.g. \"26/08/2020 + 25/11/2020\" - for the moment cleaning dates and adjusting multiple date entries to first date. Check if multi-date entries should be treated differently\n",
    "\n",
    "remove \"dd_mm_yyyy\" as unnecessarily verbose and will be converted to datetime so unnecessary anyways"
   ]
  },
  {
   "cell_type": "code",
   "execution_count": null,
   "id": "83cda8cd-45e2-47b8-b778-3dc0d707ad63",
   "metadata": {},
   "outputs": [],
   "source": [
    "asd_data.first_contact_autism_assessment_dd_mm_yyyy.apply(\n",
    "    lambda x: convert_date_string(x, return_non_dates=True)\n",
    ").value_counts()"
   ]
  },
  {
   "cell_type": "code",
   "execution_count": null,
   "id": "1697ce04-1247-4b96-8baf-6f388286a61e",
   "metadata": {},
   "outputs": [],
   "source": [
    "# manually convert a few dates:\n",
    "\n",
    "fca_corrections = {\n",
    "    \"21/12/20220\": \"21/12/2022\",\n",
    "    \"27/108/2021\": \"27/08/2021\",\n",
    "    \"10/08/22`\": \"10/08/22\",\n",
    "}\n",
    "asd_data[\"first_contact_autism_assessment\"] = (\n",
    "    asd_data.\n",
    "    first_contact_autism_assessment_dd_mm_yyyy.\n",
    "    apply(lambda x: fca_corrections[x] if x in fca_corrections.keys() else x)\n",
    ")\n",
    "asd_data.drop(\"first_contact_autism_assessment_dd_mm_yyyy\", \n",
    "              axis=1, \n",
    "              inplace=True)"
   ]
  },
  {
   "cell_type": "code",
   "execution_count": null,
   "id": "5c41efb4-acfc-4eb9-b73d-ed9aafeea82e",
   "metadata": {},
   "outputs": [],
   "source": [
    "asd_data[\"first_contact_autism_assessment_notes\"] = (\n",
    "    asd_data.\n",
    "    first_contact_autism_assessment. \n",
    "    apply(lambda x: convert_date_string(x, return_non_dates=True))\n",
    ")\n",
    "    \n",
    "asd_data[\"first_contact_autism_assessment\"] = (\n",
    "    asd_data.\n",
    "    first_contact_autism_assessment.\n",
    "    apply(convert_date_string).\n",
    "    astype(\"datetime64[ns]\")\n",
    ")"
   ]
  },
  {
   "cell_type": "code",
   "execution_count": null,
   "id": "15f58fee-15b1-4d27-ae34-5dd867d51241",
   "metadata": {},
   "outputs": [],
   "source": [
    "asd_data.first_contact_autism_assessment.min()"
   ]
  },
  {
   "cell_type": "code",
   "execution_count": null,
   "id": "2d5c4199-1dc9-424e-9783-c70a3bfcba93",
   "metadata": {},
   "outputs": [],
   "source": [
    "asd_data.first_contact_autism_assessment.max()"
   ]
  },
  {
   "cell_type": "markdown",
   "id": "4b4298c2-7f92-4e98-aea6-36810196f58a",
   "metadata": {},
   "source": [
    "# school_info_dd_mm_yyyy\n",
    "\n",
    "A handful of non-date entries, meaning unclear: \"Transfer of Care\"/\"Outstanding\"/\"Not in Education\"/\"Home Schooled\"/\"In Progress\"/\"Needed\"/\"Not in school\"/\"Requested\" - for the moment cleaning dates and recording non-dates as NAs. Check if non-dates should be considered as non-NA\n",
    "\n",
    "As before remove \"dd_mm_yyyy\""
   ]
  },
  {
   "cell_type": "code",
   "execution_count": null,
   "id": "4640d0df-2600-4e38-aa5f-45444556ca08",
   "metadata": {},
   "outputs": [],
   "source": [
    "asd_data.school_info_dd_mm_yyyy.apply(\n",
    "    lambda x: convert_date_string(x, return_non_dates=True)\n",
    ").value_counts()"
   ]
  },
  {
   "cell_type": "code",
   "execution_count": null,
   "id": "29625011-030c-4d4a-bcc8-5b3bad662df6",
   "metadata": {},
   "outputs": [],
   "source": [
    "# manually convert a few dates:\n",
    "\n",
    "asd_data[\"school_info\"] = (\n",
    "    asd_data\n",
    "    .school_info_dd_mm_yyyy\n",
    "    .apply(lambda x: \"17/09/2021\" if x == \"17/09/2021 (in Helios Report)\" else x)\n",
    ")\n",
    "asd_data.drop(\"school_info_dd_mm_yyyy\", \n",
    "              axis=1, \n",
    "              inplace=True)"
   ]
  },
  {
   "cell_type": "code",
   "execution_count": null,
   "id": "213a253f-9863-40fd-932b-89e5ebd606ea",
   "metadata": {},
   "outputs": [],
   "source": [
    "asd_data[\"school_info_notes\"] = (\n",
    "    asd_data\n",
    "    .school_info\n",
    "    .apply(lambda x: convert_date_string(x, return_non_dates=True))\n",
    ")\n",
    "    \n",
    "asd_data[\"school_info\"] = (\n",
    "    asd_data\n",
    "    .school_info\n",
    "    .apply(convert_date_string)\n",
    "    .astype(\"datetime64[ns]\")\n",
    ")"
   ]
  },
  {
   "cell_type": "markdown",
   "id": "b210b2ea-0713-4238-960d-94050b7be5c1",
   "metadata": {},
   "source": [
    "## school_obs_dd_mm_yyyy\n",
    "\n",
    "A few text entries that say \"YES\" or other odd strings and quite a few multi-date entries - cleaning as with other date variables. Check about \"YES\"."
   ]
  },
  {
   "cell_type": "code",
   "execution_count": null,
   "id": "b1a4f019-7e84-4217-8be5-274ea1ccbaf6",
   "metadata": {},
   "outputs": [],
   "source": [
    "asd_data.school_obs_dd_mm_yyyy.apply(\n",
    "    lambda x: convert_date_string(x, return_non_dates=True)\n",
    ").value_counts()"
   ]
  },
  {
   "cell_type": "code",
   "execution_count": null,
   "id": "d81a52e9-31a4-4ae0-b140-f3fcdbe15b3a",
   "metadata": {},
   "outputs": [],
   "source": [
    "asd_data[\"school_obs\"] = (\n",
    "    asd_data\n",
    "    .school_obs_dd_mm_yyyy\n",
    "    .apply(convert_date_string)\n",
    "    .astype(\"datetime64[ns]\")\n",
    ")\n",
    "\n",
    "asd_data[\"school_obs_notes\"] = (\n",
    "    asd_data\n",
    "    .school_obs_dd_mm_yyyy\n",
    "    .apply(lambda x: convert_date_string(x, return_non_dates=True))\n",
    ")\n",
    "\n",
    "asd_data.drop(\"school_obs_dd_mm_yyyy\", \n",
    "              axis=1, \n",
    "              inplace=True)"
   ]
  },
  {
   "cell_type": "markdown",
   "id": "1a00eaf7-49ba-4085-bcb0-56a6fd5da57e",
   "metadata": {},
   "source": [
    "## ados_dd_mm_yyyy\n",
    "\n",
    "A few text entries that say \"School\" or other odd strings and a few multi-date entries - cleaning as with other date variables. Check about random entries."
   ]
  },
  {
   "cell_type": "code",
   "execution_count": null,
   "id": "e0c325f6-8886-47e4-a907-3d197edbd6cc",
   "metadata": {},
   "outputs": [],
   "source": [
    "asd_data.ados_dd_mm_yyyy.apply(\n",
    "    lambda x: convert_date_string(x, return_non_dates=True)\n",
    ").value_counts()"
   ]
  },
  {
   "cell_type": "code",
   "execution_count": null,
   "id": "12373ca9-436c-4b60-9d21-032f34245ab4",
   "metadata": {},
   "outputs": [],
   "source": [
    "asd_data[\"ados\"] = (\n",
    "    asd_data\n",
    "    .ados_dd_mm_yyyy\n",
    "    .apply(convert_date_string)\n",
    "    .astype(\"datetime64[ns]\")\n",
    ")\n",
    "\n",
    "asd_data[\"ados_notes\"] = (\n",
    "    asd_data\n",
    "    .ados_dd_mm_yyyy\n",
    "    .apply(lambda x: convert_date_string(x, return_non_dates=True))\n",
    ")\n",
    "    \n",
    "asd_data.drop(\"ados_dd_mm_yyyy\", \n",
    "              axis=1, \n",
    "              inplace=True)"
   ]
  },
  {
   "cell_type": "markdown",
   "id": "24d613ab-ee2b-42d4-9e9b-7457c0680e8b",
   "metadata": {},
   "source": [
    "## salt_dd_mm_yyyy\n",
    "\n",
    "Quire a few text entries that say \"x\" and some other odd strings, loads of multi-dates - cleaning as with other date variables. Check about \"x\" and random entries."
   ]
  },
  {
   "cell_type": "code",
   "execution_count": null,
   "id": "69ff5cee-8f7b-456d-a1a9-d268f9fa1630",
   "metadata": {},
   "outputs": [],
   "source": [
    "asd_data.salt_dd_mm_yyyy.apply(\n",
    "    lambda x: convert_date_string(x, return_non_dates=True)\n",
    ").value_counts()"
   ]
  },
  {
   "cell_type": "code",
   "execution_count": null,
   "id": "cc948f3b-48e3-4c10-b1c3-4691c98812dd",
   "metadata": {},
   "outputs": [],
   "source": [
    "salt_corrections = {\n",
    "    \"25/01/022\": \"25/01/22\",\n",
    "    \"June 2020 - TC\": \"15/06/2020\",\n",
    "    \"07/12/20121\": \"07/12/2021\",\n",
    "}\n",
    "asd_data[\"salt\"] = asd_data.salt_dd_mm_yyyy.apply(\n",
    "    lambda x: salt_corrections[x] if x in salt_corrections.keys() else x\n",
    ")"
   ]
  },
  {
   "cell_type": "code",
   "execution_count": null,
   "id": "debd282b-0a48-45fe-92b1-4957a6628965",
   "metadata": {},
   "outputs": [],
   "source": [
    "asd_data[\"salt_notes\"] = (\n",
    "    asd_data\n",
    "    .salt_dd_mm_yyyy\n",
    "    .apply(lambda x: convert_date_string(x, return_non_dates=True))\n",
    ")\n",
    "    \n",
    "asd_data[\"salt\"] = (\n",
    "    asd_data\n",
    "    .salt_dd_mm_yyyy\n",
    "    .apply(convert_date_string)\n",
    "    .astype(\"datetime64[ns]\")\n",
    ")\n",
    "\n",
    "asd_data.drop(\"salt_dd_mm_yyyy\", \n",
    "              axis=1, \n",
    "              inplace=True)"
   ]
  },
  {
   "cell_type": "markdown",
   "id": "01988d44-e2ac-4c31-b9e7-44fb567f123e",
   "metadata": {},
   "source": [
    "## qb_dd_mm_yyyy\n",
    "\n",
    "4 random entries that can't be converted - cleaning as with other date variables"
   ]
  },
  {
   "cell_type": "code",
   "execution_count": null,
   "id": "c95461dc-837e-4097-96b7-da1916cf19e8",
   "metadata": {},
   "outputs": [],
   "source": [
    "asd_data.qb_dd_mm_yyyy.apply(\n",
    "    lambda x: convert_date_string(x, return_non_dates=True)\n",
    ").value_counts()"
   ]
  },
  {
   "cell_type": "code",
   "execution_count": null,
   "id": "0841a28e-1938-4b56-b42b-f7defbe71276",
   "metadata": {},
   "outputs": [],
   "source": [
    "asd_data[\"qb\"] = asd_data.qb_dd_mm_yyyy.apply(\n",
    "    lambda x: \"09/02/2022\" if x == \"09/02/2022 - 4pm\" else x\n",
    ")"
   ]
  },
  {
   "cell_type": "code",
   "execution_count": null,
   "id": "8892e17a-99bb-46f8-9121-106c78da775d",
   "metadata": {},
   "outputs": [],
   "source": [
    "asd_data[\"qb_notes\"] = (\n",
    "    asd_data\n",
    "    .qb_dd_mm_yyyy\n",
    "    .apply(lambda x: convert_date_string(x, return_non_dates=True))\n",
    ")\n",
    "    \n",
    "asd_data[\"qb\"] = (\n",
    "    asd_data\n",
    "    .qb_dd_mm_yyyy\n",
    "    .apply(convert_date_string)\n",
    "    .astype(\"datetime64[ns]\")\n",
    ")\n",
    "\n",
    "asd_data.drop(\"qb_dd_mm_yyyy\", \n",
    "              axis=1, \n",
    "              inplace=True)"
   ]
  },
  {
   "cell_type": "markdown",
   "id": "4181c597-8241-45d6-80ce-1868f7a89311",
   "metadata": {},
   "source": [
    "## cognitive_assessment\n",
    "\n",
    "3 random non-date entries. Nothing too concerning"
   ]
  },
  {
   "cell_type": "code",
   "execution_count": null,
   "id": "d116ecc0-40f4-4803-9f90-57d0f26a34f3",
   "metadata": {},
   "outputs": [],
   "source": [
    "asd_data.cognitive_assessment.apply(\n",
    "    lambda x: convert_date_string(x, return_non_dates=True)\n",
    ").value_counts()"
   ]
  },
  {
   "cell_type": "code",
   "execution_count": null,
   "id": "b087180b-2c36-44dd-b02c-2677fbddc547",
   "metadata": {},
   "outputs": [],
   "source": [
    "asd_data[\"cognitive_assessment_date\"] = (\n",
    "    asd_data\n",
    "    .cognitive_assessment\n",
    "    .apply(convert_date_string)\n",
    "    .astype(\"datetime64[ns]\")\n",
    ")\n",
    "\n",
    "asd_data[\"cognitive_assessment_date_notes\"] = (\n",
    "    asd_data\n",
    "    .cognitive_assessment\n",
    "    .apply(lambda x: convert_date_string(x, return_non_dates=True))\n",
    ")\n",
    "\n",
    "asd_data.drop(\"cognitive_assessment\",\n",
    "              axis=1,\n",
    "              inplace=True)"
   ]
  },
  {
   "cell_type": "markdown",
   "id": "5fcf3985-e5eb-45cc-bca7-80e86a3a81cc",
   "metadata": {},
   "source": [
    "## mdt_dd_mm_yyyy\n",
    "\n",
    "Huge number of \"Clinical Partners\" entries (about 1/3) and significant number of \"Helios\". Treating as other date variables for the moment but may need to capture these entries. Check."
   ]
  },
  {
   "cell_type": "code",
   "execution_count": null,
   "id": "3d7350c6-3438-42ab-9ae8-1c92f19ade3a",
   "metadata": {},
   "outputs": [],
   "source": [
    "(asd_data\n",
    " .mdt_dd_mm_yyyy\n",
    " .apply(lambda x: convert_date_string(x, return_non_dates=True))\n",
    " .value_counts())"
   ]
  },
  {
   "cell_type": "code",
   "execution_count": null,
   "id": "32ded0b6-5948-4a2d-ac59-8bc84d877c8c",
   "metadata": {},
   "outputs": [],
   "source": [
    "(asd_data\n",
    " .mdt_dd_mm_yyyy\n",
    " .apply(lambda x: convert_date_string(x, return_non_dates=True))\n",
    " .apply(lambda x: x if type(x) == str and len(x) < 14 else None)\n",
    " .value_counts())"
   ]
  },
  {
   "cell_type": "code",
   "execution_count": null,
   "id": "ef9bf42b-2882-4fd3-b76b-23bdb631dd4e",
   "metadata": {},
   "outputs": [],
   "source": [
    "mdt_corrections = {\n",
    "    \"00/09/2020\": \"15/09/2020\",\n",
    "    \"27/108/2021\": \"27/08/2021\"\n",
    "}\n",
    "asd_data[\"mdt\"] = asd_data.mdt_dd_mm_yyyy.apply(\n",
    "    lambda x: mdt_corrections[x] if x in mdt_corrections.keys() else x\n",
    ")"
   ]
  },
  {
   "cell_type": "code",
   "execution_count": null,
   "id": "aa28403f-795a-4287-b157-a38f288207d9",
   "metadata": {},
   "outputs": [],
   "source": [
    "asd_data[\"mdt_notes\"] = (\n",
    "    asd_data\n",
    "    .mdt\n",
    "    .apply(lambda x: convert_date_string(x, return_non_dates=True))\n",
    ")\n",
    "    \n",
    "asd_data[\"mdt\"] = (\n",
    "    asd_data\n",
    "    .mdt\n",
    "    .apply(convert_date_string)\n",
    "    .astype(\"datetime64[ns]\")\n",
    ")\n",
    "asd_data.drop(\"mdt_dd_mm_yyyy\", \n",
    "              axis=1, \n",
    "              inplace=True)"
   ]
  },
  {
   "cell_type": "markdown",
   "id": "cbe3e341-8721-43f0-817c-fe7546c051fd",
   "metadata": {},
   "source": [
    "## feedback_given_dd_mm_yyyy\n",
    "\n",
    "Loads of entries with multiple dates. A few \"Helios\" and \"Clinical Partners\" entries. Treated as usual at the moment. Query."
   ]
  },
  {
   "cell_type": "code",
   "execution_count": null,
   "id": "758bfce3-be01-48d1-b0d2-f8334dcc4c4c",
   "metadata": {},
   "outputs": [],
   "source": [
    "(asd_data\n",
    " .feedback_given_dd_mm_yyyy\n",
    " .apply(lambda x: convert_date_string(x, return_non_dates=True))\n",
    " .value_counts())"
   ]
  },
  {
   "cell_type": "code",
   "execution_count": null,
   "id": "645cda27-66a4-4e3c-b2d3-1b6bb8a4ee9c",
   "metadata": {},
   "outputs": [],
   "source": [
    "(asd_data\n",
    " .feedback_given_dd_mm_yyyy\n",
    " .apply(lambda x: convert_date_string(x, return_non_dates=True))\n",
    " .apply(lambda x: x if type(x) == str and len(x) < 14 else None)\n",
    " .value_counts())"
   ]
  },
  {
   "cell_type": "code",
   "execution_count": null,
   "id": "11c7aa04-c774-4c31-90da-e987ec9e4d00",
   "metadata": {},
   "outputs": [],
   "source": [
    "feedback_corrections = {\n",
    "    \"00/09/2020\": \"15/09/2020\",\n",
    "    \"006/04/2022\": \"06/04/2022\",\n",
    "    \"02/08/25021\": \"02/08/2021\",\n",
    "    \"01/11/222\": \"01/11/2022\",\n",
    "    \"17/0821\": \"17/08/21\"\n",
    "    \n",
    "}\n",
    "asd_data[\"feedback_given\"] = asd_data.feedback_given_dd_mm_yyyy.apply(\n",
    "    lambda x: feedback_corrections[x] if x in feedback_corrections.keys() else x\n",
    ")"
   ]
  },
  {
   "cell_type": "code",
   "execution_count": null,
   "id": "dace833f-e1da-4f79-8bc7-3ec3a3e88fa6",
   "metadata": {},
   "outputs": [],
   "source": [
    "asd_data[\"feedback_given\"] = (\n",
    "    asd_data\n",
    "    .feedback_given\n",
    "    .apply(convert_date_string)\n",
    "    .astype(\"datetime64[ns]\")\n",
    ")\n",
    "\n",
    "asd_data[\"feedback_given_notes\"] = (\n",
    "    asd_data\n",
    "    .feedback_given_dd_mm_yyyy\n",
    "    .apply(lambda x: convert_date_string(x, return_non_dates=True))\n",
    ")\n",
    "    \n",
    "asd_data.drop(\"feedback_given_dd_mm_yyyy\", \n",
    "              axis=1, \n",
    "              inplace=True)"
   ]
  },
  {
   "cell_type": "markdown",
   "id": "f9bda90c-fac8-4846-b9ff-8c0ecc4135c3",
   "metadata": {},
   "source": [
    "## jac_report_circulated_dd_mm_yyyy\n",
    "\n",
    "Lots of notes like \"closed without decision\"/\"D/Cd ...\". Treat as normal now. Query."
   ]
  },
  {
   "cell_type": "code",
   "execution_count": null,
   "id": "83556705-2fc9-4c2c-b9a8-ac0b935cb344",
   "metadata": {},
   "outputs": [],
   "source": [
    "(asd_data\n",
    " .jac_report_circulated_dd_mm_yyyy\n",
    " .apply(lambda x: convert_date_string(x, return_non_dates=True))\n",
    " .value_counts())"
   ]
  },
  {
   "cell_type": "code",
   "execution_count": null,
   "id": "9e77e59d-e7fb-4223-a9d6-a381d3f071fa",
   "metadata": {},
   "outputs": [],
   "source": [
    "(asd_data\n",
    " .jac_report_circulated_dd_mm_yyyy\n",
    " .apply(lambda x: convert_date_string(x, return_non_dates=True))\n",
    " .apply(lambda x: x if type(x) == str and len(x) < 14 else None)\n",
    " .value_counts())"
   ]
  },
  {
   "cell_type": "code",
   "execution_count": null,
   "id": "2ec22e66-2ec0-40e7-a7fd-b56673795352",
   "metadata": {},
   "outputs": [],
   "source": [
    "jac_corrections = {\n",
    "    \"06/04/22 ADHD\": \"06/04/22\",\n",
    "    \"010/09/22\": \"10/09/22\",\n",
    "    \"90/06/2022\": \"09/06/2022\",\n",
    "    \"23/05/222\": \"23/05/2022\",\n",
    "    \"23/4/22/\": \"23/04/22\",\n",
    "    \"27/09/20222\": \"27/09/2022\",\n",
    "    \"00/09/2020\": \"15/09/2020\",\n",
    "    \"0703/2021\": \"07/03/2021\",\n",
    "    \"03/011/2022\": \"03/11/2022\",\n",
    "    \"`01/09/21\": \"01/09/21\"\n",
    "}\n",
    "asd_data[\"jac_report_circulated\"] = asd_data.jac_report_circulated_dd_mm_yyyy.apply(\n",
    "    lambda x: jac_corrections[x] if x in jac_corrections.keys() else x\n",
    ")"
   ]
  },
  {
   "cell_type": "code",
   "execution_count": null,
   "id": "3fd31ec5-1842-4201-82c3-51e49c3f5d9a",
   "metadata": {},
   "outputs": [],
   "source": [
    "asd_data[\"jac_report_circulated_notes\"] = (\n",
    "    asd_data\n",
    "    .jac_report_circulated\n",
    "    .apply(lambda x: convert_date_string(x, return_non_dates=True))\n",
    ")\n",
    "    \n",
    "asd_data[\"jac_report_circulated\"] = (\n",
    "    asd_data\n",
    "    .jac_report_circulated\n",
    "    .apply(convert_date_string)\n",
    "    .astype(\"datetime64[ns]\")\n",
    ")\n",
    "asd_data.drop(\"jac_report_circulated_dd_mm_yyyy\", \n",
    "              axis=1, \n",
    "              inplace=True)"
   ]
  },
  {
   "cell_type": "markdown",
   "id": "55469f66-66ca-43bf-87df-6c75a1ba96eb",
   "metadata": {},
   "source": [
    "## referral_date\n",
    "\n",
    "Just dates - convert to datetime.\n"
   ]
  },
  {
   "cell_type": "code",
   "execution_count": null,
   "id": "bb5774b8-9a4b-43af-9b67-6a8b0c7efcab",
   "metadata": {},
   "outputs": [],
   "source": [
    "(asd_data\n",
    " .referral_date\n",
    " .apply(lambda x: convert_date_string(x, return_non_dates=True))\n",
    " .value_counts())"
   ]
  },
  {
   "cell_type": "code",
   "execution_count": null,
   "id": "4ab91f5f-c49b-4e89-a38c-65c5bd9bf377",
   "metadata": {},
   "outputs": [],
   "source": [
    "asd_data[\"referral_date\"] = (\n",
    "    asd_data\n",
    "    .referral_date\n",
    "    .apply(convert_date_string)\n",
    "    .astype(\"datetime64[ns]\")\n",
    ")"
   ]
  },
  {
   "cell_type": "markdown",
   "id": "b910a460-b826-4788-9b75-0bdc0a2f82b9",
   "metadata": {},
   "source": [
    "## referral_source\n",
    "\n",
    "Loads of categories, looks like many could be cleaned into groups e.g. ['Paediatrician', 'Paediatrics', 'Community Paediatrics', 'Community paediatrics', 'Comm Paeds', 'Paediatricians', 'Paeditrician', 'Community Paediatric', 'Comm Paeds/GP', 'paediatrics', 'Community Paeds', 'community paeds', 'Paeditircian', 'Fast-track due to reccomendation from paeds for ADHD', 'Community Paed', 'S Bowring Paediatrics', 'Paeds', 'Paeditrician ', 'Dr Bowring - Paediatrics', 'Paedrician']. Have a proper go at cleaning and query.\n"
   ]
  },
  {
   "cell_type": "code",
   "execution_count": null,
   "id": "77b088b9-acac-4ab5-9c85-e3761b23823f",
   "metadata": {},
   "outputs": [],
   "source": [
    "asd_data.referral_source.value_counts()[:20]"
   ]
  },
  {
   "cell_type": "markdown",
   "id": "b1c0bcaf-e9b0-4491-8fb8-01997d6135d2",
   "metadata": {},
   "source": [
    "## breach_date_13_weeks_to_first_contact\n",
    "\n",
    "Just dates. Convert to datetime."
   ]
  },
  {
   "cell_type": "code",
   "execution_count": null,
   "id": "f163e8d3-d666-4a05-9fb2-22825d716e76",
   "metadata": {},
   "outputs": [],
   "source": [
    "(asd_data\n",
    " .breach_date_13_weeks_to_first_contact\n",
    " .apply(lambda x: convert_date_string(x, return_non_dates=True))\n",
    " .value_counts())"
   ]
  },
  {
   "cell_type": "code",
   "execution_count": null,
   "id": "82edb358-1e6d-4a79-a35b-e9b3dc860a7a",
   "metadata": {},
   "outputs": [],
   "source": [
    "asd_data[\"breach_date_13_weeks_to_first_contact\"] = (\n",
    "    asd_data\n",
    "    .breach_date_13_weeks_to_first_contact\n",
    "    .apply(convert_date_string)\n",
    "    .astype(\"datetime64[ns]\")\n",
    ")"
   ]
  },
  {
   "cell_type": "markdown",
   "id": "394ec481-779a-442c-bd61-f35dfd7c2ad9",
   "metadata": {},
   "source": [
    "## weeks_waiting_until_case_closed_will_update_automatically\n",
    "\n",
    "deterministic - delete"
   ]
  },
  {
   "cell_type": "code",
   "execution_count": null,
   "id": "5daf4816-a374-4901-a503-b12e9134e9ef",
   "metadata": {},
   "outputs": [],
   "source": [
    "asd_data.drop(\"weeks_waiting_until_case_closed_will_update_automatically\",\n",
    "              axis=1,\n",
    "              inplace=True)"
   ]
  },
  {
   "cell_type": "markdown",
   "id": "de88dd78-5a1e-418d-870e-73aa3491257f",
   "metadata": {},
   "source": [
    "## diagnosis\n",
    "\n",
    "Seems to be a combination of ASD, ADHD, \"Disch\" (presumably discharged) and \"No Diagnosis\" but lots of categories. For the moment will create `asd_diagnosis` and `adhd_diagnosis` variables with obs that obviously denote one of the two. Entries for \"diagnosis agreed\" can probably be cross-referenced with assessment type to mark diagnosis type as ASD/ADHD. Possibly also \"Disch-Complete\". Check."
   ]
  },
  {
   "cell_type": "code",
   "execution_count": null,
   "id": "101664cc-c937-4c40-a6eb-91c26ac22e94",
   "metadata": {},
   "outputs": [],
   "source": [
    "asd_data.diagnosis.value_counts()"
   ]
  },
  {
   "cell_type": "code",
   "execution_count": null,
   "id": "131579b4-b222-44fc-91bf-f84b63ebc792",
   "metadata": {},
   "outputs": [],
   "source": [
    "asd_data[[\"asd_diagnosis\", \"adhd_diagnosis\"]] = pd.DataFrame(\n",
    "    asd_data.diagnosis.apply(parse_asd_adhd_strings).to_list()\n",
    ")"
   ]
  },
  {
   "cell_type": "code",
   "execution_count": null,
   "id": "5abce3d7-1dde-4957-8187-6ef8d6b0d491",
   "metadata": {},
   "outputs": [],
   "source": [
    "diag_agreed = asd_data.diagnosis == 'Disch-Diagnosis agreed'\n",
    "asd_data.loc[diag_agreed & asd_data.asd_assessment,\"asd_diagnosis\"] = True"
   ]
  },
  {
   "cell_type": "markdown",
   "id": "971592ab-c768-44b5-aa12-abd9b026c3bf",
   "metadata": {},
   "source": [
    "## date_closed_dd_mm_yyyy_when_closed_from_neuro\n",
    "\n",
    "Mostly dates, a couple of corrections and a few duplicates. Seems mostly fine so correct as usual. "
   ]
  },
  {
   "cell_type": "code",
   "execution_count": null,
   "id": "e48a15ae-49ce-49ac-8a4b-4a3a2f280305",
   "metadata": {},
   "outputs": [],
   "source": [
    "(asd_data\n",
    " .date_closed_dd_mm_yyyy_when_closed_from_neuro\n",
    " .apply(lambda x: convert_date_string(x, return_non_dates=True))\n",
    " .value_counts())"
   ]
  },
  {
   "cell_type": "code",
   "execution_count": null,
   "id": "f3116056-55fc-4355-ad3d-5dc32a9d1aeb",
   "metadata": {},
   "outputs": [],
   "source": [
    "# manually convert a few dates:\n",
    "\n",
    "closed_corrections = {\n",
    "    \"06/0//6/22\": \"06/06/22\",\n",
    "    \"20/04/022\": \"20/04/2022\",\n",
    "    \"27/10/20222\": \"27/10/2022\",\n",
    "}\n",
    "asd_data[\"date_closed_when_closed_from_neuro\"] = (\n",
    "    asd_data.\n",
    "    date_closed_dd_mm_yyyy_when_closed_from_neuro.\n",
    "    apply(lambda x: closed_corrections[x] if x in closed_corrections.keys() else x)\n",
    ")"
   ]
  },
  {
   "cell_type": "code",
   "execution_count": null,
   "id": "b91bf7f1-9dbc-4669-a83e-e62effb20c01",
   "metadata": {},
   "outputs": [],
   "source": [
    "asd_data[\"date_closed_notes\"] = (\n",
    "    asd_data\n",
    "    .date_closed_when_closed_from_neuro\n",
    "    .apply(lambda x: convert_date_string(x, return_non_dates=True))\n",
    ")\n",
    "    \n",
    "asd_data[\"date_closed_when_closed_from_neuro\"] = (\n",
    "    asd_data\n",
    "    .date_closed_when_closed_from_neuro\n",
    "    .apply(convert_date_string)\n",
    "    .astype(\"datetime64[ns]\")\n",
    ")\n",
    "asd_data.drop(\"date_closed_dd_mm_yyyy_when_closed_from_neuro\",\n",
    "              axis=1,\n",
    "              inplace=True)"
   ]
  },
  {
   "cell_type": "markdown",
   "id": "54abaf42-8073-41c8-a35f-defd224e3c49",
   "metadata": {},
   "source": [
    "## outsourced\n",
    "\n",
    "Mostly No. Lots of categories otherwise, could maybe be grouped. Potential groups:\n",
    "\n",
    "* No\n",
    "* Clinical Partners\n",
    "* Healios\n",
    "* Outsourced\n",
    "* Socrates\n",
    "* No longer assessed\n",
    "\n",
    "Query."
   ]
  },
  {
   "cell_type": "code",
   "execution_count": null,
   "id": "cab3a1e0-dde3-48b7-b95b-2060f093137b",
   "metadata": {},
   "outputs": [],
   "source": [
    "asd_data.outsourced_yn.value_counts()"
   ]
  },
  {
   "cell_type": "code",
   "execution_count": null,
   "id": "b4fea218-d0ba-45fd-a815-e8ada1acc6dd",
   "metadata": {},
   "outputs": [],
   "source": [
    "asd_data.info()"
   ]
  },
  {
   "cell_type": "code",
   "execution_count": null,
   "id": "2c1d4f9a-5eb4-48c7-91cb-47e00da378b9",
   "metadata": {},
   "outputs": [],
   "source": [
    "asd_data.to_gbq(\"CB_FDM_ASD_PTL.tbl_autism_amalgamated_ptl_oct2022\",\n",
    "                location=\"europe-west2\",\n",
    "                if_exists=\"replace\")"
   ]
  },
  {
   "cell_type": "markdown",
   "id": "55f04662-df71-496f-93a0-a50598b86403",
   "metadata": {},
   "source": [
    "# Build FDM"
   ]
  },
  {
   "cell_type": "code",
   "execution_count": null,
   "id": "9f547349-f430-46ae-b508-ad79b38f8233",
   "metadata": {},
   "outputs": [],
   "source": [
    "from FDMBuilder.FDMTable import *\n",
    "from FDMBuilder.FDMDataset import *\n",
    "from FDMBuilder.testing_helpers import *"
   ]
  },
  {
   "cell_type": "code",
   "execution_count": null,
   "id": "070ebe7a-bfce-4cdf-bea0-d0570d6b8b6f",
   "metadata": {},
   "outputs": [],
   "source": [
    "asd_table = FDMTable(\n",
    "    source_table_id = \"CB_FDM_ASD_PTL.tbl_autism_amalgamated_ptl_oct2022\",\n",
    "    dataset_id=\"CB_FDM_ASD_PTL\"\n",
    ")"
   ]
  },
  {
   "cell_type": "code",
   "execution_count": null,
   "id": "2146fca2-c244-462d-b208-dafda8a5d44f",
   "metadata": {},
   "outputs": [],
   "source": [
    "asd_table.head()"
   ]
  },
  {
   "cell_type": "code",
   "execution_count": null,
   "id": "07516f9c-8f75-43ed-9f21-411ecbcd57d9",
   "metadata": {},
   "outputs": [],
   "source": [
    "asd_table.quick_build(fdm_start_date_cols=\"referral_date\",\n",
    "                         fdm_start_date_format=\"DMY\")"
   ]
  },
  {
   "cell_type": "code",
   "execution_count": null,
   "id": "f606847a-80aa-433e-bca0-60991f9a353b",
   "metadata": {},
   "outputs": [],
   "source": [
    "dataset = FDMDataset(\n",
    "    dataset_id=\"CB_FDM_ASD_PTL\"\n",
    ")\n",
    "dataset.build(extract_end_date=\"2023-01-01\")"
   ]
  },
  {
   "cell_type": "markdown",
   "id": "0d04ae0d-9bc6-46cf-8c29-f0f739b756b4",
   "metadata": {},
   "source": [
    "The script is flagging up one of the entries as being an error as the DOB in demographics is \"2024-01-01\" - this is obviously an error so just add the flagged entry back into the table and call it a day"
   ]
  },
  {
   "cell_type": "code",
   "execution_count": null,
   "id": "ec38165f-3c69-4f95-b00d-f42c0ccedd91",
   "metadata": {},
   "outputs": [],
   "source": [
    "asd_table.recombine()\n",
    "asd_table.drop_column(\"fdm_problem\")"
   ]
  },
  {
   "cell_type": "code",
   "execution_count": null,
   "id": "18f6c8c2-e331-49ed-a82e-a2b47d33b6ba",
   "metadata": {},
   "outputs": [],
   "source": []
  }
 ],
 "metadata": {
  "environment": {
   "kernel": "fdmenv",
   "name": "r-cpu.4-2.m110",
   "type": "gcloud",
   "uri": "gcr.io/deeplearning-platform-release/r-cpu.4-2:m110"
  },
  "kernelspec": {
   "display_name": "FDMEnv",
   "language": "python",
   "name": "fdmenv"
  },
  "language_info": {
   "codemirror_mode": {
    "name": "ipython",
    "version": 3
   },
   "file_extension": ".py",
   "mimetype": "text/x-python",
   "name": "python",
   "nbconvert_exporter": "python",
   "pygments_lexer": "ipython3",
   "version": "3.11.4"
  }
 },
 "nbformat": 4,
 "nbformat_minor": 5
}
