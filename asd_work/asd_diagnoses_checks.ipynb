{
 "cells": [
  {
   "cell_type": "markdown",
   "id": "3d1535cd-9b43-4ba9-a03e-c45b8f0c36c4",
   "metadata": {},
   "source": [
    "# asd_diagnoses_checks\n",
    "\n",
    "Sanity checks of the ASD diagnoses between the PTL, primary care V4 and primary care staging databases.\n",
    "\n",
    "## Highlights:\n",
    "\n",
    "* **V4/Staging Differences**: Wildly different numbers of ASD diagnoses between V4 and staging primary care\n",
    "* **V7/Staging***: Pretty similar numbers of diagnosed individuals. Likely the difference is just a more recent refresh in staging, needs querying\n",
    "* **Diagnoses PTL vs V7**: Lots of diagnoses in PTL not found in primary care, seems to be more prevalent in more recent diagnoses but still plenty missing in earlier examples.\n",
    "\n",
    "TODO:\n",
    "\n",
    "* Comparison of \"diagnosis dates\" and JAC dates"
   ]
  },
  {
   "cell_type": "code",
   "execution_count": null,
   "id": "b69aeae3-e077-4a4c-b2d8-cffd12b5374d",
   "metadata": {},
   "outputs": [],
   "source": [
    "from google.cloud import bigquery\n",
    "import matplotlib.pyplot as plt\n",
    "from matplotlib_venn import venn2\n",
    "import pandas as pd\n",
    "import plotly.express as px\n",
    "import numpy as np\n",
    "import matplotlib"
   ]
  },
  {
   "cell_type": "markdown",
   "id": "b7df2348-4c41-4087-bb57-10e1b488487a",
   "metadata": {},
   "source": [
    "## V4/Staging Differences\n",
    "\n",
    "The V4 version of the primary care data contains far fewer individuals with ASD diagnostic codes than the staging version. This is potentially a big issue as all of the prior analyses of ASD diagnoses are based on the V4 dataset."
   ]
  },
  {
   "cell_type": "code",
   "execution_count": null,
   "id": "dc1409a9-0b46-46ad-a4ed-82349e325e5e",
   "metadata": {},
   "outputs": [],
   "source": [
    "def plot_venn(list1, list2, table_names):\n",
    "    plt.rcParams['figure.facecolor'] = 'white'\n",
    "    plt.figure(figsize=(5,5), dpi=150)\n",
    "    v = venn2([set(list1), set(list2)], set_labels=None)\n",
    "    plt.legend(handles=v.patches, labels=table_names)\n",
    "    plt.show()"
   ]
  },
  {
   "cell_type": "code",
   "execution_count": null,
   "id": "46fbc823-d491-4236-9c30-f8cdf0aba704",
   "metadata": {},
   "outputs": [],
   "source": [
    "asd_snomed_codes = [\n",
    "    \"35919005\", \"442314000\", \"23560001\", \"231536004\", \"718393002\", \"408856003\", \n",
    "    \"373618009\", \"71961003\", \"702450004\", \"723332005\", \"712884004\", \n",
    "    \"39951000119105\", \"870307006\", \"870308001\", \"870305003\", \"870306002\",\n",
    "    \"870303005\", \"870304004\", \"870269009\", \"870270005\", \"870268001\", \"870266002\",\n",
    "    \"870267006\", \"870264004\", \"870265003\", \"870262000\", \"870263005\", \"870260008\",\n",
    "    \"870261007\", \"870280009\", \"870282001\", \"68618008\", \"432091002\", \"708037001\",\n",
    "    \"719600006\", \"766824003\", \"722287002\", \"771512003\", \"733623005\", \"43614003\",\n",
    "    \"702732007\", \"408857007\", \"783089006\", \"191692007\", \"191693002\", \"191690004\",\n",
    "    \"771448004\", \"770790004\", \"191689008\" \n",
    "]\n",
    "codes_str = ', '.join([f\"'{code}'\" for code in asd_snomed_codes])\n",
    "staging_codes_tbl = \"CB_STAGING_DATABASE_PrimaryCare.tbl_SRCode\"\n",
    "staging_query = f\"\"\"\n",
    "    SELECT DISTINCT person_id\n",
    "    FROM {staging_codes_tbl}\n",
    "    WHERE SNOMEDCode IN ({codes_str})\n",
    "\"\"\"\n",
    "staging_ids = pd.read_gbq(staging_query).dropna()\n",
    "staging_ids = list(staging_ids.person_id)\n",
    "v4_codes_tbl = \"CB_FDM_PrimaryCare_v4.tbl_SRCode\"\n",
    "v4_query = f\"\"\"\n",
    "    SELECT DISTINCT person_id\n",
    "    FROM {v4_codes_tbl}\n",
    "    WHERE src_snomedcode IN ({codes_str})\n",
    "\"\"\"\n",
    "v4_ids = pd.read_gbq(v4_query)\n",
    "v4_ids = list(v4_ids.person_id)\n",
    "\n",
    "v7_codes_tbl = \"CB_FDM_PrimaryCare_V7.tbl_srcode\"\n",
    "v7_query = f\"\"\"\n",
    "    WITH codes AS ( \n",
    "        SELECT person_id, dateeventrecorded \n",
    "        FROM {v7_codes_tbl}\n",
    "        WHERE snomedcode IN ({codes_str})\n",
    "    )\n",
    "    SELECT person_id, MIN(dateeventrecorded) AS diagnosis_date\n",
    "    FROM codes\n",
    "    GROUP BY person_id\n",
    "\"\"\"\n",
    "v7_data = pd.read_gbq(v7_query)\n",
    "v7_ids = list(v7_data.person_id)\n",
    "\n",
    "plot_venn(v4_ids, staging_ids, [\"V4\", \"Staging\"])"
   ]
  },
  {
   "cell_type": "code",
   "execution_count": null,
   "id": "65be1f06-d607-481f-b294-6a9c5b88ba8b",
   "metadata": {},
   "outputs": [],
   "source": [
    "print(v7_query)"
   ]
  },
  {
   "cell_type": "markdown",
   "id": "ab3f3e9f-6ae1-4553-9cd4-a962fae95747",
   "metadata": {},
   "source": [
    "Issues seem to have been fixed in V7. Still needs to be queried as a lot of work has been done with the V4 cohort."
   ]
  },
  {
   "cell_type": "code",
   "execution_count": null,
   "id": "539e60d9-2bbe-4e04-9856-d7e3156d5af2",
   "metadata": {},
   "outputs": [],
   "source": [
    "plot_venn(v7_ids, staging_ids, [\"V7\", \"Staging\"])"
   ]
  },
  {
   "cell_type": "markdown",
   "id": "46973f29-9051-4865-b798-4b5e7880cd0b",
   "metadata": {},
   "source": [
    "## PTL Diagnoses vs Primary Care\n",
    "\n",
    "We'll focus on a comparison between V7 and the PTL, as the V4 data seems to be missing a lot of diagnoses."
   ]
  },
  {
   "cell_type": "code",
   "execution_count": null,
   "id": "b84786f2-a294-4f2c-85ff-a797367b4c84",
   "metadata": {},
   "outputs": [],
   "source": [
    "%%bigquery ptl_data\n",
    "SELECT * \n",
    "FROM `yhcr-prd-phm-bia-core.CB_FDM_ASD_PTL.tbl_autism_amalgamated_ptl_oct2022`"
   ]
  },
  {
   "cell_type": "code",
   "execution_count": null,
   "id": "fd6d7d5d-57c0-45f0-b0f6-56f1a443febe",
   "metadata": {},
   "outputs": [],
   "source": [
    "ptl_data = ptl_data[ptl_data.asd_assessment]"
   ]
  },
  {
   "cell_type": "code",
   "execution_count": null,
   "id": "4021f7ec-552c-4819-892e-2f27a68c90d4",
   "metadata": {},
   "outputs": [],
   "source": [
    "ptl_ids = list(ptl_data[ptl_data.asd_diagnosis].person_id.unique())\n",
    "plot_venn(ptl_ids, v7_ids, [\"PTL Diagnoses\", \"Primary Care Diagnoses\"])"
   ]
  },
  {
   "cell_type": "code",
   "execution_count": null,
   "id": "4bb318ff-eb1e-4418-aa15-e2f71a75a4df",
   "metadata": {},
   "outputs": [],
   "source": [
    "636/(1366+636)"
   ]
  },
  {
   "cell_type": "markdown",
   "id": "a3ea590a-705f-44e5-85a7-f06a8ec46e19",
   "metadata": {},
   "source": [
    "about 31% of diagnoses in the PTL aren't in the primary care staging data. A few of the entries don't have a JAC report - circulated to GPs which promts the update of primary care records:"
   ]
  },
  {
   "cell_type": "code",
   "execution_count": null,
   "id": "e1d428ab-964c-4a0e-b017-9d2c6522d63f",
   "metadata": {},
   "outputs": [],
   "source": [
    "jac_circulated = ~ptl_data.jac_report_circulated_dd_mm_yyyy.isna()\n",
    "no_jac_diagnoses = len(ptl_data[~jac_circulated & ptl_data.asd_diagnosis].person_id.unique())\n",
    "print(f\"{(no_jac_diagnoses)} individuals have an asd diagnoses but no JAC\")"
   ]
  },
  {
   "cell_type": "code",
   "execution_count": null,
   "id": "679c07ff-b3a4-4431-9e0b-8ec6d475e8ec",
   "metadata": {},
   "outputs": [],
   "source": [
    "jac_ids = list(ptl_data[jac_circulated & ptl_data.asd_diagnosis].person_id.unique())\n",
    "plot_venn(jac_ids, v7_ids, [\"jac_ids\", \"v7_PC\"])"
   ]
  },
  {
   "cell_type": "code",
   "execution_count": null,
   "id": "67a22be5-a9ab-4881-8697-2073b9468300",
   "metadata": {},
   "outputs": [],
   "source": [
    "581/(1244+581)"
   ]
  },
  {
   "cell_type": "markdown",
   "id": "71405bb0-9ebb-4977-95dd-3056b21272fe",
   "metadata": {},
   "source": [
    "Doesn't seem like the missing diagnoses in PC are related to there not being a JAC\n",
    "\n",
    "Splitting the data by the date the JAC was sent seems to suggest more of the diagnoses are missing for more recent diagnoses, but there are still plenty missing for diagnoses much earlier on."
   ]
  },
  {
   "cell_type": "code",
   "execution_count": null,
   "id": "44e5a794-22e4-4c7f-ad62-8cf4b65a7119",
   "metadata": {},
   "outputs": [],
   "source": [
    "ptl_data.loc[:,\"diagnosed_in_v7\"] = ptl_data.person_id.apply(\n",
    "    lambda x: x in v7_ids\n",
    ")\n",
    "\n",
    "fig = px.histogram(ptl_data, \n",
    "                   x=\"jac_report_circulated_dd_mm_yyyy\", \n",
    "                   color=\"diagnosed_in_v7\",\n",
    "                   nbins=200\n",
    "                   )\n",
    "fig.update_xaxes(range=[\"2019-03-01\", \"2023\"])\n",
    "fig.update_layout(width=750, \n",
    "                  height=500, \n",
    "                  xaxis_title=\"Date JAC Report Circulated\",\n",
    "                  yaxis_title=None,\n",
    "                  legend=dict(title=\"Diagnosis in Primary Care\",\n",
    "                              x=0.4, y=1.25))\n",
    "fig.show()"
   ]
  },
  {
   "cell_type": "code",
   "execution_count": null,
   "id": "5e9fcbd3-1ce4-4097-8f21-2510f8965cff",
   "metadata": {},
   "outputs": [],
   "source": [
    "ptl_data = ptl_data.merge(v7_data, on=\"person_id\", how=\"left\")"
   ]
  },
  {
   "cell_type": "code",
   "execution_count": null,
   "id": "7ce09955-a2c5-458b-824e-4daf548be0f9",
   "metadata": {},
   "outputs": [],
   "source": [
    "ptl_data.loc[:,\"jac_report_circulated_dd_mm_yyyy\"] = (\n",
    "    ptl_data.jac_report_circulated_dd_mm_yyyy.dt.tz_localize(None)\n",
    ")\n",
    "ptl_data.loc[:,\"diagnosis_lag\"] = (\n",
    "    (ptl_data.diagnosis_date-ptl_data.jac_report_circulated_dd_mm_yyyy)\n",
    "    .dt.days / 365\n",
    ")"
   ]
  },
  {
   "cell_type": "code",
   "execution_count": null,
   "id": "28755d88-e258-46a7-922f-ac25e126688b",
   "metadata": {},
   "outputs": [],
   "source": [
    "ptl_data[ptl_data.diagnosis_lag < -0][[\"person_id\", \"diagnosis_date\", \"jac_report_circulated_dd_mm_yyyy\"]]"
   ]
  },
  {
   "cell_type": "code",
   "execution_count": null,
   "id": "cd700450-ef87-4f63-8ddc-7dd3df3afd5f",
   "metadata": {},
   "outputs": [],
   "source": [
    "ptl_data[ptl_data.diagnosis_lag > 0][[\"person_id\", \"diagnosis_date\", \"jac_report_circulated_dd_mm_yyyy\"]]"
   ]
  },
  {
   "cell_type": "code",
   "execution_count": null,
   "id": "4eb0d3bf-ac7f-4a7e-80f7-e4670c605638",
   "metadata": {},
   "outputs": [],
   "source": []
  }
 ],
 "metadata": {
  "environment": {
   "kernel": "conda-env-FDMEnv-py",
   "name": "r-cpu.4-2.m110",
   "type": "gcloud",
   "uri": "gcr.io/deeplearning-platform-release/r-cpu.4-2:m110"
  },
  "kernelspec": {
   "display_name": "Python [conda env:FDMEnv]",
   "language": "python",
   "name": "conda-env-FDMEnv-py"
  },
  "language_info": {
   "codemirror_mode": {
    "name": "ipython",
    "version": 3
   },
   "file_extension": ".py",
   "mimetype": "text/x-python",
   "name": "python",
   "nbconvert_exporter": "python",
   "pygments_lexer": "ipython3",
   "version": "3.10.5"
  }
 },
 "nbformat": 4,
 "nbformat_minor": 5
}
