{
 "cells": [
  {
   "cell_type": "markdown",
   "id": "3d1535cd-9b43-4ba9-a03e-c45b8f0c36c4",
   "metadata": {},
   "source": [
    "# Primary Care Dataset Error\n",
    "\n",
    "Recently, a significant error with the primary care dataset has come to light. A problem in the data transformation process that takes the raw warehouse data and uploads it to the google cloud platform has resulted in large numbers of records being deleted in error. Unfortunately, it isn't possible to properly describe the exact cause or nature of the problem, as the scripts that contained the errors are no longer available. It is clear that the error has existed since the initial versions of the dataset were uploaded to the connected Bradford platform and have only been corrected very recently.\n",
    "\n",
    "These issues have a considerable effect on our cohort of individuals with ASD diagnoses. We identified 4911 individuals with a diagnosis of ASD from the erroneous primary care datasets but, after correction, this number jumped to 6786. The demographic breakdown of the ASD cohort has changed with the inclusion of the erroneously deleted records, and so it is clear that the deleted data was not missing at random."
   ]
  },
  {
   "cell_type": "code",
   "execution_count": null,
   "id": "6eaab12f-4500-4fb5-9852-b59fdcb1a0c0",
   "metadata": {},
   "outputs": [],
   "source": [
    "import pandas as pd\n",
    "from google.cloud import bigquery\n",
    "import contextily as cx\n",
    "import geopandas\n",
    "import numpy as np\n",
    "from tableone import TableOne\n",
    "import matplotlib.pyplot as plt\n",
    "import plotly.express as px\n",
    "import statsmodels\n",
    "import statsmodels.api as sm\n",
    "import statsmodels.formula.api as smf"
   ]
  },
  {
   "cell_type": "code",
   "execution_count": null,
   "id": "30a8c665-9573-4656-b98b-273c228775ef",
   "metadata": {},
   "outputs": [],
   "source": [
    "%%bigquery asd_data_v4\n",
    "SELECT * FROM `yhcr-prd-phm-bia-core.CB_ASD_data.ASD_master_tab`"
   ]
  },
  {
   "cell_type": "code",
   "execution_count": null,
   "id": "a88593f4-063c-47f2-a781-48dd3371161a",
   "metadata": {},
   "outputs": [],
   "source": [
    "%%bigquery asd_data_v7\n",
    "SELECT * FROM `yhcr-prd-phm-bia-core.CB_ASD_data.ASD_master_tab_v7`"
   ]
  },
  {
   "cell_type": "code",
   "execution_count": null,
   "id": "ba363da1-c332-4872-acce-1735f5541783",
   "metadata": {},
   "outputs": [],
   "source": [
    "asd_data_v4.columns"
   ]
  },
  {
   "cell_type": "code",
   "execution_count": null,
   "id": "8b8fa67e-4748-41ad-b39f-9b40506452c1",
   "metadata": {},
   "outputs": [],
   "source": [
    "v4_ids = list(asd_data_v4.person_id.unique())\n",
    "asd_data_v7[\"missing_v4\"] = asd_data_v7.person_id.apply(\n",
    "    lambda x: not x in v4_ids\n",
    ")"
   ]
  },
  {
   "cell_type": "code",
   "execution_count": null,
   "id": "c64057b5-5e4f-4588-95e5-ca3bac805a18",
   "metadata": {},
   "outputs": [],
   "source": [
    "asd_data_v4"
   ]
  },
  {
   "cell_type": "code",
   "execution_count": null,
   "id": "7e623fcf-24c3-4835-b2bb-742bedee127e",
   "metadata": {},
   "outputs": [],
   "source": [
    "pd.set_option(\"display.max_rows\", None)\n",
    "columns = ['age', 'age_at_diagnosis', 'ethnic_group', 'sex', \n",
    "           'perm_exclusion', 'fixed_term_exclusion', 'has_protection_plan', \n",
    "           'in_care', 'child_in_need']\n",
    "categorical = ['ethnic_group', 'sex', \n",
    "           'perm_exclusion', 'fixed_term_exclusion', 'has_protection_plan', \n",
    "           'in_care', 'child_in_need']\n",
    "table_1_v4 = TableOne(\n",
    "    asd_data_v4, \n",
    "    columns, \n",
    "    categorical)\n",
    "table_1_v4"
   ]
  },
  {
   "cell_type": "code",
   "execution_count": null,
   "id": "53c8075f-7450-4ee7-8d80-27a1411375db",
   "metadata": {},
   "outputs": [],
   "source": [
    "table_1_v7 = TableOne(\n",
    "    asd_data_v7, \n",
    "    columns, \n",
    "    categorical)\n",
    "table_1_v7"
   ]
  },
  {
   "cell_type": "code",
   "execution_count": null,
   "id": "7831713c-ac90-4c92-949d-dd74089de436",
   "metadata": {},
   "outputs": [],
   "source": [
    "pd.set_option(\"display.max_rows\", None)\n",
    "columns = ['age', 'age_at_diagnosis', 'ethnic_group', 'sex', \n",
    "           'perm_exclusion', 'fixed_term_exclusion', 'has_protection_plan', \n",
    "           'in_care', 'child_in_need', \"missing_v4\"]\n",
    "categorical = ['ethnic_group', 'sex', \n",
    "           'perm_exclusion', 'fixed_term_exclusion', 'has_protection_plan', \n",
    "           'in_care', 'child_in_need', \"missing_v4\"]\n",
    "table_1_v7 = TableOne(\n",
    "    asd_data_v7, \n",
    "    columns, \n",
    "    categorical,\n",
    "    groupby=\"missing_v4\")\n",
    "table_1_v7"
   ]
  },
  {
   "cell_type": "code",
   "execution_count": null,
   "id": "81766ff6-6c51-4187-bd27-16a298a05aa8",
   "metadata": {},
   "outputs": [],
   "source": []
  }
 ],
 "metadata": {
  "environment": {
   "kernel": "conda-env-profileEnv-py",
   "name": "r-cpu.4-2.m110",
   "type": "gcloud",
   "uri": "gcr.io/deeplearning-platform-release/r-cpu.4-2:m110"
  },
  "kernelspec": {
   "display_name": "Python [conda env:profileEnv]",
   "language": "python",
   "name": "conda-env-profileEnv-py"
  },
  "language_info": {
   "codemirror_mode": {
    "name": "ipython",
    "version": 3
   },
   "file_extension": ".py",
   "mimetype": "text/x-python",
   "name": "python",
   "nbconvert_exporter": "python",
   "pygments_lexer": "ipython3",
   "version": "3.10.9"
  }
 },
 "nbformat": 4,
 "nbformat_minor": 5
}
