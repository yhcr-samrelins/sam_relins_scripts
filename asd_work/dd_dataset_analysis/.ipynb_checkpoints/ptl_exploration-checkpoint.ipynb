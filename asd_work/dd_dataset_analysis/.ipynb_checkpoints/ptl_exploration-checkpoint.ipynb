{
 "cells": [
  {
   "cell_type": "markdown",
   "id": "3d1535cd-9b43-4ba9-a03e-c45b8f0c36c4",
   "metadata": {},
   "source": [
    "## To do:\n",
    "\n",
    "* sanity check diagnoses with jac report and closed cases\n",
    "* look at creating discharged variable - compare with closed cases and "
   ]
  },
  {
   "cell_type": "code",
   "execution_count": null,
   "id": "b69aeae3-e077-4a4c-b2d8-cffd12b5374d",
   "metadata": {},
   "outputs": [],
   "source": [
    "import pandas as pd\n",
    "import numpy as np\n",
    "import matplotlib"
   ]
  },
  {
   "cell_type": "code",
   "execution_count": null,
   "id": "c3f3b4f7-9577-4044-b0cc-b35f7ee0bbf2",
   "metadata": {},
   "outputs": [],
   "source": [
    "project = \"yhcr-prd-phm-bia-core\"\n",
    "dd_table = f\"{project}.CB_FDM_ASD_PTL.tbl_autism_amalgamated_ptl_oct2022\"\n",
    "asd_table = f\"{project}.CB_ASD_data.ASD_master_tab\"\n",
    "person_data_view_sql = f\"\"\"\n",
    "    WITH asd AS ( \n",
    "        SELECT person_id, diagnosis_date AS pc_diagnosis_date, TRUE AS asd_diag_in_pc\n",
    "        FROM {asd_table}\n",
    "    )\n",
    "    SELECT *\n",
    "    FROM {dd_table} \n",
    "    LEFT JOIN asd\n",
    "    USING(person_id)\n",
    "\"\"\"\n",
    "asd_data = pd.read_gbq(person_data_view_sql)"
   ]
  },
  {
   "cell_type": "code",
   "execution_count": null,
   "id": "b669e195-689e-42e6-b6b1-bfe320118476",
   "metadata": {},
   "outputs": [],
   "source": [
    "asd_data.info()"
   ]
  },
  {
   "cell_type": "markdown",
   "id": "c8c2c017-4d65-4a3b-a671-d4f55208d8ee",
   "metadata": {},
   "source": [
    "## Duplicates\n",
    "\n",
    "Several duplicate ASD assessments (probably the same for ADHD) - Explore further"
   ]
  },
  {
   "cell_type": "code",
   "execution_count": null,
   "id": "209868f4-b8a8-48df-8be5-e1933d88026e",
   "metadata": {},
   "outputs": [],
   "source": [
    "pd.set_option(\"display.max_columns\", None)\n",
    "over_one_asd_assessment = (asd_data\n",
    "                           .groupby(\"person_id\")[\"asd_assessment\"]\n",
    "                           .transform(\"sum\") > 1)\n",
    "asd_data[over_one_asd_assessment].sort_values(\"person_id\")"
   ]
  },
  {
   "cell_type": "markdown",
   "id": "c9d5c730-e887-4339-8c97-fcad35b891d9",
   "metadata": {},
   "source": [
    "# PTL / Primary Care comparison\n",
    "\n",
    "In the PTL there are 2052 individuals diagnosed with ASD"
   ]
  },
  {
   "cell_type": "code",
   "execution_count": null,
   "id": "997c39a1-25a1-40a2-8163-136756e6214d",
   "metadata": {},
   "outputs": [],
   "source": [
    "keep_first = asd_data.sort_values(\"referral_date\").person_id.duplicated(keep=\"last\")\n",
    "duplicate_asd = over_one_asd_assessment & keep_first\n",
    "asd_data[~duplicate_asd].asd_diagnosis.sum()"
   ]
  },
  {
   "cell_type": "markdown",
   "id": "f3c96c1f-1c24-472c-abba-90715e3db7ca",
   "metadata": {},
   "source": [
    "only a third of diagnosed cases have a diagnosis in the primary care data"
   ]
  },
  {
   "cell_type": "code",
   "execution_count": null,
   "id": "05b5df80-1961-4404-ade5-5337cce001a1",
   "metadata": {},
   "outputs": [],
   "source": [
    "asd_data[asd_data.asd_diagnosis & ~duplicate_asd].asd_diag_in_pc.value_counts() "
   ]
  },
  {
   "cell_type": "code",
   "execution_count": null,
   "id": "5cfeeab0-2d07-46ee-90e0-b9f699af1299",
   "metadata": {},
   "outputs": [],
   "source": [
    "asd_data[asd_data.asd_diagnosis & ~duplicate_asd].asd_diag_in_pc.value_counts() /2052 * 100"
   ]
  },
  {
   "cell_type": "markdown",
   "id": "c302826a-3d19-4664-a2c0-f5b640c12928",
   "metadata": {},
   "source": [
    "207 individuals with a diagnosis in pc data are not marked as diagnosed in the PTL"
   ]
  },
  {
   "cell_type": "code",
   "execution_count": null,
   "id": "4ed507f5-ee58-4e9c-a33a-12926336284f",
   "metadata": {},
   "outputs": [],
   "source": [
    "asd_data[asd_data.asd_diag_in_pc & ~duplicate_asd].asd_diagnosis.value_counts() "
   ]
  },
  {
   "cell_type": "markdown",
   "id": "5fc22b4e-a548-41e3-88ac-f311752308ae",
   "metadata": {},
   "source": [
    "compare date of diagnosis distribution between those with/without a diagnosis in the primary care data:"
   ]
  },
  {
   "cell_type": "code",
   "execution_count": null,
   "id": "a74debf8-e23b-48d5-a183-5c1c6fd3aaa2",
   "metadata": {},
   "outputs": [],
   "source": [
    "asd_data[asd_data.asd_diagnosis & asd_data.asd_diag_in_pc].jac_report_circulated_dd_mm_yyyy.hist(bins=50)"
   ]
  },
  {
   "cell_type": "code",
   "execution_count": null,
   "id": "6e46118c-4e2f-481e-9838-cbcb62518335",
   "metadata": {},
   "outputs": [],
   "source": [
    "asd_data[asd_data.asd_diagnosis & ~asd_data.asd_diag_in_pc].jac_report_circulated_dd_mm_yyyy.hist(bins=50)"
   ]
  },
  {
   "cell_type": "code",
   "execution_count": null,
   "id": "1665e61c-d4f6-4bca-8f40-5d2d67d411c3",
   "metadata": {},
   "outputs": [],
   "source": []
  }
 ],
 "metadata": {
  "environment": {
   "kernel": "conda-env-FDMEnv-py",
   "name": "r-cpu.4-2.m110",
   "type": "gcloud",
   "uri": "gcr.io/deeplearning-platform-release/r-cpu.4-2:m110"
  },
  "kernelspec": {
   "display_name": "Python [conda env:FDMEnv]",
   "language": "python",
   "name": "conda-env-FDMEnv-py"
  },
  "language_info": {
   "codemirror_mode": {
    "name": "ipython",
    "version": 3
   },
   "file_extension": ".py",
   "mimetype": "text/x-python",
   "name": "python",
   "nbconvert_exporter": "python",
   "pygments_lexer": "ipython3",
   "version": "3.10.5"
  }
 },
 "nbformat": 4,
 "nbformat_minor": 5
}
