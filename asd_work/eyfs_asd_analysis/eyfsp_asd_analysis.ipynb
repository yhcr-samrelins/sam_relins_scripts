{
 "cells": [
  {
   "cell_type": "markdown",
   "id": "c6cca3c8-8185-4abb-9532-00b3e438f069",
   "metadata": {},
   "source": [
    "# EYFSP Scores + ASD Diagnoses Analysis\n",
    "\n",
    "Load and format data for analysis:"
   ]
  },
  {
   "cell_type": "code",
   "execution_count": null,
   "id": "27e993a6-5d04-435c-9287-a2427209b238",
   "metadata": {},
   "outputs": [],
   "source": [
    "import pandas as pd\n",
    "import numpy as np\n",
    "\n",
    "ey_asd = pd.read_gbq(\"yhcr-prd-phm-bia-core.CY_MYSPACE_SR.EYFSP_autism_study_data\")\n",
    "\n",
    "# sum over eyfsp scores for total score\n",
    "eyfsp_cols = [\"COMG01\", \"COMG02\", \"COMG03\", \"PHYG04\", \"PHYG05\", \n",
    "              \"PSEG06\", \"PSEG07\",  \"PSEG08\", \"LITG09\", \"LITG10\", \n",
    "              \"MATG11\", \"MATG12\", \"UTWG13\", \"UTWG14\",  \"UTWG15\", \n",
    "              \"EXPG16\", \"EXPG17\"]\n",
    "ey_asd[\"total_score\"] = ey_asd[eyfsp_cols].sum(axis=1)\n",
    "\n",
    "# sum over scores for weighted subscore tests for subscore\n",
    "subscore_cols = [\"COMG01\", \"PHYG05\", \"PSEG07\", \"PSEG08\", \"EXPG17\"]\n",
    "ey_asd[\"subscore\"] = ey_asd[subscore_cols].sum(axis=1)\n",
    "\n",
    "# create low score/subscore cols\n",
    "def normalise(x):\n",
    "    return (x - x.mean()) / x.std()\n",
    "ey_asd[\"low_total_score\"] = normalise(ey_asd.total_score) < -1\n",
    "ey_asd[\"low_subscore\"] = normalise(ey_asd.subscore) < -1\n",
    "\n",
    "# convert gender col to \"Male?\"\n",
    "mf_mask = {\"M\":\"Yes\", \"F\":\"No\"}\n",
    "ey_asd[\"male\"] = ey_asd.gender.map(mf_mask)\n",
    "\n",
    "# Re-format ethnicities\n",
    "eth_dtype = pd.api.types.CategoricalDtype(categories=[\"white_brit\", \n",
    "                                                      \"pakistani\", \n",
    "                                                      \"other\"], \n",
    "                                                   ordered=False)\n",
    "eth_map = {\"white_brit\": \"White British\",\n",
    "           \"pakistani\": \"Pakistani\", \n",
    "           \"other\":\"Other\"}\n",
    "ey_asd[\"ethnicity\"] = ey_asd.ethnicity.astype(eth_dtype).map(eth_map)\n",
    "\n",
    "ey_asd[\"age_binned\"] = \"<10\"\n",
    "for age in range(10,14):\n",
    "    age_mask = ey_asd.extract_age == age\n",
    "    ey_asd.loc[age_mask, \"age_binned\"] = str(age)\n",
    "over_15_mask = ey_asd.extract_age > 13\n",
    "ey_asd.loc[over_15_mask, \"age_binned\"] = \">13\" \n",
    "ey_asd.loc[ey_asd.extract_age.isna(), \"age_binned\"] = np.nan\n",
    "age_bin_dtype = pd.api.types.CategoricalDtype(categories=[\"<10\", \"10\", \"11\", \"12\",\n",
    "                                                          \"13\", \">13\"],   \n",
    "                                              ordered=False)\n",
    "ey_asd[\"age_binned\"] = ey_asd.age_binned.astype(age_bin_dtype)\n",
    "\n",
    "for col in ey_asd.columns:\n",
    "    if \"bool\" in str(ey_asd[col].dtype):\n",
    "        yn_map = {True: \"Yes\", False: \"No\"}\n",
    "        ey_asd[col] = ey_asd[col].map(yn_map)\n",
    "\n",
    "drop_cols = [\"person_id\", \"gender\"]\n",
    "ey_asd.drop(drop_cols, axis=1, inplace=True)\n",
    "\n",
    "ey_asd.info()"
   ]
  },
  {
   "cell_type": "code",
   "execution_count": null,
   "id": "377de472-b458-423a-88c3-f811aabdee70",
   "metadata": {},
   "outputs": [],
   "source": [
    "colnames_map = {\n",
    "    'FSMeligible': \"Eligible for Free School Meals\", \n",
    "    'COMG01': \"EYFS - Listening and attention\", \n",
    "    'COMG02': \"EYFS - Understanding\", \n",
    "    'COMG03': \"EYFS - Speaking\", \n",
    "    'PHYG04': \"EYFS - Moving and handling\", \n",
    "    'PHYG05': \"EYFS - Health and self-care\", \n",
    "    'PSEG06': \"EYFS - Self-confidence and self-awareness\", \n",
    "    'PSEG07': \"EYFS - Managing feelings and behaviour\", \n",
    "    'PSEG08': \"EYFS - Making relationships\", \n",
    "    'LITG09': \"EYFS - Reading\", \n",
    "    'LITG10': \"EYFS - Writing\", \n",
    "    'MATG11': \"EYFS - Numbers\", \n",
    "    'MATG12': \"EYFS - Shape, space and measures\", \n",
    "    'UTWG13': \"EYFS - People and communities\", \n",
    "    'UTWG14': \"EYFS - The World\", \n",
    "    'UTWG15': \"EYFS - Technology\", \n",
    "    'EXPG16': \"EYFS - Exploring and using media and materials\", \n",
    "    'EXPG17': \"EYFS - Being imaginative\", \n",
    "    'asd_diagnosis': \"Has ASD Diagnosis\", \n",
    "    'ethnicity': \"Ethnicity\", \n",
    "    'extract_age': \"Age At Extract\", \n",
    "    'total_score': \"EYFS Score Total\", \n",
    "    'subscore': \"5-item EYFS Score\", \n",
    "    'low_total_score': \"Has Low Total Score\", \n",
    "    'low_subscore': \"Has Low Subscore\", \n",
    "    'age_binned': \"Age\",\n",
    "    'male': \"Male\" \n",
    "}"
   ]
  },
  {
   "cell_type": "code",
   "execution_count": null,
   "id": "7056a97f-4540-484e-93c3-32ee45dcd57b",
   "metadata": {},
   "outputs": [],
   "source": [
    "from tableone import TableOne\n",
    "\n",
    "num_cols = [\"total_score\", \"subscore\"]\n",
    "cols = list(ey_asd\n",
    "            .drop(num_cols + eyfsp_cols + [\"asd_diagnosis\", \"extract_age\"], axis=1)\n",
    "            .rename(colnames_map, axis=1)\n",
    "            .columns)\n",
    "\n",
    "tab = TableOne(ey_asd.rename(colnames_map, axis=1),\n",
    "               columns=cols, \n",
    "               categorical=cols, \n",
    "               groupby=\"Has ASD Diagnosis\")\n",
    "tab"
   ]
  },
  {
   "cell_type": "markdown",
   "id": "ab62b928-ebd5-4510-abbf-c76d61af07dc",
   "metadata": {},
   "source": [
    "### Distribution of EYFSP Scores and Five-Item Subscore\n",
    "\n",
    "Total EYFSP score is simple sum of the scores 1-3 (1=\"Emerging\", 2=\"Expected\", 3=\"Exceeding\") across all 17 EYFS development areas.\n",
    "\n",
    "The five-item subscore is taken from Kelly et. al 2019 developed by a small group of ASD assessment experts:\n",
    "\n",
    "The social aspect mapped onto:\n",
    "* Personal, social and emotional: managing feelings and behaviour/.\n",
    "* Personal, social and emotional: making relationships.\n",
    "\n",
    "Language and communications aspect mapped onto:\n",
    "* Communication and language: listening and attention. Imagination aspect mapped onto:\n",
    "* Expressive arts and design: being imaginative.\n",
    "\n",
    "Repetitive and stereotyped behaviours mapped onto:\n",
    "* Physical development: health and self-care.\n",
    "\n",
    "Comparison of below visualisation with Kelly et al. equivalent highlights something a little odd about the former. The Kelly et al. histogram shows a max score for the 5-item subscore as 21 - the max score in any individual test is 3, so the max should be 15 (as in the histogram below), unless some weighting/other function of the score has been used.\n",
    "\n",
    "The paper does refer to the subscore as a \"weighted subscore\" but, from the text, that appears to relate to the use of two EYFSP results for the social aspect of ASD which is considered more important. No alternative weighting calculation of the subscore is mentioned, which suggest it should be a simple sum of the 5 tests with a max score of 15 - might need revisiting:"
   ]
  },
  {
   "cell_type": "code",
   "execution_count": null,
   "id": "2c9a9a0b-3b9f-4bef-9799-ebef9697035d",
   "metadata": {},
   "outputs": [],
   "source": [
    "tab.to_latex(\"table_1.tex\")"
   ]
  },
  {
   "cell_type": "code",
   "execution_count": null,
   "id": "e595444c-7049-4efc-ba48-d17b415719cc",
   "metadata": {},
   "outputs": [],
   "source": [
    "import plotly.express as px\n",
    "from IPython.display import Image\n",
    "\n",
    "hist_fig = px.histogram(ey_asd, \n",
    "                   x=[\"total_score\", \"subscore\"], \n",
    "                   width=800, \n",
    "                   height=500,\n",
    "                   title=\"Distribution of EYFSP Scores\")\n",
    "hist_fig.update_yaxes(title=\"Count\", ticks=\"\", showticklabels=False)\n",
    "hist_fig.update_xaxes(title=\"EYFSP Score\", ticks=\"\")\n",
    "newnames = {\"total_score\":\"Total Score\", \"subscore\":\"Subscore\"}\n",
    "hist_fig.for_each_trace(lambda x: x.update(name = newnames[x.name]))\n",
    "hist_fig.update_layout(legend_title=\"\",\n",
    "                  title={'text': \"Distribution of EYFSP Scores\", \n",
    "                         'y':0.9,\n",
    "                         'x':0.5, \n",
    "                         'xanchor': 'center', \n",
    "                         'yanchor': 'top'})\n",
    "hist_img = hist_fig.to_image(format=\"png\")\n",
    "Image(hist_img)"
   ]
  },
  {
   "cell_type": "markdown",
   "id": "007c6b41-9665-4a6f-8d5e-f5407cda85be",
   "metadata": {},
   "source": [
    "Not sure how the density plots in original paper were generated - no explanation. I've had a go using a gaussian KDE and normalising the x and y values. Bit of a strange approach but seems to result in similar outputs:"
   ]
  },
  {
   "cell_type": "code",
   "execution_count": null,
   "id": "6dae956a-ae6e-40b2-9873-a6acc09b67a7",
   "metadata": {},
   "outputs": [],
   "source": [
    "import numpy as np\n",
    "import plotly.graph_objects as go\n",
    "from plotly.subplots import make_subplots\n",
    "from scipy.stats import gaussian_kde\n",
    "\n",
    "def return_eyfs_kde_plot(score_col, name):\n",
    "    scores = ey_asd[score_col]\n",
    "    normalised_scores = (scores - scores.mean()) / scores.std()\n",
    "    kde = gaussian_kde(normalised_scores)\n",
    "    score_steps = list(scores.sort_values().unique())\n",
    "    score_steps = [scores.min() - (scores.std()/5)] + score_steps + [scores.max() + (scores.std()/5)]\n",
    "    xx = (score_steps - scores.mean()) / scores.std()\n",
    "    yy = kde.evaluate(xx)\n",
    "    yy = yy/np.std(yy)/10\n",
    "    return go.Scatter(x=xx, \n",
    "                      y=yy, \n",
    "                      name=name,\n",
    "                      line=dict(shape=\"spline\"), \n",
    "                      mode=\"lines\")\n",
    "\n",
    "density_fig = go.Figure()\n",
    "for i, col_tuple in enumerate({\"total_score\": \"Total Score\", \n",
    "                               \"subscore\": \"Subscore\"}.items()):\n",
    "    col, name = col_tuple\n",
    "    plot = return_eyfs_kde_plot(col, name)\n",
    "    density_fig.add_trace(plot)\n",
    "    \n",
    "sd_line = go.Scatter(x=[-1, -1], \n",
    "                     y=[0, 1],\n",
    "                     mode=\"lines\",\n",
    "                     line=dict(color=\"black\",\n",
    "                               dash=\"dash\"))\n",
    "sd_line.showlegend = False\n",
    "    \n",
    "density_fig.add_trace(sd_line)\n",
    "    \n",
    "density_fig.layout.xaxis.update(range=[-2.7,2.7])\n",
    "density_fig.layout.yaxis.update(range=[0,0.6])\n",
    "density_fig.update_layout(height=600, \n",
    "                  width=500, \n",
    "                  xaxis_title=\"Normalised EYFSP Score\",\n",
    "                  title={'text': \"Standardised Distribution of EYFSP Scores\", \n",
    "                         'y':0.93,\n",
    "                         'x':0.5, \n",
    "                         'xanchor': 'center', \n",
    "                         'yanchor': 'top'},\n",
    "                  yaxis_title=\"Density Estimate\")\n",
    "density_fig.show()"
   ]
  },
  {
   "cell_type": "code",
   "execution_count": null,
   "id": "15a4bff2-9b0d-4faa-a602-58e3105130fc",
   "metadata": {},
   "outputs": [],
   "source": [
    "joint_density_fig = make_subplots(rows=1, cols=2)\n",
    "total_score_hist = go.Histogram(x=ey_asd.total_score)\n",
    "joint_density_fig.add_trace(total_score_hist, row=1, col=1)\n",
    "subscore_hist = go.Histogram(x=ey_asd.subscore)\n",
    "joint_density_fig.add_trace(subscore_hist, row=1, col=1)\n",
    "\n",
    "for i, col_tuple in enumerate({\"total_score\": \"Total Score\", \n",
    "                               \"subscore\": \"Subscore\"}.items()):\n",
    "    col, name = col_tuple\n",
    "    plot = return_eyfs_kde_plot(col, name)\n",
    "    joint_density_fig.add_trace(plot, row=1, col=2)\n",
    "    \n",
    "sd_line = go.Scatter(x=[-1, -1], \n",
    "                     y=[0, 1],\n",
    "                     mode=\"lines\",\n",
    "                     line=dict(color=\"black\",\n",
    "                               dash=\"dash\"))\n",
    "sd_line.showlegend = False\n",
    "    \n",
    "joint_density_fig.add_trace(sd_line, row=1, col=2)\n",
    "    \n",
    "# density_fig.layout.xaxis.update(range=[-2.7,2.7])\n",
    "# density_fig.layout.yaxis.update(range=[0,0.6])\n",
    "# density_fig.update_layout(height=600, \n",
    "#                   width=500, \n",
    "#                   xaxis_title=\"Normalised EYFSP Score\",\n",
    "#                   title={'text': \"Standardised Distribution of EYFSP Scores\", \n",
    "#                          'y':0.93,\n",
    "#                          'x':0.5, \n",
    "#                          'xanchor': 'center', \n",
    "#                          'yanchor': 'top'},\n",
    "#                   yaxis_title=\"Density Estimate\")\n",
    "joint_density_fig.show()"
   ]
  },
  {
   "cell_type": "code",
   "execution_count": null,
   "id": "300b36d4-34ff-464c-873f-5a9097305c66",
   "metadata": {},
   "outputs": [],
   "source": [
    "fig.write_image(\"scores_density.jpeg\", scale=2)"
   ]
  },
  {
   "cell_type": "code",
   "execution_count": null,
   "id": "a673eb2a-05d0-4311-ada3-92ee19fcc831",
   "metadata": {},
   "outputs": [],
   "source": [
    "joint_density_fig = make_subplots(rows=1, cols=2)\n",
    "joint_density_fig.add_trace(hist_fig, row=1, col=1)\n",
    "joint_density_fig.add_trace(density_fig, row=1, col=2)\n",
    "joint_density_fig.show()"
   ]
  },
  {
   "cell_type": "markdown",
   "id": "3fa38ff9-a411-4adf-abfb-d9d87b8840c5",
   "metadata": {},
   "source": [
    "## Logistic Regression\n",
    "\n",
    "### Prepping data:\n",
    "\n",
    "The paper divides age at extract into 6/7/8+ - no explanation of the logic of this. Also age not included in basic demographic info, so hard to tell the range of ages for the dataset used in the paper. Great. I'll just stick all but 7/16 (n 1 and 2 respectively) into the model and see what happens."
   ]
  },
  {
   "cell_type": "code",
   "execution_count": null,
   "id": "15c2eaac-9ff4-48bb-be92-ae6f28e95751",
   "metadata": {},
   "outputs": [],
   "source": [
    "int_map = {\"No\":0, \"Yes\":1}\n",
    "ey_asd[\"asd_diagnosis\"] = ey_asd.asd_diagnosis.map(int_map)\n",
    "ey_asd.dropna(inplace=True)\n",
    "ey_asd.info()"
   ]
  },
  {
   "cell_type": "code",
   "execution_count": null,
   "id": "fcb5de62-6fa9-4ea1-be06-35717730c929",
   "metadata": {},
   "outputs": [],
   "source": [
    "ey_asd.total_score.mean() - ey_asd.total_score.std()"
   ]
  },
  {
   "cell_type": "code",
   "execution_count": null,
   "id": "cc44cc0b-4dd8-4f28-ad15-7b3ecdf5bbc8",
   "metadata": {},
   "outputs": [],
   "source": [
    "import statsmodels.api as sm\n",
    "from IPython.display import *\n",
    "\n",
    "def get_model_odds(model_results, return_probs=False):\n",
    "    model_odds = np.exp(model_results.conf_int())\n",
    "    print(model_odds)\n",
    "    if return_probs:\n",
    "        model_odds = 1/(1+model_odds)\n",
    "    print(model_odds)\n",
    "    model_odds[\"coef\"] = np.exp(model_results.params)\n",
    "    lower_int = model_odds[0].round(3).astype(str) \n",
    "    upper_int = model_odds[1].round(3).astype(str) \n",
    "    model_odds[\"conf_int\"] = \"(\" + lower_int + \", \" + upper_int + \")\"\n",
    "    return model_odds[[\"coef\", \"conf_int\"]]\n",
    "\n",
    "\n",
    "def display_logit_results(cols):\n",
    "    patsy_string = f\"asd_diagnosis ~ {' + '.join(cols)}\"\n",
    "    mod = sm.Logit.from_formula(patsy_string, data=ey_asd)\n",
    "    results = mod.fit(maxiter=100,\n",
    "                      disp=True)\n",
    "    display(results.summary())\n",
    "    model_odds = get_model_odds(results)\n",
    "    display(HTML(\"<h4>Odds:</h4>\"))\n",
    "    display(model_odds)\n",
    "    model_probs = get_model_odds(results, return_probs=True)\n",
    "    display(HTML(\"<h4>Probs:</h4>\"))\n",
    "    display(model_probs)\n",
    "    \n",
    "\n",
    "def save_model_odds(cols, name):\n",
    "    patsy_string = f\"asd_diagnosis ~ {' + '.join(cols)}\"\n",
    "    mod = sm.Logit.from_formula(patsy_string, data=ey_asd)\n",
    "    results = mod.fit(maxiter=100,\n",
    "                      disp=True)\n",
    "    model_odds = get_model_odds(results)\n",
    "    model_odds.to_latex(f\"{name}.tex\")"
   ]
  },
  {
   "cell_type": "code",
   "execution_count": null,
   "id": "cbc912e7-8087-49a5-bc29-de4a3c55e29d",
   "metadata": {},
   "outputs": [],
   "source": [
    "def get_model_margeff(cols):\n",
    "    patsy_string = f\"asd_diagnosis ~ {' + '.join(cols)}\"\n",
    "    mod = sm.Logit.from_formula(patsy_string, data=ey_asd)\n",
    "    results = mod.fit(maxiter=100,\n",
    "                      disp=True)\n",
    "    return results.get_margeff().summary()"
   ]
  },
  {
   "cell_type": "markdown",
   "id": "d03539c6-4257-48a7-ae57-8c8ce6c4dca8",
   "metadata": {},
   "source": [
    "## Total Score Models"
   ]
  },
  {
   "cell_type": "code",
   "execution_count": null,
   "id": "62f2beb6-1a34-4397-8236-f2a052a787f3",
   "metadata": {},
   "outputs": [],
   "source": [
    "param_cols = [\"low_total_score\"]\n",
    "display_logit_results(param_cols)"
   ]
  },
  {
   "cell_type": "code",
   "execution_count": null,
   "id": "bf26895c-288b-4c71-a71a-24d56bbc6fe6",
   "metadata": {},
   "outputs": [],
   "source": [
    "get_model_margeff([\"low_total_score\"])"
   ]
  },
  {
   "cell_type": "code",
   "execution_count": null,
   "id": "642e0884-75ac-4021-8839-04fd80a99122",
   "metadata": {},
   "outputs": [],
   "source": [
    "print(get_model_margeff([\"FSMeligible\", \"ethnicity\", \"low_total_score*male\",  \n",
    "                       \"low_total_score\", \"male\", \"age_binned\"]))"
   ]
  },
  {
   "cell_type": "code",
   "execution_count": null,
   "id": "50a02d48-9041-4af3-8b00-d6d7db1dbbf8",
   "metadata": {},
   "outputs": [],
   "source": [
    "param_cols = [\"low_total_score\"]\n",
    "save_model_odds(param_cols, \"tot_total_effects\")"
   ]
  },
  {
   "cell_type": "code",
   "execution_count": null,
   "id": "b7e34522-4294-4695-9a92-0c62f06163b6",
   "metadata": {},
   "outputs": [],
   "source": [
    "display_logit_results([\"FSMeligible\", \"ethnicity\", \"low_total_score*male\",  \n",
    "                       \"age_binned\"])"
   ]
  },
  {
   "cell_type": "code",
   "execution_count": null,
   "id": "06966a78-63e2-4008-b900-0075af6d78dd",
   "metadata": {},
   "outputs": [],
   "source": [
    "save_params_data([\"FSMeligible\", \"ethnicity\", \"low_total_score*male\", \n",
    "                  \"age_binned\"], \"total_score_params\")"
   ]
  },
  {
   "cell_type": "code",
   "execution_count": null,
   "id": "29e2d1c4-399b-41d0-97b8-193272c83b21",
   "metadata": {},
   "outputs": [],
   "source": [
    "ey_asd[\"extract_age\"] = ey_asd.extract_age.astype(\"int32\")\n",
    "display_logit_results([\"FSMeligible\", \"ethnicity\", \"low_total_score*male\", \n",
    "                       \"low_total_score\", \"male\", \"extract_age\"])"
   ]
  },
  {
   "cell_type": "code",
   "execution_count": null,
   "id": "d4430770-5789-47c2-b384-8d65c5a0349b",
   "metadata": {},
   "outputs": [],
   "source": [
    "display_logit_results([\"male\", \"ethnicity\", \"low_total_score\", \"male*low_total_score\"])"
   ]
  },
  {
   "cell_type": "markdown",
   "id": "3339287e-6cf2-4fff-b132-77622d64960c",
   "metadata": {},
   "source": [
    "## Low Subscore Models"
   ]
  },
  {
   "cell_type": "code",
   "execution_count": null,
   "id": "aedadcda-0459-4772-8a0b-17a36387bbd9",
   "metadata": {},
   "outputs": [],
   "source": [
    "display_logit_results([\"low_subscore\"])"
   ]
  },
  {
   "cell_type": "code",
   "execution_count": null,
   "id": "30d3ca9d-b5eb-4764-be02-f26cccc51866",
   "metadata": {},
   "outputs": [],
   "source": [
    "save_params_data([\"low_subscore\"], \"sub_total_effects\")"
   ]
  },
  {
   "cell_type": "code",
   "execution_count": null,
   "id": "c4be9656-e5c1-43bf-a21e-ad105fbbb492",
   "metadata": {},
   "outputs": [],
   "source": [
    "display_logit_results([\"age_binned\", \"FSMeligible\", \"ethnicity\", \"male*low_subscore\"])"
   ]
  },
  {
   "cell_type": "code",
   "execution_count": null,
   "id": "abdf36c8-9080-4964-891a-bb5e4a0f8efc",
   "metadata": {},
   "outputs": [],
   "source": [
    "print(get_model_margeff([\"age_binned\", \"FSMeligible\", \"ethnicity\", \"male*low_subscore\"]))"
   ]
  },
  {
   "cell_type": "code",
   "execution_count": null,
   "id": "685e8e97-f4d0-4683-a437-0a30da59b533",
   "metadata": {},
   "outputs": [],
   "source": [
    "save_params_data([\"age_binned\", \"FSMeligible\", \"ethnicity\", \"male\", \n",
    "                       \"low_subscore\", \"male*low_subscore\"], \"subscore_params_data\")"
   ]
  },
  {
   "cell_type": "code",
   "execution_count": null,
   "id": "a065decb-64af-43ee-99d0-8b5937f198ad",
   "metadata": {},
   "outputs": [],
   "source": [
    "display_logit_results([\"ethnicity\", \"male\", \"low_subscore\", \"male*low_subscore\"])"
   ]
  },
  {
   "cell_type": "markdown",
   "id": "29a1920f-109d-473f-a714-d74b68827c21",
   "metadata": {},
   "source": [
    "## Subject Area Models"
   ]
  },
  {
   "cell_type": "code",
   "execution_count": null,
   "id": "47ae370c-3971-4837-8721-080a241403fa",
   "metadata": {},
   "outputs": [],
   "source": [
    "eyfs_results_dtype = pd.api.types.CategoricalDtype(categories=[\"Expected\",  \n",
    "                                                               \"Emerging\",  \n",
    "                                                               \"Exceeding\"], \n",
    "                                                   ordered=False)\n",
    "\n",
    "main_subjects = [\"COM\", \"LIT\", \"MAT\", \"PHY\", \"PSE\"]\n",
    "\n",
    "for subject in main_subjects:\n",
    "    subject_cols = [col for col in ey_asd.columns if subject in col]\n",
    "    ey_asd[f\"{subject}_overall\"] = \"Expected\"\n",
    "    \n",
    "    expected_mask = (ey_asd[subject_cols] == 1).any(axis=1)\n",
    "    ey_asd.loc[expected_mask, f\"{subject}_overall\"] = \"Emerging\"\n",
    "    \n",
    "    exceeding_mask = (ey_asd[subject_cols] == 3).all(axis=1)\n",
    "    ey_asd.loc[exceeding_mask, f\"{subject}_overall\"] = \"Exceeding\"\n",
    "    \n",
    "    ey_asd[f\"{subject}_overall\"] = (ey_asd[f\"{subject}_overall\"]\n",
    "                                          .astype(eyfs_results_dtype))\n",
    "    \n",
    "    isna = np.any(ey_asd[subject_cols].isna(), axis=1)\n",
    "    ey_asd.loc[isna, f\"{subject}_overall\"] = np.nan"
   ]
  },
  {
   "cell_type": "code",
   "execution_count": null,
   "id": "43c9faed-7be7-404c-baeb-bbcfe6087a28",
   "metadata": {},
   "outputs": [],
   "source": [
    "for subject in main_subjects:\n",
    "    overall_colname = f\"{subject}_overall\"\n",
    "    print(\"=\"*80)\n",
    "    print(overall_colname)\n",
    "    print()\n",
    "    display_logit_results([\"ethnicity\", overall_colname, \"male\", \"male*\"+overall_colname])\n",
    "    print(\"=\"*80)"
   ]
  },
  {
   "cell_type": "code",
   "execution_count": null,
   "id": "2b99e8cd-d0bc-47bf-88c0-5adb3fcd7a1a",
   "metadata": {},
   "outputs": [],
   "source": [
    "display_logit_results([\"ethnicity\", \"male\"] + [f\"{col}_overall\" for"
   ]
  },
  {
   "cell_type": "code",
   "execution_count": null,
   "id": "8b564372-3e92-4be5-af90-cb72a66f4575",
   "metadata": {},
   "outputs": [],
   "source": []
  }
 ],
 "metadata": {
  "environment": {
   "kernel": "asdenv",
   "name": "r-cpu.4-2.m110",
   "type": "gcloud",
   "uri": "gcr.io/deeplearning-platform-release/r-cpu.4-2:m110"
  },
  "kernelspec": {
   "display_name": "ASDEnv",
   "language": "python",
   "name": "asdenv"
  },
  "language_info": {
   "codemirror_mode": {
    "name": "ipython",
    "version": 3
   },
   "file_extension": ".py",
   "mimetype": "text/x-python",
   "name": "python",
   "nbconvert_exporter": "python",
   "pygments_lexer": "ipython3",
   "version": "3.11.4"
  }
 },
 "nbformat": 4,
 "nbformat_minor": 5
}
