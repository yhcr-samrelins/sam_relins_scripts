{
 "cells": [
  {
   "cell_type": "markdown",
   "id": "9dc195e5-fba4-4de5-a4d1-7e3ad24b1ba8",
   "metadata": {
    "tags": []
   },
   "source": [
    "Notes:\n",
    "\n",
    "* I'm tempted to remove the \"All Other\" ethnicity stats from the visualisations, as it's too heterogeneous a group to really say much about and it detracts from the comparison of Whites/Asians which are more reliable/informative\n",
    "\n",
    "## ASD Cohort Description\n",
    "\n",
    "This study explores the demographic features of individuals 18 years old or younger, identified as having an Autism Spectrum Disorder (ASD) in the Connected Bradford primary care dataset. The primary cohort is defined as any individual with one or more SNOMED read-codes for ASD diagnoses in their primary care record. Information on age, ethnic group (using the XXXX census ??GROUP DESCRIPTION?? - include figure with short names and full descriptions), are taken from the primary care record and form the basis of this analysis. An \"age at diagnosis\" variable is defined as the date at which the first ASD SNOMED code appears on an individual's records. The vast majority of the cohort fall either in the \"White\" or \"Asian\" ethnic groups, so the other ethnicities have been grouped into an \"All Other\" ethnic group as low numbers of records prevent meaningful analysis of their subgroupings.\n",
    "\n",
    "The likelihood of diagnosis, based on the demographic features in the ASD cohort, is also described. The cohort for this analysis is defined as individuals 18 years old or younger appearing in the connected bradford education census data, and the outcome variable is a diagnosis of ASD as defined by individuals from the census data that also appear in the ASD cohort. Sex and ethnic group observations are taken from the primary care data or, where absent, are determined from the data in the education census records. Adjusted odds of ASD diagnosis and confidence intervals for each of the demographic variables are calculated using logistic regression.\n",
    "\n",
    "## Limitations\n",
    "\n",
    "* Absence of record in ASD SNOMEDS or census data assumes no ASD/presence in bradford (kids could be NEET)\n",
    "* Cohort has yet to be validated\n",
    "* Age at diagnosis crude "
   ]
  },
  {
   "cell_type": "code",
   "execution_count": null,
   "id": "45adadbc-8ba4-4e2d-8392-ef56496bc207",
   "metadata": {},
   "outputs": [],
   "source": [
    "import pandas as pd\n",
    "from google.cloud import bigquery\n",
    "import contextily as cx\n",
    "import numpy as np\n",
    "from tableone import TableOne\n",
    "import matplotlib.pyplot as plt\n",
    "import statsmodels\n",
    "import statsmodels.api as sm\n",
    "import statsmodels.formula.api as smf\n",
    "import plotly.express as px\n",
    "import geopandas"
   ]
  },
  {
   "cell_type": "code",
   "execution_count": null,
   "id": "97c7e5db-9b51-4029-87ca-4db8a42b4a97",
   "metadata": {},
   "outputs": [],
   "source": [
    "asd_sql = \"SELECT * FROM `yhcr-prd-phm-bia-core.CB_ASD_data.ASD_master_tab`\"\n",
    "asd_data = pd.read_gbq(asd_sql)"
   ]
  },
  {
   "cell_type": "code",
   "execution_count": null,
   "id": "02a1f0ad-dca1-4457-87e2-eb983ebaa89a",
   "metadata": {},
   "outputs": [],
   "source": [
    "asd_data = asd_data[asd_data.age <= 18]\n",
    "ethnic_group_map = {\n",
    "    \"Unknown\": None,\n",
    "    \"Black or African or Caribbean or Black British\": \"Other\",\n",
    "    \"Mixed multiple ethnic groups\": \"Other\",\n",
    "    \"Other ethnic group\": \"Other\",\n",
    "    \"Asian or Asian British\": \"Asian\",\n",
    "    \"White\": \"White\"\n",
    "}\n",
    "asd_data[\"ethnic_group_full\"] = asd_data.ethnic_group\n",
    "asd_data[\"ethnic_group\"] = asd_data.ethnic_group.apply(\n",
    "    lambda x: ethnic_group_map[x]\n",
    ")\n",
    "asd_data[\"sex\"] = asd_data.sex.apply(\n",
    "    lambda x: None if x == \"Unknown\" else x\n",
    ")"
   ]
  },
  {
   "cell_type": "code",
   "execution_count": null,
   "id": "20cd8565-c703-4c6f-b746-8e5a41c01112",
   "metadata": {},
   "outputs": [],
   "source": [
    "asd_data.head()"
   ]
  },
  {
   "cell_type": "code",
   "execution_count": null,
   "id": "5ac34574-fdb1-48b9-8ab4-ff18b24f577a",
   "metadata": {},
   "outputs": [],
   "source": [
    "megan_data =  asd_data.pivot_table(values=\"age_at_diagnosis\", index=\"person_id\", columns=[\"ethnic_group\", \"sex\"]).reset_index(drop=True)[[\"Asian\", \"White\"]]"
   ]
  },
  {
   "cell_type": "code",
   "execution_count": null,
   "id": "772e8b3f-a75c-4f34-b904-a9df55f70ce0",
   "metadata": {},
   "outputs": [],
   "source": [
    "megan_data.Asian.Male.dropna().median()"
   ]
  },
  {
   "cell_type": "markdown",
   "id": "3830f455-7cd3-4dc5-8666-38e2217345d5",
   "metadata": {},
   "source": [
    "### Ethnic group descriptions\n",
    "\n",
    "* White: \"White\"\n",
    "* Asian: \"Asian or Asian British\"\n",
    "* All other: \"Black or African or Caribbean or Black British/\"Mixed Multiple Ethnic Groups\"/\"Other Ethnic Group\""
   ]
  },
  {
   "cell_type": "markdown",
   "id": "bbfc7f23-166d-4f83-8967-cc0501d70544",
   "metadata": {},
   "source": [
    "## Basic Demographics"
   ]
  },
  {
   "cell_type": "code",
   "execution_count": null,
   "id": "add0b0bb-523d-448e-a688-99f2ef46ad88",
   "metadata": {},
   "outputs": [],
   "source": [
    "columns =  [\n",
    "    'ethnic_group', \n",
    "]\n",
    "categorical = [\"ethnic_group\"] \n",
    "table_1 = TableOne(\n",
    "    asd_data[asd_data.age <= 18], \n",
    "    columns, \n",
    "    categorical,\n",
    "    groupby=\"sex\")\n",
    "table_1"
   ]
  },
  {
   "cell_type": "code",
   "execution_count": null,
   "id": "16a16b83-3ccd-4e92-94fb-54f50d04efdc",
   "metadata": {},
   "outputs": [],
   "source": [
    "asd_data[asd_data.ethnic_group.isna()].groupby(\"sex\").size()"
   ]
  },
  {
   "cell_type": "code",
   "execution_count": null,
   "id": "3532f1d5-13a2-40c3-a225-e895df9380a5",
   "metadata": {},
   "outputs": [],
   "source": [
    "pd.DataFrame(asd_data.groupby([\"sex\", \"ethnic_group\"]).size())"
   ]
  },
  {
   "cell_type": "code",
   "execution_count": null,
   "id": "624e589f-6f84-4d36-b568-71172807987a",
   "metadata": {},
   "outputs": [],
   "source": [
    "sex_stats = (asd_data[asd_data.age <= 18]\n",
    "             .groupby([\"sex\"])[\"age_at_diagnosis\"] \n",
    "             .agg([\"mean\", \"median\", \"std\"]))\n",
    "sex_stats"
   ]
  },
  {
   "cell_type": "code",
   "execution_count": null,
   "id": "296ad1e0-25b1-4198-a003-348958b45dae",
   "metadata": {},
   "outputs": [],
   "source": [
    "sex_stats.to_csv(\"sex_stats.csv\")"
   ]
  },
  {
   "cell_type": "code",
   "execution_count": null,
   "id": "c6571eef-f50b-4685-9e40-20d6c8872f25",
   "metadata": {},
   "outputs": [],
   "source": [
    "eth_stats = (asd_data[asd_data.age <= 18]\n",
    "             .groupby([\"ethnic_group\"])[\"age_at_diagnosis\"] \n",
    "             .agg([\"mean\", \"median\", \"std\"]))\n",
    "eth_stats"
   ]
  },
  {
   "cell_type": "code",
   "execution_count": null,
   "id": "1e33c3e9-5ef2-484e-96f0-e01842a887c0",
   "metadata": {},
   "outputs": [],
   "source": [
    "eth_stats.to_csv(\"eth_stats.csv\")"
   ]
  },
  {
   "cell_type": "code",
   "execution_count": null,
   "id": "55b9183f-e4f1-4f42-b487-ab921ca6c633",
   "metadata": {},
   "outputs": [],
   "source": [
    "sex_eth_stats = (asd_data[asd_data.age <= 18]\n",
    "             .groupby([\"ethnic_group\", \"sex\"])[\"age_at_diagnosis\"] \n",
    "             .agg([\"mean\", \"median\", \"std\"]))\n",
    "sex_eth_stats"
   ]
  },
  {
   "cell_type": "code",
   "execution_count": null,
   "id": "eb2a5cfe-8c50-4502-85f0-cb487b6f9d5c",
   "metadata": {},
   "outputs": [],
   "source": [
    "sex_eth_stats.to_csv(\"sex_ethnic_group_stats.csv\")"
   ]
  },
  {
   "cell_type": "markdown",
   "id": "5b9abdb5-7a06-449a-aa19-631b9d2e6c29",
   "metadata": {},
   "source": [
    "Table XXX shows the demographic breakdown of the ASD cohort. The ethnicities of the cohort do not appear to deviate significantly from those of the overall Bradford district (reference - this is general pop, really need figures for younger age group!!). The majority of the cohort is male (77.4%) ** insert comment about the actual breakdown of ethnicities in Bradford in this age group based on census **\n",
    "\n",
    "Brad ethnicities reference - https://ubd.bradford.gov.uk/media/1682/2021-census-ethnic-group-religion-and-language.pdf"
   ]
  },
  {
   "cell_type": "markdown",
   "id": "3357fabc-6a6b-4cd6-952c-c8d7ead58b44",
   "metadata": {},
   "source": [
    "## Age at Diagnosis\n"
   ]
  },
  {
   "cell_type": "code",
   "execution_count": null,
   "id": "9be331b3-606a-4ce7-a29b-699fb9592aed",
   "metadata": {},
   "outputs": [],
   "source": [
    "color_discrete_map = {\n",
    "    \"Asian\": \"#EDAD06\",\n",
    "    \"Other\": \"#661100\",\n",
    "    \"White\": \"#332288\",\n",
    "    \"Female\": \"#0F7732\",\n",
    "    \"Male\": \"#882255\"\n",
    "}\n",
    "# #EDAD06 #882255 #44AA99\n",
    "labels = {\n",
    "    \"age_at_diagnosis\": \"Age at Diagnosis\", \n",
    "    \"sex\": \"Sex\", \n",
    "    \"ethnic_group\": \"Ethnic Group\"\n",
    "}"
   ]
  },
  {
   "cell_type": "code",
   "execution_count": null,
   "id": "cd7585e5-9ca8-4566-8765-6591c1da2803",
   "metadata": {},
   "outputs": [],
   "source": [
    "age_hist = px.histogram(\n",
    "    asd_data,\n",
    "    x=\"age_at_diagnosis\",\n",
    "    labels=labels,\n",
    "    template=\"simple_white\",\n",
    "    nbins=18\n",
    ")\n",
    "age_hist.show(renderer=\"jpg\")"
   ]
  },
  {
   "cell_type": "code",
   "execution_count": null,
   "id": "3e436018-21d3-46a0-8620-c8c01b055fcc",
   "metadata": {},
   "outputs": [],
   "source": [
    "age_hist.write_image(\"plots/age_hist.jpg\", scale=2)"
   ]
  },
  {
   "cell_type": "markdown",
   "id": "dc5727d6-066d-410b-a33d-a9ae7df5f61a",
   "metadata": {},
   "source": [
    "Figure XXXX shows the distribution of age at diagnosis - it appears to follow a bi-modal distribution with a sharp peak of diagnoses at age 4 and a shallower peak at age 9. ** maybe some commentary on the reasons for this / if this distribution is to be expected **"
   ]
  },
  {
   "cell_type": "code",
   "execution_count": null,
   "id": "d1d73b1f-0210-4276-b50c-a4345557454a",
   "metadata": {},
   "outputs": [],
   "source": [
    "age_sex_box = px.box(\n",
    "    asd_data,\n",
    "    y=\"age_at_diagnosis\", \n",
    "    x=\"sex\",\n",
    "    color=\"sex\", \n",
    "    width=600, \n",
    "    height=500,\n",
    "    labels=labels,\n",
    "    template=\"simple_white\",\n",
    "    color_discrete_map=color_discrete_map\n",
    ")\n",
    "age_sex_box.update_layout(showlegend=False)\n",
    "age_sex_box.show(renderer=\"jpg\")"
   ]
  },
  {
   "cell_type": "code",
   "execution_count": null,
   "id": "56233856-f915-4430-ab5b-72dfe5135236",
   "metadata": {},
   "outputs": [],
   "source": [
    "age_sex_box.write_image(\"plots/age_sex_box.jpg\", scale=2)"
   ]
  },
  {
   "cell_type": "code",
   "execution_count": null,
   "id": "eef68968-cae8-4c9f-b676-0e375f02b243",
   "metadata": {},
   "outputs": [],
   "source": [
    "age_eth_box = px.box(\n",
    "    asd_data, \n",
    "    y=\"age_at_diagnosis\",\n",
    "    x=\"ethnic_group\",\n",
    "    color=\"ethnic_group\",\n",
    "    width=800,\n",
    "    height=500,  \n",
    "    labels=labels,\n",
    "    template=\"simple_white\",\n",
    "    color_discrete_map=color_discrete_map\n",
    ")\n",
    "age_eth_box.update_layout(showlegend=False)\n",
    "age_eth_box.show(renderer=\"jpg\")"
   ]
  },
  {
   "cell_type": "code",
   "execution_count": null,
   "id": "c68d8e12-07bc-49fb-8a61-2d0d827f384c",
   "metadata": {},
   "outputs": [],
   "source": [
    "age_eth_box.write_image(\"plots/age_eth_box.jpg\", scale=2)"
   ]
  },
  {
   "cell_type": "markdown",
   "id": "ad97fff4-4c8a-4216-988d-c042b9ab8bf6",
   "metadata": {},
   "source": [
    "Subdivision of age at diagnosis by sex shows little difference between the two sexes, with a slightly higher age of diagnosis amongst females. By ethnicity, it can be seen that a much higher average age of diagnosis can been seen among white individuals, with the bulk of diagnoses occurring at much younger ages among the other ethnic groups. "
   ]
  },
  {
   "cell_type": "code",
   "execution_count": null,
   "id": "2aa45682-9b78-422a-b98e-423498e41473",
   "metadata": {},
   "outputs": [],
   "source": [
    "white_asian = asd_data.ethnic_group.apply(lambda x: x in [\"Asian\", \"White\"])\n",
    "age_eth_hist = px.histogram(\n",
    "    asd_data[white_asian],\n",
    "    x=\"age_at_diagnosis\",\n",
    "    color=\"ethnic_group\",\n",
    "    facet_row=\"ethnic_group\",\n",
    "    color_discrete_map=color_discrete_map,\n",
    "    labels=labels,\n",
    "    template=\"simple_white\",\n",
    "    nbins=18\n",
    ")\n",
    "age_eth_hist.for_each_annotation(lambda a: a.update(text=\"\"))\n",
    "age_eth_hist.show(renderer=\"jpg\")"
   ]
  },
  {
   "cell_type": "code",
   "execution_count": null,
   "id": "d67fbef5-f75c-4dd9-808a-a31a09f3c887",
   "metadata": {},
   "outputs": [],
   "source": [
    "age_eth_hist.write_image(\"plots/age_eth_hist.jpg\", scale=2)"
   ]
  },
  {
   "cell_type": "markdown",
   "id": "aba5fc35-7381-4c17-8f15-183cc52c966b",
   "metadata": {},
   "source": [
    "Further comparison of the distribution of ages of diagnnamees in the white and asian ethnicities reveals a markedly different pattern. A distinct bimodal pattern of diagnosis ages is observed in the whites group, with peaks in diagnosis at 4 years of age and then at 9, whereas in the asian group a long tailed unimodal distribution can be seen with a peak only at age 4."
   ]
  },
  {
   "cell_type": "code",
   "execution_count": null,
   "id": "f8a467bc-656b-44b7-8f0e-74ec68418517",
   "metadata": {},
   "outputs": [],
   "source": [
    "age_sex_eth_box = px.box(\n",
    "    asd_data, \n",
    "    x=\"ethnic_group\",\n",
    "    y=\"age_at_diagnosis\",\n",
    "    color=\"sex\",\n",
    "    color_discrete_map=color_discrete_map,\n",
    "    labels=labels,\n",
    "    template=\"simple_white\",\n",
    "    width=800,\n",
    "    height=500\n",
    ")\n",
    "age_sex_eth_box.show(renderer=\"jpg\")"
   ]
  },
  {
   "cell_type": "code",
   "execution_count": null,
   "id": "9173ee3f-44bd-4da7-80ae-ceb3248f9edc",
   "metadata": {},
   "outputs": [],
   "source": [
    "age_sex_eth_box.write_image(\"plots/age_sex_eth_box.jpg\", scale=2)"
   ]
  },
  {
   "cell_type": "markdown",
   "id": "ed76ecd4-3d08-40b2-b3f4-4ae01604bb11",
   "metadata": {},
   "source": [
    "Comparison of the sex differences in age at diagnosis between the different ethnic groups shows that females are diagnosed later on average in the white and other ethnic groups, but are diagnosed considerably earlier among the asian group."
   ]
  },
  {
   "cell_type": "markdown",
   "id": "4802a62f-98ec-431c-8e20-c83edb83baf4",
   "metadata": {},
   "source": [
    "## Regression on Age at Diagnosis\n",
    "\n",
    "I'm leaving this out for two main reasons:\n",
    "\n",
    "1. I think the descriptive analysis above says all you need to say about the relationships between the variables we're looking at, and the regression data adds nothing\n",
    "2. (more importantly!) we've shown above that age at diagnosis is bimodal for the whites group but unimodal for asians - simple gaussian regression assumes a unimodal outcome variable and certainly isn't well suited to a comparison of the covariates in this case\n",
    "\n",
    "If we're desperate to come up with some sort of model for the data, we'd need to discuss a bit more, and it would be considerably more complex as a piece of work"
   ]
  },
  {
   "cell_type": "code",
   "execution_count": null,
   "id": "adcc1312-dbb5-4dd3-8f89-9e0867bc0bf4",
   "metadata": {},
   "outputs": [],
   "source": [
    "asd_data = asd_data.join(asd_data.ethnic_group.str.get_dummies())\n",
    "asd_data.loc[asd_data.ethnic_group.isna(), [\"Asian\", \"Other\", \"White\"]] = None\n",
    "asd_data[\"Male\"] = (asd_data.sex == \"Male\").astype(int)"
   ]
  },
  {
   "cell_type": "code",
   "execution_count": null,
   "id": "fe933015-32c2-47ae-9bf9-980395a2c07f",
   "metadata": {},
   "outputs": [],
   "source": [
    "age_reg = smf.glm(\"age_at_diagnosis ~ Male + Asian + Other\",   \n",
    "                  data=asd_data).fit()\n",
    "age_reg.summary()"
   ]
  },
  {
   "cell_type": "markdown",
   "id": "e6e45d3b-c336-415e-9790-220d93b4bf73",
   "metadata": {},
   "source": [
    "## Geographic Distribution (within Bradford)"
   ]
  },
  {
   "cell_type": "code",
   "execution_count": null,
   "id": "606efab0-a47e-4daa-9b10-f83ae4a981f3",
   "metadata": {},
   "outputs": [],
   "source": [
    "sql = \"\"\"\n",
    "    SELECT *\n",
    "    FROM `yhcr-prd-phm-bia-core.CY_LOOKUPS.tbl_ward_boundaries`\n",
    "\"\"\"\n",
    "ward_gdf = bigquery.Client().query(sql).to_geodataframe()\n",
    "\n",
    "contains_bradford = lambda x: x.str.contains(\"Bradford\").any()\n",
    "ward_counts = (asd_data[[\"ward_code\", \"lsoa_name\"]]\n",
    "               .groupby(\"ward_code\")\n",
    "               .agg([(\"n\", \"count\"), (\"contains_bradford\", contains_bradford)])\n",
    "               .reset_index())\n",
    "ward_counts.columns = [\"ward_code\", \"n\", \"contains_bradford\"]\n",
    "ward_counts = geopandas.GeoDataFrame(\n",
    "    ward_counts.merge(ward_gdf)\n",
    ")"
   ]
  },
  {
   "cell_type": "code",
   "execution_count": null,
   "id": "73608737-6861-4802-9d2e-ecbc8cefe3ed",
   "metadata": {},
   "outputs": [],
   "source": [
    "ward_counts.sort_values(\"n\", ascending=False).head(4)"
   ]
  },
  {
   "cell_type": "code",
   "execution_count": null,
   "id": "f7252e56-f80f-46f1-8fbd-edce8c2dcc9c",
   "metadata": {},
   "outputs": [],
   "source": [
    "ward_counts[ward_counts.contains_bradford].n.value_counts().sort_index()"
   ]
  },
  {
   "cell_type": "markdown",
   "id": "5ba904f7-caab-419f-b4fc-7086b1852ec2",
   "metadata": {},
   "source": [
    "### Choropleth Map of residence:"
   ]
  },
  {
   "cell_type": "code",
   "execution_count": null,
   "id": "0fc910e5-8bee-4f46-a297-a9cc5d66ec18",
   "metadata": {},
   "outputs": [],
   "source": [
    "ward_counts = ward_counts.to_crs(epsg=3857)\n",
    "ax = ward_counts[ward_counts.contains_bradford].plot(\n",
    "    column=\"n\",   \n",
    "    alpha=0.5,  \n",
    "    edgecolor=\"k\",  \n",
    "    linewidth=1,    \n",
    "    legend=True, \n",
    "    cmap=\"OrRd\",   \n",
    "    scheme=\"User_Defined\",\n",
    "    classification_kwds=dict(bins=[30, 50, 70, 90, 110]),\n",
    "    figsize=(8,8),\n",
    ")\n",
    "cx.add_basemap(ax, source=cx.providers.Stamen.TonerLite)\n",
    "plt.axis(\"off\")\n",
    "plt.savefig(\"plots/asd_map.jpg\", dpi=200)"
   ]
  },
  {
   "cell_type": "markdown",
   "id": "1d02614a-79b9-4c7c-a586-1c2f2e11bcad",
   "metadata": {},
   "source": [
    "Figure XXX shows a chloropleth map of the home residences of each of the individuals in with an ASD diagnosis by census ward. ** I don't really know the geography or geographic makeup of bradford well enough to make any intelligent comments here - I don't know weather the concentration of diagnoses in Keighley is worth pointing out? **"
   ]
  },
  {
   "cell_type": "markdown",
   "id": "3c167686-0cc4-4d96-9510-395550725ccf",
   "metadata": {},
   "source": [
    "## Likelihood of Diagnosis"
   ]
  },
  {
   "cell_type": "code",
   "execution_count": null,
   "id": "78586b39-a3af-49c9-a55f-9df53747396f",
   "metadata": {},
   "outputs": [],
   "source": [
    "def return_yr_date_diff_sql(from_date, to_date, var_name):\n",
    "    diff_fn = f\"DATE_DIFF({to_date}, {from_date}, DAY) / 365.25\"\n",
    "    return f\"FLOOR({diff_fn}) AS {var_name}\"\n",
    "age = return_yr_date_diff_sql(\"demo.DOB_formatted\", \"DATE('2023-03-20')\", \"age\")\n",
    "age_dec = \"DATE_DIFF(DATE('2023-03-20'), demo.DOB_formatted, DAY) / 365.25 AS age\"\n",
    "ethnic_group_regex = \"REGEXP_EXTRACT(demo.census_ethnicity, r'^(.+?):')\"\n",
    "ethnic_group = f\"\"\"\n",
    "    CASE\n",
    "        WHEN {ethnic_group_regex} IS NOT NULL THEN {ethnic_group_regex}\n",
    "        ELSE \"Unknown\"\n",
    "    END AS ethnic_group\n",
    "\"\"\"\n",
    "\n",
    "sex = \"\"\"\n",
    "    CASE\n",
    "        WHEN demo.remapped_gender = 45766034 THEN \"Male\"\n",
    "        WHEN demo.remapped_gender = 45766035 THEN \"Female\"\n",
    "        ELSE \"Unknown\"\n",
    "    END AS sex\n",
    "\"\"\"\n",
    "project = \"yhcr-prd-phm-bia-core\"\n",
    "census_table = f\"{project}.CB_FDM_DepartmentForEducation.src_census\"\n",
    "demographics_table = f\"`{project}.CB_STAGING_DATABASE.src_DemoGraphics_MASTER`\"\n",
    "# build SQL query\n",
    "census_sql = f\"\"\"\n",
    "    SELECT census.person_id, {age_dec}, {sex}, {ethnic_group}, AcademicYear, \n",
    "        CensusDate, CensusTerm, FSMEligible, SENprovision,  SENprovisionMajor, \n",
    "        SENUnitIndicator, \n",
    "    FROM {census_table} census\n",
    "    LEFT JOIN {demographics_table} demo\n",
    "    ON census.person_id = demo.person_id\n",
    "\"\"\"\n",
    "census_data_all = pd.read_gbq(census_sql, progress_bar_type=\"tqdm\")"
   ]
  },
  {
   "cell_type": "code",
   "execution_count": null,
   "id": "b65ecc67-e307-4987-9ebf-f98d0e0e7032",
   "metadata": {},
   "outputs": [],
   "source": [
    "census_data_all.info()"
   ]
  },
  {
   "cell_type": "code",
   "execution_count": null,
   "id": "b01ac8fb-4414-49d4-a35b-4b14a25bdb28",
   "metadata": {},
   "outputs": [],
   "source": [
    "census_data_all"
   ]
  },
  {
   "cell_type": "code",
   "execution_count": null,
   "id": "b8f1b5bb-9656-46d2-a9bb-71d5a395440e",
   "metadata": {},
   "outputs": [],
   "source": [
    "census_data = census_data_all[census_data_all.age <= 19.05]"
   ]
  },
  {
   "cell_type": "code",
   "execution_count": null,
   "id": "ed162c6c-f5c5-4f27-955c-7c4db0acaa54",
   "metadata": {},
   "outputs": [],
   "source": [
    "census_data_all.age.value_counts().sort_index()[19:20]"
   ]
  },
  {
   "cell_type": "code",
   "execution_count": null,
   "id": "a2d9ef3c-015b-4d26-8132-fd5924ce9aa0",
   "metadata": {},
   "outputs": [],
   "source": [
    "census_data"
   ]
  },
  {
   "cell_type": "code",
   "execution_count": null,
   "id": "837aa0e2-32a9-4864-8b5d-8126bf77ca32",
   "metadata": {},
   "outputs": [],
   "source": [
    "make_list = lambda x: any([prov != \"N\" for prov in x])\n",
    "asd_data[\"asd\"] = True\n",
    "census_agg = (census_data.\n",
    "              groupby([\"person_id\", \"sex\", \"ethnic_group\", \"age\"])\n",
    "              .agg({\"FSMEligible\": \"any\", \"SENprovision\": make_list})\n",
    "              .reset_index()\n",
    "              .merge(asd_data[[\"person_id\", \"asd\"]], \n",
    "                     on=\"person_id\", \n",
    "                     how=\"left\")\n",
    "              .fillna(False))"
   ]
  },
  {
   "cell_type": "code",
   "execution_count": null,
   "id": "ca4e6aa0-af64-4df0-9247-6f4a753e5d85",
   "metadata": {},
   "outputs": [],
   "source": [
    "census_agg[\"ethnic_group_full\"] = census_agg.ethnic_group\n",
    "census_agg[\"ethnic_group\"] = census_agg.ethnic_group.apply(\n",
    "    lambda x: ethnic_group_map[x]\n",
    ")\n",
    "census_agg[\"sex\"] = census_agg.sex.apply(\n",
    "    lambda x: None if x == \"Unknown\" else x\n",
    ")"
   ]
  },
  {
   "cell_type": "code",
   "execution_count": null,
   "id": "e731fe7b-1041-46c9-b1de-5a658dd4856c",
   "metadata": {},
   "outputs": [],
   "source": [
    "columns = ['sex', 'ethnic_group']\n",
    "categorical = ['sex', 'ethnic_group']\n",
    "table_1 = TableOne(\n",
    "    census_agg, \n",
    "    columns, \n",
    "    categorical,\n",
    "    groupby=\"asd\")\n",
    "table_1"
   ]
  },
  {
   "cell_type": "code",
   "execution_count": null,
   "id": "82dabb59-7c1e-425e-bdb9-303a43f298a3",
   "metadata": {},
   "outputs": [],
   "source": [
    "census_agg[(census_agg.sex == \"Female\") & (census_agg.ethnic_group.isna()) & census_agg.asd].shape"
   ]
  },
  {
   "cell_type": "code",
   "execution_count": null,
   "id": "5c30e781-dbca-4981-a0a4-998b83d01d5b",
   "metadata": {},
   "outputs": [],
   "source": [
    "pd.crosstab(index=[census_agg.sex, census_agg.ethnic_group], \n",
    "            columns=census_agg.asd)"
   ]
  },
  {
   "cell_type": "markdown",
   "id": "c989d7aa-1fa2-479b-abf6-c6bd3d87a512",
   "metadata": {},
   "source": [
    "In order to compare the likelihood of ASD diagnosis between the different demographic groups, a cohort of individuals under the age of 18 from the Connected Bradford education census data was established. Table XXX shows the demographic breakdown of this cohort, along with a comparison of individuals with/without an ASD diagnosis. A much greater proportion of individuals with an ASD diagnosis are male and/or white, than those without a diagnosis."
   ]
  },
  {
   "cell_type": "code",
   "execution_count": null,
   "id": "fbfdce67-3d2a-424b-94fc-5972ae209359",
   "metadata": {},
   "outputs": [],
   "source": [
    "census_agg = census_agg.join(census_agg.ethnic_group.str.get_dummies())\n",
    "census_agg.loc[census_agg.ethnic_group.isna(), [\"Asian\", \"Other\", \"White\"]] = None\n",
    "census_agg[\"Male\"] = (census_agg.sex == \"Male\").astype(int)\n",
    "census_agg[\"ASD\"] = census_agg.asd.astype(int)"
   ]
  },
  {
   "cell_type": "code",
   "execution_count": null,
   "id": "83023009-32b8-404f-9495-4726a27d9979",
   "metadata": {},
   "outputs": [],
   "source": [
    "census_agg.info()"
   ]
  },
  {
   "cell_type": "code",
   "execution_count": null,
   "id": "45076a1e-e8e1-463f-8ee1-03642fa4ee9c",
   "metadata": {},
   "outputs": [],
   "source": [
    "diag_reg = smf.logit(\"ASD ~ Male + White + Other\", \n",
    "                    data=census_agg.dropna()).fit()"
   ]
  },
  {
   "cell_type": "code",
   "execution_count": null,
   "id": "8067b3dd-c301-45cc-b7c7-2172ad9411ab",
   "metadata": {},
   "outputs": [],
   "source": [
    "diag_reg.summary()"
   ]
  },
  {
   "cell_type": "markdown",
   "id": "65efcc1a-278f-4d72-bb9c-0484a46c8336",
   "metadata": {},
   "source": [
    "The following are the odds ratios for diagnosis, with a white, female baseline - hopefully pretty self explanatory but let me know if there are any questions:"
   ]
  },
  {
   "cell_type": "code",
   "execution_count": null,
   "id": "c61f28d1-7959-4739-954f-ed7bebdf17d4",
   "metadata": {},
   "outputs": [],
   "source": [
    "def get_odds(model):\n",
    "    params = model.params\n",
    "    conf = model.conf_int()\n",
    "    conf['Odds Ratio'] = params\n",
    "    conf.columns = ['5%', '95%', 'Odds Ratio']\n",
    "    return pd.DataFrame(np.exp(conf.iloc[1:,:][['Odds Ratio', '5%', '95%']]))\n",
    "\n",
    "get_odds(diag_reg)"
   ]
  },
  {
   "cell_type": "code",
   "execution_count": null,
   "id": "2b6447e1-3793-4833-9886-ede44357f0ea",
   "metadata": {},
   "outputs": [],
   "source": []
  }
 ],
 "metadata": {
  "environment": {
   "kernel": "asdenv",
   "name": "r-cpu.4-2.m110",
   "type": "gcloud",
   "uri": "gcr.io/deeplearning-platform-release/r-cpu.4-2:m110"
  },
  "kernelspec": {
   "display_name": "ASDEnv",
   "language": "python",
   "name": "asdenv"
  },
  "language_info": {
   "codemirror_mode": {
    "name": "ipython",
    "version": 3
   },
   "file_extension": ".py",
   "mimetype": "text/x-python",
   "name": "python",
   "nbconvert_exporter": "python",
   "pygments_lexer": "ipython3",
   "version": "3.11.4"
  }
 },
 "nbformat": 4,
 "nbformat_minor": 5
}
