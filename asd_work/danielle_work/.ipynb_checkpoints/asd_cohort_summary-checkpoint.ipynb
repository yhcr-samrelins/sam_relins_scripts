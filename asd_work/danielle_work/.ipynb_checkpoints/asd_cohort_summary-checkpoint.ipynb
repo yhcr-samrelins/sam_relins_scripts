{
 "cells": [
  {
   "cell_type": "markdown",
   "id": "28c1b796-a4d2-4800-8175-d23bc78a6e13",
   "metadata": {},
   "source": [
    "# All Questions\n",
    "\n",
    "## RQs\n",
    "\n",
    "* RQ1: What are the pathways to an ASD diagnosis and support for children and young people in Bradford and how do they differ by ethnicity and SEP? \n",
    "    * RQ1.A) What is the demographic makeup of the children and young people who received an Autism diagnosis in Bradford between X and X? \n",
    "    * RQ1.B) Do referral and diagnosis rates differ across different areas of Bradford? If so, what factors might explain the variations?\n",
    "    * RQ1.C) How does the pathway differ by ethnicity and SES? \n",
    "    * RQ1.D) What other factors seem to influence the pathway?\n",
    "\n",
    "## Variables\n",
    "\n",
    "* Demographics at time of diagnosis – age, ethnicity, gender, SEP (household income by postcode and/or maternal education level), coexisting diagnoses e.g. ADHD, LD etc. \n",
    "* Age of first record of service involvement and which service(s)\n",
    "* Age at first referral to CAMHS or paediatrics and referral source\n",
    "* Number of services involved between referral and diagnosis (ideally also nature of involvement/intervention e.g. child protection plan, SAL therapy input etc.)\n",
    "* The above 3 factors by ethnicity and SEP and then both ethnicity and SEP combined \n",
    "* The date of first referral for an Autism diagnostic assessment for those identified with an Autism diagnosis (this should hopefully be logged by GPs if not by services, so there should be an identifiable date on the system)\n",
    "* The age the identified children were when the first referral for an Autism assessment was made\n",
    "* Average age of diagnosis and the demographics Leanne asked for in the email below (gender, socioeconomic status, ethnicity) AND:\n",
    "* home location (postcode would be fine – just would like to see district differences)\n",
    "* presence of any additional diagnosis e.g. mental health difficulty, physical health condition, learning disability, learning difficulty etc.)\n",
    "* Whether they are classed as looked after by the local authority (i.e. foster care, kinship arrangement etc). or currently/previously on a child in need or child protection plan\n",
    "* Any past and current involvement of other services e.g. CAMHS, Speech and language, social care etc., - it would be good to look at involvement of services pre-referral, between referral and assessment, and post diagnosis\n",
    "* Whether the child is currently on an EHCP and the date this was started in relation to the diagnostic assessment \n",
    "\n",
    "## Analysis\n",
    "\n",
    "* For the whole cohort and also for those currently 0-25 years old): Average age of autism diagnosis by: Gender, Ethnicity, Socio-economic status, Presence of an intellectual disability. It would also be helpful to know the interaction of the above the factors in terms of their impact on average age of autism diagnosis.\n",
    "* Multiple logistic regressions to explore unique effect of multiple independent variables (in this case SES, ethnicity etc.) on a single dependent/outcome variable (ASD diagnosis, age of diagnosis etc.), whilst accounting for all other explanatory variables, and examination of the interactions between these variables\n",
    "* A Latent Class Analysis (LCA) to explore the relationships between the observed variables, and to identify combinations of factors that frequently occur together to affect the outcome (age at diagnosis)"
   ]
  },
  {
   "cell_type": "markdown",
   "id": "337663e6-ec31-4182-bb71-c84125d7a679",
   "metadata": {},
   "source": [
    "# Quick Wins\n",
    "\n",
    "* What is the demographic makeup of the children and young people who received an Autism diagnosis in Bradford between X and X? \n",
    "* Whether the child is currently on an EHCP and the date this was started in relation to the diagnostic assessment \n",
    "* Whether they are classed as looked after by the local authority (i.e. foster care, kinship arrangement etc). or currently/previously on a child in need or child protection plan\n",
    "* For the whole cohort and also for those currently 0-25 years old): Average age of autism diagnosis by: Gender, Ethnicity, Socio-economic status, Presence of an intellectual disability. It would also be helpful to know the interaction of the above the factors in terms of their impact on average age of autism diagnosis.\n",
    "* Demographics at time of diagnosis – age, ethnicity, gender, SEP (household income by postcode and/or maternal education level), coexisting diagnoses e.g. ADHD, LD etc. \n",
    "\n",
    "* home location (postcode would be fine – just would like to see district differences)\n",
    "* Multiple logistic regressions to explore unique effect of multiple independent variables (in this case SES, ethnicity etc.) on a single dependent/outcome variable (ASD diagnosis, age of diagnosis etc.), whilst accounting for all other explanatory variables, and examination of the interactions between these variables"
   ]
  },
  {
   "cell_type": "code",
   "execution_count": null,
   "id": "25061a14-1338-4760-8f8e-0c4f2166731d",
   "metadata": {},
   "outputs": [],
   "source": [
    "import pandas as pd\n",
    "import numpy as np\n",
    "from tableone import TableOne\n",
    "import matplotlib.pyplot as plt"
   ]
  },
  {
   "cell_type": "code",
   "execution_count": null,
   "id": "6aa64ab7-c272-4a73-bd11-8207340fa222",
   "metadata": {},
   "outputs": [],
   "source": [
    "%%bigquery asd_data\n",
    "SELECT * FROM `yhcr-prd-phm-bia-core.CY_ASD_data.ASD_master_tab`"
   ]
  },
  {
   "cell_type": "markdown",
   "id": "bbfc7f23-166d-4f83-8967-cc0501d70544",
   "metadata": {},
   "source": [
    "## Basic Demographic Makeup\n",
    "\n",
    "At the moment we have data on:\n",
    "\n",
    "* Age\n",
    "* Ethnic Group\n",
    "* Sex\n",
    "* Children in need\n",
    "* Children in care\n",
    "* Child protection plans\n",
    "* I've thrown exclusions data in there as a bonus\n",
    "\n",
    "I'm working on getting some SEP stats - at the moment there isn't anything of great quality that I know of that can span the whole cohort reliably. I'm hoping we can use pseudonymised addresses to get IMD by postcode - at the moment we only have partial postcodes, which isn't granular enough to use the census data\n"
   ]
  },
  {
   "cell_type": "code",
   "execution_count": null,
   "id": "add0b0bb-523d-448e-a688-99f2ef46ad88",
   "metadata": {},
   "outputs": [],
   "source": [
    "columns =  [\n",
    "    'diagnosis_date', 'age', 'age_at_diagnosis', 'ethnic_group', 'sex', \n",
    "    'perm_exclusion', 'fixed_term_exclusion',   'has_protection_plan', \n",
    "    'in_care', 'child_in_need'\n",
    "]\n",
    "categorical = [\"ethnic_group\", \"sex\", \"perm_exclusion\", \"fixed_term_exclusion\",\n",
    "               \"has_protection_plan\", \"in_care\", \"child_in_need\"] \n",
    "table_1 = TableOne(\n",
    "    asd_data, \n",
    "    columns, \n",
    "    categorical)\n",
    "table_1"
   ]
  },
  {
   "cell_type": "markdown",
   "id": "2003c2b8-3cca-4cd5-8e4a-263a318e5ac4",
   "metadata": {},
   "source": [
    "The above is for the whole cohort i.e. anybody with one of the ASD diagnostic codes. I'm no expert, but the ages of some of the individuals don't make sense to me:"
   ]
  },
  {
   "cell_type": "code",
   "execution_count": null,
   "id": "848dad80-ce4e-4ffd-9f7f-378af47d6fb9",
   "metadata": {},
   "outputs": [],
   "source": [
    "asd_data.age.hist(bins=114)"
   ]
  },
  {
   "cell_type": "markdown",
   "id": "dcbd16cc-ab81-4cf4-aace-25493dd9df5a",
   "metadata": {},
   "source": [
    "I'm leaving things as is for the moment, but I suggest we might want to set an upper age limit.\n",
    "\n",
    "One of the research questions asked for individuals under the age of 25, included below:"
   ]
  },
  {
   "cell_type": "code",
   "execution_count": null,
   "id": "4c0be818-b3df-4ae8-ab87-2296c0a21323",
   "metadata": {},
   "outputs": [],
   "source": [
    "table_1 = TableOne(\n",
    "    asd_data[asd_data.age < 25], \n",
    "    columns, \n",
    "    categorical)\n",
    "table_1"
   ]
  },
  {
   "cell_type": "markdown",
   "id": "f8e6e0c5-f54c-4941-8b15-8c0beb1d19bc",
   "metadata": {},
   "source": [
    "For any of the analyses above and/or below, I can easily subset the data by age (or any of the above variables) so feel free to ask for any subgroup data of interest."
   ]
  },
  {
   "cell_type": "markdown",
   "id": "3370d42d-df9d-43c2-8ee1-64d3821d3a6c",
   "metadata": {},
   "source": [
    "## Age at Diagnosis\n",
    "\n",
    "Currently we still don't have any better data than estimating age at diagnosis from the first date an ASD SNOMED code enters the individual's primary care record. This might not be the best methodology, but it's all we have for now.\n",
    "\n",
    "The following are some very ugly graphs with average age at diagnosis broken down by the different demographics - I can make these a lot more visually appealing in the future but we're having some issues with our virtual environments at the moment, so they'll have to do for now. \n",
    "\n",
    "### By gender - whole cohort:"
   ]
  },
  {
   "cell_type": "code",
   "execution_count": null,
   "id": "d1d73b1f-0210-4276-b50c-a4345557454a",
   "metadata": {},
   "outputs": [],
   "source": [
    "(asd_data\n",
    " .groupby(\"sex\")[\"age_at_diagnosis\"]\n",
    " .agg(\"mean\").plot(kind=\"bar\"))"
   ]
  },
  {
   "cell_type": "markdown",
   "id": "b410c4bb-b32e-4675-8924-5d645d6ca539",
   "metadata": {},
   "source": [
    "### By Gender < 25 years old:"
   ]
  },
  {
   "cell_type": "code",
   "execution_count": null,
   "id": "74e5dd73-6243-4eaa-a21e-0f2602bf14df",
   "metadata": {},
   "outputs": [],
   "source": [
    "(asd_data[asd_data.age < 25]\n",
    " .groupby(\"sex\")[\"age_at_diagnosis\"]\n",
    " .agg(\"mean\").plot(kind=\"bar\"))"
   ]
  },
  {
   "cell_type": "markdown",
   "id": "49e17549-7829-4bcb-957d-89d80531b8d0",
   "metadata": {},
   "source": [
    "### By Ethnic Group - Whole Cohort:"
   ]
  },
  {
   "cell_type": "code",
   "execution_count": null,
   "id": "6028c33b-0226-44c0-9a42-99d391b9e75d",
   "metadata": {},
   "outputs": [],
   "source": [
    "(asd_data\n",
    " .groupby(\"ethnic_group\")[\"age_at_diagnosis\"]\n",
    " .agg(\"mean\").plot(kind=\"bar\"))"
   ]
  },
  {
   "cell_type": "markdown",
   "id": "54a93150-1634-4468-9c66-2e18ed57c3ac",
   "metadata": {},
   "source": [
    "### By Ethnic Group < 25 years old:"
   ]
  },
  {
   "cell_type": "code",
   "execution_count": null,
   "id": "c6596e66-d3ef-48ae-a3e3-d16869a9949c",
   "metadata": {},
   "outputs": [],
   "source": [
    "(asd_data[asd_data.age < 25]\n",
    " .groupby(\"ethnic_group\")[\"age_at_diagnosis\"]\n",
    " .agg(\"mean\").plot(kind=\"bar\"))"
   ]
  },
  {
   "cell_type": "markdown",
   "id": "e6e45d3b-c336-415e-9790-220d93b4bf73",
   "metadata": {},
   "source": [
    "## Geographic Distribution (within Bradford)\n",
    "\n",
    "The following is a ward-level breakdown and choropleth map of the address data for each individual in the cohort. It looks a little odd given the most densely populated areas (to my knowledge) aren't host to many ASD diagnoses, but I'll leave the interpretation to folk with more first-hand knowledge of the problem. Should definitely be looked into further though:"
   ]
  },
  {
   "cell_type": "code",
   "execution_count": null,
   "id": "606efab0-a47e-4daa-9b10-f83ae4a981f3",
   "metadata": {},
   "outputs": [],
   "source": [
    "from google.cloud import bigquery\n",
    "import contextily as cx\n",
    "import geopandas\n",
    "\n",
    "sql = \"\"\"\n",
    "    SELECT *\n",
    "    FROM `yhcr-prd-phm-bia-core.CY_LOOKUPS.tbl_ward_boundaries`\n",
    "\"\"\"\n",
    "ward_gdf = bigquery.Client().query(sql).to_geodataframe()\n",
    "\n",
    "contains_bradford = lambda x: x.str.contains(\"Bradford\").any()\n",
    "ward_counts = (asd_data[[\"ward_code\", \"lsoa_name\"]]\n",
    "               .groupby(\"ward_code\")\n",
    "               .agg([(\"n\", \"count\"), (\"contains_bradford\", contains_bradford)])\n",
    "               .reset_index())\n",
    "ward_counts.columns = [\"ward_code\", \"n\", \"contains_bradford\"]\n",
    "ward_counts = geopandas.GeoDataFrame(\n",
    "    ward_counts.merge(ward_gdf)\n",
    ")"
   ]
  },
  {
   "cell_type": "markdown",
   "id": "fba4f9bd-b338-4237-b210-3f205698ddbc",
   "metadata": {},
   "source": [
    "### Top 20 Wards:"
   ]
  },
  {
   "cell_type": "code",
   "execution_count": null,
   "id": "670735b9-5426-490c-bf3e-7033de7c64f1",
   "metadata": {},
   "outputs": [],
   "source": [
    "ward_counts[[\"ward_name\", \"n\"]].sort_values(\"n\", ascending=False).head(20)"
   ]
  },
  {
   "cell_type": "markdown",
   "id": "5ba904f7-caab-419f-b4fc-7086b1852ec2",
   "metadata": {},
   "source": [
    "### Choropleth Map of residence:"
   ]
  },
  {
   "cell_type": "code",
   "execution_count": null,
   "id": "0fc910e5-8bee-4f46-a297-a9cc5d66ec18",
   "metadata": {},
   "outputs": [],
   "source": [
    "ward_counts = ward_counts.to_crs(epsg=3857)\n",
    "ax = ward_counts[ward_counts.contains_bradford].plot(column=\"n\",  \n",
    "                      alpha=0.5,  \n",
    "                      edgecolor=\"k\",  \n",
    "                      linewidth=2,   \n",
    "                      cmap=\"OrRd\",  \n",
    "                      figsize=(20,20))\n",
    "cx.add_basemap(ax, source=cx.providers.Stamen.TonerLite)"
   ]
  },
  {
   "cell_type": "markdown",
   "id": "3c167686-0cc4-4d96-9510-395550725ccf",
   "metadata": {},
   "source": [
    "## Next Seps - Regression analyses\n",
    "\n",
    "### Diagnosis:\n",
    "\n",
    "I can really quickly run the regression on diagnosis I've been asked for, but we need to decide on the cohort we're going to test at the moment. The most sensible suggestions I can think of are:\n",
    "\n",
    "* Individuals in the primary care data - we should think pretty carefully about setting a max age for this, as it's pretty certain the data is of dubious quality the older the individuals we look at are\n",
    "* Individuals in the education data - this sets a nice limit on the age, and we can use some of the education census data if we like (things like free school meals and special educational needs)\n",
    "\n",
    "### Age at Diagnosis:\n",
    "\n",
    "I can run this quickly with the existing cohort, but I'd want to set some age limits to avoid the probably naff data on folk being diagnosed at the older ages. Let me know what would be sensible here and I'll run those quickly.\n",
    "\n",
    "Let me know thoughts on both of these and I can get on with it - should be a pretty quick turnaround once I know."
   ]
  },
  {
   "cell_type": "code",
   "execution_count": null,
   "id": "2f656bb7-f3e7-4724-9d17-de83606a8e55",
   "metadata": {},
   "outputs": [],
   "source": []
  }
 ],
 "metadata": {
  "environment": {
   "kernel": "conda-env-profileEnv-py",
   "name": "r-cpu.4-2.m110",
   "type": "gcloud",
   "uri": "gcr.io/deeplearning-platform-release/r-cpu.4-2:m110"
  },
  "kernelspec": {
   "display_name": "Python [conda env:profileEnv]",
   "language": "python",
   "name": "conda-env-profileEnv-py"
  },
  "language_info": {
   "codemirror_mode": {
    "name": "ipython",
    "version": 3
   },
   "file_extension": ".py",
   "mimetype": "text/x-python",
   "name": "python",
   "nbconvert_exporter": "python",
   "pygments_lexer": "ipython3",
   "version": "3.10.6"
  }
 },
 "nbformat": 4,
 "nbformat_minor": 5
}
