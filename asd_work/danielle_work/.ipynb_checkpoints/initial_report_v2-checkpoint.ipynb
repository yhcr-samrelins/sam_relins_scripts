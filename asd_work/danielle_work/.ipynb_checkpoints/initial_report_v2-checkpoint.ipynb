{
 "cells": [
  {
   "cell_type": "markdown",
   "id": "9dc195e5-fba4-4de5-a4d1-7e3ad24b1ba8",
   "metadata": {},
   "source": [
    "# ASD Cohort - Initial Analysis\n",
    "\n",
    "So I've re-done the \"rough and ready\" analysis using a cohort of ages 0-18 for the descriptive analyses, and a quick regression on ASD diagnoses from the education census cohort. I've also re-plotted the bars as boxplots now I have a decent plotting library at my disposal"
   ]
  },
  {
   "cell_type": "code",
   "execution_count": null,
   "id": "25061a14-1338-4760-8f8e-0c4f2166731d",
   "metadata": {},
   "outputs": [],
   "source": [
    "import pandas as pd\n",
    "from google.cloud import bigquery\n",
    "import contextily as cx\n",
    "import geopandas\n",
    "import numpy as np\n",
    "from tableone import TableOne\n",
    "import matplotlib.pyplot as plt\n",
    "import plotly.express as px\n",
    "import statsmodels\n",
    "import statsmodels.api as sm\n",
    "import statsmodels.formula.api as smf"
   ]
  },
  {
   "cell_type": "code",
   "execution_count": null,
   "id": "2c1fa18c-be0b-44f5-a9f3-bbdc9a97f8cd",
   "metadata": {},
   "outputs": [],
   "source": [
    "def add_regression_data(df_orig):\n",
    "    df = df_orig.copy()\n",
    "    df.loc[df.ethnic_group == \"Unknown\", \"ethnic_group\"] = None\n",
    "    other_eth = df.ethnic_group.apply(\n",
    "        lambda x: x is not None and x not in [\"White\", \"Asian or Asian British\"]\n",
    "    )\n",
    "    df.loc[other_eth, \"ethnic_group\"] = \"other\"\n",
    "    df[\"ethnic_group\"] = df.ethnic_group.apply(\n",
    "        lambda x: x.split()[0].lower() if x is not None else x\n",
    "    )\n",
    "    df = df.join(df.ethnic_group.str.get_dummies())\n",
    "    df.loc[df.ethnic_group.isna(), [\"asian\", \"other\", \"white\"]] = None\n",
    "    df[\"male\"] = (df.sex == \"Male\").astype(int)\n",
    "    if \"asd\" in df.columns:\n",
    "        df[\"asd\"] = df.asd.astype(int)\n",
    "    df = df[~df.ethnic_group.isna()]\n",
    "    return df\n",
    "\n",
    "def get_odds(model):\n",
    "    params = model.params\n",
    "    conf = model.conf_int()\n",
    "    conf['Odds Ratio'] = params\n",
    "    conf.columns = ['5%', '95%', 'Odds Ratio']\n",
    "    return pd.DataFrame(np.exp(conf.iloc[1:,:][['Odds Ratio', '5%', '95%']]))"
   ]
  },
  {
   "cell_type": "code",
   "execution_count": null,
   "id": "6aa64ab7-c272-4a73-bd11-8207340fa222",
   "metadata": {},
   "outputs": [],
   "source": [
    "%%bigquery asd_data\n",
    "SELECT * FROM `yhcr-prd-phm-bia-core.CY_ASD_data.ASD_master_tab`"
   ]
  },
  {
   "cell_type": "markdown",
   "id": "bbfc7f23-166d-4f83-8967-cc0501d70544",
   "metadata": {},
   "source": [
    "## Basic Demographic Makeup"
   ]
  },
  {
   "cell_type": "code",
   "execution_count": null,
   "id": "add0b0bb-523d-448e-a688-99f2ef46ad88",
   "metadata": {},
   "outputs": [],
   "source": [
    "columns =  [\n",
    "    'diagnosis_date', 'age', 'age_at_diagnosis', 'ethnic_group', 'sex', \n",
    "    'perm_exclusion', 'fixed_term_exclusion',   'has_protection_plan', \n",
    "    'in_care', 'child_in_need'\n",
    "]\n",
    "categorical = [\"ethnic_group\", \"sex\", \"perm_exclusion\", \"fixed_term_exclusion\",\n",
    "               \"has_protection_plan\", \"in_care\", \"child_in_need\"] \n",
    "table_1 = TableOne(\n",
    "    asd_data[asd_data.age <= 18], \n",
    "    columns, \n",
    "    categorical)\n",
    "table_1"
   ]
  },
  {
   "cell_type": "markdown",
   "id": "3370d42d-df9d-43c2-8ee1-64d3821d3a6c",
   "metadata": {},
   "source": [
    "## Age at Diagnosis\n",
    "\n",
    "### By gender:"
   ]
  },
  {
   "cell_type": "code",
   "execution_count": null,
   "id": "d1d73b1f-0210-4276-b50c-a4345557454a",
   "metadata": {},
   "outputs": [],
   "source": [
    "fig = px.box(asd_data[asd_data.age <= 18], \n",
    "             y=\"age_at_diagnosis\", \n",
    "             color=\"sex\", \n",
    "             width=600, \n",
    "             height=500)\n",
    "fig.show(renderer=\"png\")"
   ]
  },
  {
   "cell_type": "markdown",
   "id": "49e17549-7829-4bcb-957d-89d80531b8d0",
   "metadata": {},
   "source": [
    "### By Ethnic Group:"
   ]
  },
  {
   "cell_type": "code",
   "execution_count": null,
   "id": "6028c33b-0226-44c0-9a42-99d391b9e75d",
   "metadata": {},
   "outputs": [],
   "source": [
    "fig = px.box(asd_data[asd_data.age <= 18], \n",
    "       y=\"age_at_diagnosis\",\n",
    "       color=\"ethnic_group\",\n",
    "       width=800,\n",
    "       height=500)\n",
    "fig.show(renderer=\"png\")"
   ]
  },
  {
   "cell_type": "markdown",
   "id": "8c0553f5-57a9-4cbe-9977-3de19daed1ec",
   "metadata": {},
   "source": [
    "## Gender subdivided by Ethnicity"
   ]
  },
  {
   "cell_type": "code",
   "execution_count": null,
   "id": "bdf73dbe-8b3f-426a-82fa-d4df7848db4a",
   "metadata": {},
   "outputs": [],
   "source": [
    "fig = px.box(asd_data[(asd_data.age <= 18) & (asd_data.sex != \"Unknown\")], \n",
    "       x=\"sex\",\n",
    "       y=\"age_at_diagnosis\",\n",
    "       color=\"ethnic_group\",\n",
    "       width=800,\n",
    "       height=500)\n",
    "fig.show(renderer=\"png\")"
   ]
  },
  {
   "cell_type": "markdown",
   "id": "585e6216-3aad-4b53-9afd-5c2aa5fc1fbb",
   "metadata": {},
   "source": [
    "## Ethnicity subdivided by Gender"
   ]
  },
  {
   "cell_type": "code",
   "execution_count": null,
   "id": "f8a467bc-656b-44b7-8f0e-74ec68418517",
   "metadata": {},
   "outputs": [],
   "source": [
    "fig = px.box(asd_data[(asd_data.age <= 18) & (asd_data.sex != \"Unknown\")], \n",
    "       x=\"ethnic_group\",\n",
    "       y=\"age_at_diagnosis\",\n",
    "       color=\"sex\",\n",
    "       width=800,\n",
    "       height=500)\n",
    "fig.show(renderer=\"png\")"
   ]
  },
  {
   "cell_type": "markdown",
   "id": "4802a62f-98ec-431c-8e20-c83edb83baf4",
   "metadata": {},
   "source": [
    "## Regression on Age at Diagnosis\n",
    "\n",
    "I've done a quick regression on age at diagnosis, the results are below but here's a quick ELI5 breakdown:\n",
    "\n",
    "* The reference baseline is a female, white individual\n",
    "* Males have an estimated age of diagnosis -1.33 years before females (controlling for ethnicity)\n",
    "* Asians have an estimated age of diagnosis -5.03 years before white individuals (controlling for gender)\n",
    "* Other ethnicities have an estimated age of diagnosis -4.83 years before white individuals (controlling for gender)"
   ]
  },
  {
   "cell_type": "code",
   "execution_count": null,
   "id": "fe933015-32c2-47ae-9bf9-980395a2c07f",
   "metadata": {},
   "outputs": [],
   "source": [
    "age_data = asd_data.pipe(add_regression_data)\n",
    "age_reg = smf.glm(\"age_at_diagnosis ~ male + asian + other\",   \n",
    "                  data=age_data).fit()\n",
    "age_reg.summary()"
   ]
  },
  {
   "cell_type": "markdown",
   "id": "e6e45d3b-c336-415e-9790-220d93b4bf73",
   "metadata": {},
   "source": [
    "## Geographic Distribution (within Bradford)"
   ]
  },
  {
   "cell_type": "code",
   "execution_count": null,
   "id": "606efab0-a47e-4daa-9b10-f83ae4a981f3",
   "metadata": {},
   "outputs": [],
   "source": [
    "sql = \"\"\"\n",
    "    SELECT *\n",
    "    FROM `yhcr-prd-phm-bia-core.CY_LOOKUPS.tbl_ward_boundaries`\n",
    "\"\"\"\n",
    "ward_gdf = bigquery.Client().query(sql).to_geodataframe()\n",
    "\n",
    "contains_bradford = lambda x: x.str.contains(\"Bradford\").any()\n",
    "ward_counts = (asd_data[asd_data.age <= 18][[\"ward_code\", \"lsoa_name\"]]\n",
    "               .groupby(\"ward_code\")\n",
    "               .agg([(\"n\", \"count\"), (\"contains_bradford\", contains_bradford)])\n",
    "               .reset_index())\n",
    "ward_counts.columns = [\"ward_code\", \"n\", \"contains_bradford\"]\n",
    "ward_counts = geopandas.GeoDataFrame(\n",
    "    ward_counts.merge(ward_gdf)\n",
    ")"
   ]
  },
  {
   "cell_type": "markdown",
   "id": "fba4f9bd-b338-4237-b210-3f205698ddbc",
   "metadata": {},
   "source": [
    "### Top 20 Wards:"
   ]
  },
  {
   "cell_type": "code",
   "execution_count": null,
   "id": "670735b9-5426-490c-bf3e-7033de7c64f1",
   "metadata": {},
   "outputs": [],
   "source": [
    "ward_counts[[\"ward_name\", \"n\"]].sort_values(\"n\", ascending=False).head(20)"
   ]
  },
  {
   "cell_type": "markdown",
   "id": "5ba904f7-caab-419f-b4fc-7086b1852ec2",
   "metadata": {},
   "source": [
    "### Choropleth Map of residence:"
   ]
  },
  {
   "cell_type": "code",
   "execution_count": null,
   "id": "0fc910e5-8bee-4f46-a297-a9cc5d66ec18",
   "metadata": {},
   "outputs": [],
   "source": [
    "ward_counts = ward_counts.to_crs(epsg=3857)\n",
    "ax = ward_counts[ward_counts.contains_bradford].plot(column=\"n\",  \n",
    "                      alpha=0.5,  \n",
    "                      edgecolor=\"k\",  \n",
    "                      linewidth=1,   \n",
    "                      cmap=\"OrRd\",  \n",
    "                      figsize=(10,10))\n",
    "cx.add_basemap(ax, source=cx.providers.Stamen.TonerLite)"
   ]
  },
  {
   "cell_type": "markdown",
   "id": "3c167686-0cc4-4d96-9510-395550725ccf",
   "metadata": {},
   "source": [
    "## Simple regression on diagnosis"
   ]
  },
  {
   "cell_type": "code",
   "execution_count": null,
   "id": "78586b39-a3af-49c9-a55f-9df53747396f",
   "metadata": {},
   "outputs": [],
   "source": [
    "def return_yr_date_diff_sql(from_date, to_date, var_name):\n",
    "    diff_fn = f\"DATE_DIFF({to_date}, {from_date}, DAY) / 365.25\"\n",
    "    return f\"FLOOR({diff_fn}) AS {var_name}\"\n",
    "age = return_yr_date_diff_sql(\"demo.DOB_formatted\", \"CURRENT_DATE()\", \"age\")\n",
    "\n",
    "ethnic_group_regex = \"REGEXP_EXTRACT(demo.census_ethnicity, r'^(.+?):')\"\n",
    "ethnic_group = f\"\"\"\n",
    "    CASE\n",
    "        WHEN {ethnic_group_regex} IS NOT NULL THEN {ethnic_group_regex}\n",
    "        ELSE \"Unknown\"\n",
    "    END AS ethnic_group\n",
    "\"\"\"\n",
    "\n",
    "sex = \"\"\"\n",
    "    CASE\n",
    "        WHEN demo.remapped_gender = 45766034 THEN \"Male\"\n",
    "        WHEN demo.remapped_gender = 45766035 THEN \"Female\"\n",
    "        ELSE \"Unknown\"\n",
    "    END AS sex\n",
    "\"\"\"\n",
    "project = \"yhcr-prd-phm-bia-core\"\n",
    "census_table = f\"{project}.CY_FDM_DepartmentForEducation.src_census\"\n",
    "demographics_table = f\"`{project}.CY_STAGING_DATABASE.src_DemoGraphics_MASTER`\"\n",
    "# build SQL query\n",
    "census_sql = f\"\"\"\n",
    "    SELECT census.person_id, {age}, {sex}, {ethnic_group}, AcademicYear, \n",
    "        CensusDate, CensusTerm, FSMEligible, SENprovision,  SENprovisionMajor, \n",
    "        SENUnitIndicator, \n",
    "    FROM {census_table} census\n",
    "    LEFT JOIN {demographics_table} demo\n",
    "    ON census.person_id = demo.person_id\n",
    "\"\"\""
   ]
  },
  {
   "cell_type": "code",
   "execution_count": null,
   "id": "f0b212c7-2a32-49da-8419-f570be044659",
   "metadata": {},
   "outputs": [],
   "source": [
    "%%bigquery census_data\n",
    "SELECT census.person_id, FLOOR(DATE_DIFF(CURRENT_DATE(), demo.DOB_formatted, DAY) / 365.25) AS age, \n",
    "    CASE\n",
    "        WHEN demo.remapped_gender = 45766034 THEN \"Male\"\n",
    "        WHEN demo.remapped_gender = 45766035 THEN \"Female\"\n",
    "        ELSE \"Unknown\"\n",
    "    END AS sex, \n",
    "    CASE\n",
    "        WHEN REGEXP_EXTRACT(demo.census_ethnicity, r'^(.+?):') IS NOT NULL THEN REGEXP_EXTRACT(demo.census_ethnicity, r'^(.+?):')\n",
    "        ELSE \"Unknown\"\n",
    "    END AS ethnic_group, AcademicYear, CensusDate, CensusTerm, FSMEligible, \n",
    "    SENprovision,  SENprovisionMajor, SENUnitIndicator, \n",
    "FROM yhcr-prd-phm-bia-core.CY_FDM_DepartmentForEducation.src_census census\n",
    "LEFT JOIN `yhcr-prd-phm-bia-core.CY_STAGING_DATABASE.src_DemoGraphics_MASTER` demo\n",
    "ON census.person_id = demo.person_id"
   ]
  },
  {
   "cell_type": "code",
   "execution_count": null,
   "id": "b65ecc67-e307-4987-9ebf-f98d0e0e7032",
   "metadata": {},
   "outputs": [],
   "source": [
    "census_data.info()"
   ]
  },
  {
   "cell_type": "code",
   "execution_count": null,
   "id": "b8f1b5bb-9656-46d2-a9bb-71d5a395440e",
   "metadata": {},
   "outputs": [],
   "source": [
    "census_data = census_data[census_data.age <= 18]"
   ]
  },
  {
   "cell_type": "code",
   "execution_count": null,
   "id": "837aa0e2-32a9-4864-8b5d-8126bf77ca32",
   "metadata": {},
   "outputs": [],
   "source": [
    "make_list = lambda x: any([prov != \"N\" for prov in x])\n",
    "asd_data[\"asd\"] = True\n",
    "census_agg = (census_data.\n",
    "              groupby([\"person_id\", \"sex\", \"ethnic_group\", \"age\"])\n",
    "              .agg({\"FSMEligible\": \"any\", \"SENprovision\": make_list})\n",
    "              .reset_index()\n",
    "              .merge(asd_data[[\"person_id\", \"asd\"]], \n",
    "                     on=\"person_id\", \n",
    "                     how=\"left\")\n",
    "              .fillna(False))"
   ]
  },
  {
   "cell_type": "code",
   "execution_count": null,
   "id": "e731fe7b-1041-46c9-b1de-5a658dd4856c",
   "metadata": {},
   "outputs": [],
   "source": [
    "columns = ['sex', 'ethnic_group', 'age', 'FSMEligible', 'SENprovision', 'asd']\n",
    "categorical = ['sex', 'ethnic_group', 'FSMEligible', 'SENprovision', 'asd']\n",
    "table_1 = TableOne(\n",
    "    census_agg, \n",
    "    columns, \n",
    "    categorical)\n",
    "table_1"
   ]
  },
  {
   "cell_type": "code",
   "execution_count": null,
   "id": "45076a1e-e8e1-463f-8ee1-03642fa4ee9c",
   "metadata": {},
   "outputs": [],
   "source": [
    "diag_data = census_agg.pipe(add_regression_data)\n",
    "diag_reg = smf.logit(\"asd ~ male + asian + other\", \n",
    "                    data=diag_data).fit()"
   ]
  },
  {
   "cell_type": "code",
   "execution_count": null,
   "id": "8067b3dd-c301-45cc-b7c7-2172ad9411ab",
   "metadata": {},
   "outputs": [],
   "source": [
    "diag_reg.summary()"
   ]
  },
  {
   "cell_type": "markdown",
   "id": "65efcc1a-278f-4d72-bb9c-0484a46c8336",
   "metadata": {},
   "source": [
    "The following are the odds ratios for diagnosis, with a white, female baseline - hopefully pretty self explanatory but let me know if there are any questions:"
   ]
  },
  {
   "cell_type": "code",
   "execution_count": null,
   "id": "c61f28d1-7959-4739-954f-ed7bebdf17d4",
   "metadata": {},
   "outputs": [],
   "source": [
    "# To also get the confidence intervals (source):\n",
    "get_odds(diag_reg)"
   ]
  },
  {
   "cell_type": "code",
   "execution_count": null,
   "id": "2b6447e1-3793-4833-9886-ede44357f0ea",
   "metadata": {},
   "outputs": [],
   "source": []
  }
 ],
 "metadata": {
  "environment": {
   "kernel": "conda-env-profileEnv-py",
   "name": "r-cpu.4-2.m110",
   "type": "gcloud",
   "uri": "gcr.io/deeplearning-platform-release/r-cpu.4-2:m110"
  },
  "kernelspec": {
   "display_name": "Python [conda env:profileEnv]",
   "language": "python",
   "name": "conda-env-profileEnv-py"
  },
  "language_info": {
   "codemirror_mode": {
    "name": "ipython",
    "version": 3
   },
   "file_extension": ".py",
   "mimetype": "text/x-python",
   "name": "python",
   "nbconvert_exporter": "python",
   "pygments_lexer": "ipython3",
   "version": "3.10.9"
  }
 },
 "nbformat": 4,
 "nbformat_minor": 5
}
