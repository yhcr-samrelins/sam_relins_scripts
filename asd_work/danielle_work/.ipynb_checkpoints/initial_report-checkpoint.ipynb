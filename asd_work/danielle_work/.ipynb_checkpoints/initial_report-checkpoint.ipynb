{
 "cells": [
  {
   "cell_type": "markdown",
   "id": "9dc195e5-fba4-4de5-a4d1-7e3ad24b1ba8",
   "metadata": {},
   "source": [
    "# ASD Cohort - Initial Analysis\n",
    "\n",
    "The following is a (very) rough analysis of the ASD based on some of the questions Danielle and Leanne have asked in our discussions last year. I realise it's certainly not reportable in this format. It's more intended as a primer, so that I can gauge what is needed - where further detail or different formatting is required etc.\n",
    "\n",
    "Ignore all the code in cells - our platform makes it prohibitively difficult to remove it. "
   ]
  },
  {
   "cell_type": "code",
   "execution_count": null,
   "id": "25061a14-1338-4760-8f8e-0c4f2166731d",
   "metadata": {},
   "outputs": [],
   "source": [
    "import pandas as pd\n",
    "from google.cloud import bigquery\n",
    "import contextily as cx\n",
    "import geopandas\n",
    "import numpy as np\n",
    "from tableone import TableOne\n",
    "import matplotlib.pyplot as plt"
   ]
  },
  {
   "cell_type": "code",
   "execution_count": null,
   "id": "6aa64ab7-c272-4a73-bd11-8207340fa222",
   "metadata": {},
   "outputs": [],
   "source": [
    "%%bigquery asd_data\n",
    "SELECT * FROM `yhcr-prd-phm-bia-core.CY_ASD_data.ASD_master_tab`"
   ]
  },
  {
   "cell_type": "markdown",
   "id": "bbfc7f23-166d-4f83-8967-cc0501d70544",
   "metadata": {},
   "source": [
    "## Basic Demographic Makeup\n",
    "\n",
    "At the moment we have data on:\n",
    "\n",
    "* Age\n",
    "* Ethnic Group\n",
    "* Sex\n",
    "* Children in need\n",
    "* Children in care\n",
    "* Child protection plans\n",
    "* I've thrown exclusions data in there as a bonus\n",
    "\n",
    "I'm working on getting some SEP stats - at the moment there isn't anything of great quality that I know of that can span the whole cohort reliably. I'm hoping we can use pseudonymised addresses to get IMD by postcode - at the moment we only have partial postcodes, which isn't granular enough to use the census data\n",
    "\n",
    "the following are table 1 stats for the full cohort i.e. anybody with one of the ASD diagnostic codes in their primary care records:"
   ]
  },
  {
   "cell_type": "code",
   "execution_count": null,
   "id": "add0b0bb-523d-448e-a688-99f2ef46ad88",
   "metadata": {},
   "outputs": [],
   "source": [
    "columns =  [\n",
    "    'diagnosis_date', 'age', 'age_at_diagnosis', 'ethnic_group', 'sex', \n",
    "    'perm_exclusion', 'fixed_term_exclusion',   'has_protection_plan', \n",
    "    'in_care', 'child_in_need'\n",
    "]\n",
    "categorical = [\"ethnic_group\", \"sex\", \"perm_exclusion\", \"fixed_term_exclusion\",\n",
    "               \"has_protection_plan\", \"in_care\", \"child_in_need\"] \n",
    "table_1 = TableOne(\n",
    "    asd_data, \n",
    "    columns, \n",
    "    categorical)\n",
    "table_1"
   ]
  },
  {
   "cell_type": "markdown",
   "id": "2003c2b8-3cca-4cd5-8e4a-263a318e5ac4",
   "metadata": {},
   "source": [
    "I'm no expert, but the ages of some of the individuals don't make sense to me:"
   ]
  },
  {
   "cell_type": "code",
   "execution_count": null,
   "id": "848dad80-ce4e-4ffd-9f7f-378af47d6fb9",
   "metadata": {},
   "outputs": [],
   "source": [
    "asd_data.age.hist(bins=114)"
   ]
  },
  {
   "cell_type": "markdown",
   "id": "dcbd16cc-ab81-4cf4-aace-25493dd9df5a",
   "metadata": {},
   "source": [
    "I'm leaving things as is for the moment, but I suggest we might want to set an upper age limit.\n",
    "\n",
    "One of the research questions asked for individuals under the age of 25, included below:"
   ]
  },
  {
   "cell_type": "code",
   "execution_count": null,
   "id": "4c0be818-b3df-4ae8-ab87-2296c0a21323",
   "metadata": {},
   "outputs": [],
   "source": [
    "table_1 = TableOne(\n",
    "    asd_data[asd_data.age < 25], \n",
    "    columns, \n",
    "    categorical)\n",
    "table_1"
   ]
  },
  {
   "cell_type": "markdown",
   "id": "f8e6e0c5-f54c-4941-8b15-8c0beb1d19bc",
   "metadata": {},
   "source": [
    "For any of the analyses above and/or below, I can easily subset the data by age (or any of the above variables) so feel free to ask for any subgroup data of interest."
   ]
  },
  {
   "cell_type": "markdown",
   "id": "3370d42d-df9d-43c2-8ee1-64d3821d3a6c",
   "metadata": {},
   "source": [
    "## Age at Diagnosis\n",
    "\n",
    "Currently we still don't have any better data than estimating age at diagnosis from the first date an ASD SNOMED code enters the individual's primary care record. This might not be the best methodology, but it's all we have for now.\n",
    "\n",
    "The following are some very ugly graphs with average age at diagnosis broken down by the different demographics - I can make these a lot more visually appealing in the future but we're having some issues with our virtual environments at the moment, so they'll have to do for now. \n",
    "\n",
    "### By gender - whole cohort:"
   ]
  },
  {
   "cell_type": "code",
   "execution_count": null,
   "id": "d1d73b1f-0210-4276-b50c-a4345557454a",
   "metadata": {},
   "outputs": [],
   "source": [
    "(asd_data\n",
    " .groupby(\"sex\")[\"age_at_diagnosis\"]\n",
    " .agg(\"mean\").plot(kind=\"bar\"))"
   ]
  },
  {
   "cell_type": "markdown",
   "id": "b410c4bb-b32e-4675-8924-5d645d6ca539",
   "metadata": {},
   "source": [
    "### By Gender < 25 years old:"
   ]
  },
  {
   "cell_type": "code",
   "execution_count": null,
   "id": "74e5dd73-6243-4eaa-a21e-0f2602bf14df",
   "metadata": {},
   "outputs": [],
   "source": [
    "(asd_data[asd_data.age < 25]\n",
    " .groupby(\"sex\")[\"age_at_diagnosis\"]\n",
    " .agg(\"mean\").plot(kind=\"bar\"))"
   ]
  },
  {
   "cell_type": "markdown",
   "id": "49e17549-7829-4bcb-957d-89d80531b8d0",
   "metadata": {},
   "source": [
    "### By Ethnic Group - Whole Cohort:"
   ]
  },
  {
   "cell_type": "code",
   "execution_count": null,
   "id": "6028c33b-0226-44c0-9a42-99d391b9e75d",
   "metadata": {},
   "outputs": [],
   "source": [
    "(asd_data\n",
    " .groupby(\"ethnic_group\")[\"age_at_diagnosis\"]\n",
    " .agg(\"mean\").plot(kind=\"bar\"))"
   ]
  },
  {
   "cell_type": "markdown",
   "id": "54a93150-1634-4468-9c66-2e18ed57c3ac",
   "metadata": {},
   "source": [
    "### By Ethnic Group < 25 years old:"
   ]
  },
  {
   "cell_type": "code",
   "execution_count": null,
   "id": "c6596e66-d3ef-48ae-a3e3-d16869a9949c",
   "metadata": {},
   "outputs": [],
   "source": [
    "(asd_data[asd_data.age < 25]\n",
    " .groupby(\"ethnic_group\")[\"age_at_diagnosis\"]\n",
    " .agg(\"mean\").plot(kind=\"bar\"))"
   ]
  },
  {
   "cell_type": "markdown",
   "id": "e6e45d3b-c336-415e-9790-220d93b4bf73",
   "metadata": {},
   "source": [
    "## Geographic Distribution (within Bradford)\n",
    "\n",
    "The following is a ward-level breakdown and choropleth map of the address data for each individual in the cohort. It looks a little odd given the most densely populated areas (to my knowledge) aren't host to many ASD diagnoses, but I'll leave the interpretation to folk with more first-hand knowledge of the problem. Should definitely be looked into further though:"
   ]
  },
  {
   "cell_type": "code",
   "execution_count": null,
   "id": "606efab0-a47e-4daa-9b10-f83ae4a981f3",
   "metadata": {},
   "outputs": [],
   "source": [
    "\n",
    "sql = \"\"\"\n",
    "    SELECT *\n",
    "    FROM `yhcr-prd-phm-bia-core.CY_LOOKUPS.tbl_ward_boundaries`\n",
    "\"\"\"\n",
    "ward_gdf = bigquery.Client().query(sql).to_geodataframe()\n",
    "\n",
    "contains_bradford = lambda x: x.str.contains(\"Bradford\").any()\n",
    "ward_counts = (asd_data[[\"ward_code\", \"lsoa_name\"]]\n",
    "               .groupby(\"ward_code\")\n",
    "               .agg([(\"n\", \"count\"), (\"contains_bradford\", contains_bradford)])\n",
    "               .reset_index())\n",
    "ward_counts.columns = [\"ward_code\", \"n\", \"contains_bradford\"]\n",
    "ward_counts = geopandas.GeoDataFrame(\n",
    "    ward_counts.merge(ward_gdf)\n",
    ")"
   ]
  },
  {
   "cell_type": "markdown",
   "id": "fba4f9bd-b338-4237-b210-3f205698ddbc",
   "metadata": {},
   "source": [
    "### Top 20 Wards:"
   ]
  },
  {
   "cell_type": "code",
   "execution_count": null,
   "id": "670735b9-5426-490c-bf3e-7033de7c64f1",
   "metadata": {},
   "outputs": [],
   "source": [
    "ward_counts[[\"ward_name\", \"n\"]].sort_values(\"n\", ascending=False).head(20)"
   ]
  },
  {
   "cell_type": "markdown",
   "id": "5ba904f7-caab-419f-b4fc-7086b1852ec2",
   "metadata": {},
   "source": [
    "### Choropleth Map of residence:"
   ]
  },
  {
   "cell_type": "code",
   "execution_count": null,
   "id": "0fc910e5-8bee-4f46-a297-a9cc5d66ec18",
   "metadata": {},
   "outputs": [],
   "source": [
    "ward_counts = ward_counts.to_crs(epsg=3857)\n",
    "ax = ward_counts[ward_counts.contains_bradford].plot(column=\"n\",  \n",
    "                      alpha=0.5,  \n",
    "                      edgecolor=\"k\",  \n",
    "                      linewidth=2,   \n",
    "                      cmap=\"OrRd\",  \n",
    "                      figsize=(20,20))\n",
    "cx.add_basemap(ax, source=cx.providers.Stamen.TonerLite)"
   ]
  },
  {
   "cell_type": "markdown",
   "id": "3c167686-0cc4-4d96-9510-395550725ccf",
   "metadata": {},
   "source": [
    "## Next Seps - Regression analyses\n",
    "\n",
    "### Diagnosis:\n",
    "\n",
    "I can really quickly run the regression on diagnosis I've been asked for, but we need to decide on the cohort we're going to test at the moment. The most sensible suggestions I can think of are:\n",
    "\n",
    "* Individuals in the primary care data - we should think pretty carefully about setting a max age for this, as it's pretty certain the data is of dubious quality the older the individuals we look at are\n",
    "* Individuals in the education data - this sets a nice limit on the age, and we can use some of the education census data if we like (things like free school meals and special educational needs)\n",
    "\n",
    "### Age at Diagnosis:\n",
    "\n",
    "I can run this quickly with the existing cohort, but I'd want to set some age limits to avoid the probably naff data on folk being diagnosed at the older ages. Let me know what would be sensible here and I'll get on with it.\n",
    "\n",
    "## Other questions:\n",
    "\n",
    "Most of the discussion around pathways and interactions with other services are going to be very difficult without guidance from somebody who knows exactly what information we're looking for and (most importantly) where to find it in the Connected Bradford data. Aside from Mai, who I know has been working on some basic path analysis, I can't think anyone who'd be able to provide this info. Indeed, I'm pretty sure a lot of the data won't even exist based on some of the conversations we've been having with Diane Daley, and with the state of the secondary use data that we already have.\n",
    "\n",
    "Questions around interactions with other conditions might be more doable, but only if we can reasonably expect the conditions to be coded for in the primary care data i.e. the issues mentioned above with the secondary use services will make looking for data from other services very difficult (CAHMS and the like). I can pretty quickly check for anything of interest, so we can at least get a quick answer on what's possible in this domain. "
   ]
  }
 ],
 "metadata": {
  "environment": {
   "kernel": "conda-env-profileEnv-py",
   "name": "r-cpu.4-2.m110",
   "type": "gcloud",
   "uri": "gcr.io/deeplearning-platform-release/r-cpu.4-2:m110"
  },
  "kernelspec": {
   "display_name": "Python [conda env:profileEnv]",
   "language": "python",
   "name": "conda-env-profileEnv-py"
  },
  "language_info": {
   "codemirror_mode": {
    "name": "ipython",
    "version": 3
   },
   "file_extension": ".py",
   "mimetype": "text/x-python",
   "name": "python",
   "nbconvert_exporter": "python",
   "pygments_lexer": "ipython3",
   "version": "3.10.6"
  }
 },
 "nbformat": 4,
 "nbformat_minor": 5
}
