{
 "cells": [
  {
   "cell_type": "markdown",
   "id": "d3be96fc-8a89-4114-9f46-3fd9dcfc89e1",
   "metadata": {},
   "source": [
    "## To Do\n",
    "\n",
    "* IMD - get from postcode linkage?\n",
    "* Do an education table 1 with some nice educationey variables\n",
    "* ?? have a look at datasets table from protocol paper and re-imagine ??\n"
   ]
  },
  {
   "cell_type": "code",
   "execution_count": null,
   "id": "fa9b64d2-3e06-4cd1-8a54-c29cfd56d702",
   "metadata": {},
   "outputs": [],
   "source": [
    "import os\n",
    "import pandas as pd\n",
    "from tableone import TableOne"
   ]
  },
  {
   "cell_type": "code",
   "execution_count": null,
   "id": "b4ea820f-91db-4a96-80ae-f8286c7e0185",
   "metadata": {},
   "outputs": [],
   "source": [
    "def get_condition_df(code_list_dir):\n",
    "    # generate table of ids and conditions\n",
    "    person_table = f\"`yhcr-prd-phm-bia-core.CY_FDM_PrimaryCare_v4.person`\"\n",
    "    output = pd.read_gbq(f\"SELECT person_id FROM {person_table}\")\n",
    "    srcode_table = f\"`yhcr-prd-phm-bia-core.CY_FDM_PrimaryCare_v4.tbl_SRCode`\"\n",
    "    for filename in os.listdir(code_list_dir):\n",
    "        \n",
    "        if filename[-4:] != \".csv\":\n",
    "            continue\n",
    "        condition_name = filename[:-4]\n",
    "            \n",
    "        print(f\"Getting {condition_name}\")\n",
    "        condition_df = pd.read_csv(\"condition_codes/\" + filename)\n",
    "        code_list = \", \".join([f'\"{code}\"' for code in condition_df.iloc[:,0]])\n",
    "        \n",
    "        if condition_df.iloc[:,0].dtype == \"int\":\n",
    "            code_type = \"src_snomedcode\"\n",
    "        else:\n",
    "            code_type = \"src_ctv3code\"\n",
    "            \n",
    "        sql_query = f\"\"\"\n",
    "            SELECT person_id, \n",
    "            FROM {srcode_table}\n",
    "            WHERE {code_type} IN ({code_list})\n",
    "            GROUP BY person_id\n",
    "        \"\"\"\n",
    "        bq_result_df = pd.read_gbq(sql_query)\n",
    "        bq_result_df[condition_name] = True\n",
    "        output = output.merge(bq_result_df, on=\"person_id\", how=\"outer\").fillna(False)\n",
    "    return output\n",
    "\n",
    "\n",
    "def get_cohort_profile_data(dataset_id):\n",
    "    # generate sql query to collect relevant person-level data\n",
    "    age = \"FLOOR(DATE_DIFF(obs.observation_period_end_date, demo.DOB_formatted, DAY) / 365.25) AS age\"\n",
    "    ethnic_group_regex = \"REGEXP_EXTRACT(demo.census_ethnicity, r'^(.+?):')\"\n",
    "    ethnic_group = f\"\"\"\n",
    "        CASE\n",
    "            WHEN {ethnic_group_regex} IS NOT NULL THEN {ethnic_group_regex}\n",
    "            ELSE \"Unknown\"\n",
    "        END AS ethnic_group\n",
    "    \"\"\"\n",
    "    sex = \"\"\"\n",
    "        CASE\n",
    "            WHEN demo.remapped_gender = 45766034 THEN \"Male\"\n",
    "            WHEN demo.remapped_gender = 45766035 THEN \"Female\"\n",
    "            ELSE \"Unknown\"\n",
    "        END AS sex\n",
    "    \"\"\"\n",
    "    PROJECT = \"yhcr-prd-phm-bia-core\"\n",
    "    person_table = f\"{PROJECT}.{dataset_id}.person\"\n",
    "    demographics_table = f\"{PROJECT}.CY_STAGING_DATABASE.src_DemoGraphics_MASTER\"\n",
    "    obs_period_table = f\"{PROJECT}.{dataset_id}.observation_period\"\n",
    "    table_one_data_sql = f\"\"\"\n",
    "        SELECT obs.person_id, {age}, {ethnic_group}, {sex},  \n",
    "            demo.LSOA as LSOA_code, lsoas.lat_long, lsoas.LSOA_name, wards.ward_name, \n",
    "            wards.ward_code\n",
    "        FROM `{obs_period_table}` obs\n",
    "        LEFT OUTER JOIN `{demographics_table}` demo\n",
    "        ON obs.person_id = demo.person_id\n",
    "        LEFT OUTER JOIN `{PROJECT}.CY_LOOKUPS.tbl_lsoa_boundaries` lsoas\n",
    "        ON lsoas.LSOA_code = demo.LSOA\n",
    "        LEFT OUTER JOIN `{PROJECT}.CY_LOOKUPS.tbl_lsoa_to_ward` wards\n",
    "        ON wards.LSOA_code = demo.LSOA\n",
    "    \"\"\"\n",
    "    \n",
    "    # download data\n",
    "    print(\"Downloading data from GCP\")\n",
    "    df = pd.read_gbq(table_one_data_sql)\n",
    "    \n",
    "    # create boolean value for bradford LSOAs\n",
    "    df[\"is_bradford\"] = df.LSOA_name.str.contains(\"Bradford\").fillna(False)\n",
    "    \n",
    "    # add conditions from codes\n",
    "    condition_df = get_condition_df(\"/home/jupyter/c_brad_profile/condition_codes\")\n",
    "    df = df.merge(condition_df, on=\"person_id\", how=\"left\")\n",
    "    \n",
    "    return df\n",
    "\n",
    "\n",
    "def get_table_one(data):\n",
    "    \n",
    "    condition_cols = list(data.columns[10:])\n",
    "    columns = [\"age\", \"ethnic_group\", \"sex\", \"ward_name\"] + condition_cols\n",
    "    categorical = [\"ethnic_group\", \"sex\", \"ward_name\"] + condition_cols\n",
    "    print(\"Building Table 1\")\n",
    "    rest_of_country_wards = ~data.is_bradford & ~data.ward_name.isna()\n",
    "    data.loc[rest_of_country_wards, [\"ward_name\"]] = \"Rest of the Country\"\n",
    "    data.loc[data.ethnic_group == \"Unknowm\", [\"ethnic_group\"]] = None\n",
    "    table_1 = TableOne(data, columns, categorical)\n",
    "    return table_1"
   ]
  },
  {
   "cell_type": "code",
   "execution_count": null,
   "id": "0057d517-7fe4-4295-9880-63b6e4275a9f",
   "metadata": {},
   "outputs": [],
   "source": [
    "cohort_data = get_cohort_profile_data(\"CY_FDM_PrimaryCare_v4\")\n",
    "get_table_one(cohort_data)"
   ]
  },
  {
   "cell_type": "code",
   "execution_count": null,
   "id": "a6919e6e-4cbc-4229-bc1a-2048c5ebd123",
   "metadata": {},
   "outputs": [],
   "source": [
    "from google.cloud import bigquery\n",
    "import geopandas\n",
    "\n",
    "sql = \"\"\"\n",
    "    SELECT *\n",
    "    FROM `yhcr-prd-phm-bia-core.CY_LOOKUPS.tbl_ward_boundaries`\n",
    "\"\"\"\n",
    "ward_gdf = bigquery.Client().query(sql).to_geodataframe()\n"
   ]
  },
  {
   "cell_type": "code",
   "execution_count": null,
   "id": "cc2a79a9-7459-4757-bc79-64d45c2b79a0",
   "metadata": {},
   "outputs": [],
   "source": [
    "ward_gdf.info()"
   ]
  },
  {
   "cell_type": "code",
   "execution_count": null,
   "id": "59a3e5c1-1dcd-4daa-98f4-20631a633938",
   "metadata": {},
   "outputs": [],
   "source": [
    "contains_bradford = lambda x: x.str.contains(\"Bradford\").any()\n",
    "ward_counts = (cohort_data[[\"ward_code\", \"LSOA_name\"]]\n",
    "               .groupby(\"ward_code\")\n",
    "               .agg([(\"n\", \"count\"), (\"contains_bradford\", contains_bradford)])\n",
    "               .reset_index())\n",
    "ward_counts.columns = [\"ward_code\", \"n\", \"contains_bradford\"]\n",
    "ward_counts = geopandas.GeoDataFrame(\n",
    "    ward_counts.merge(ward_gdf)\n",
    ")"
   ]
  },
  {
   "cell_type": "code",
   "execution_count": null,
   "id": "08b2a9aa-1b02-48be-ab30-8c4836fff273",
   "metadata": {},
   "outputs": [],
   "source": [
    "ward_counts.info()"
   ]
  },
  {
   "cell_type": "code",
   "execution_count": null,
   "id": "14c7cb20-6ad7-4966-bb5e-5717ad754682",
   "metadata": {},
   "outputs": [],
   "source": [
    "import contextily as cx\n",
    "\n",
    "ward_counts = ward_counts.to_crs(epsg=3857)\n",
    "\n",
    "ax = ward_counts[ward_counts.contains_bradford].plot(column=\"n\",  \n",
    "                      alpha=0.5,  \n",
    "                      edgecolor=\"k\",  \n",
    "                      linewidth=2,   \n",
    "                      cmap=\"OrRd\",  \n",
    "                      figsize=(20,20))\n",
    "cx.add_basemap(ax, source=cx.providers.Stamen.TonerLite)\n",
    "ax.set_axis_off()"
   ]
  },
  {
   "cell_type": "code",
   "execution_count": null,
   "id": "445066af-4fab-4eab-aa59-66553aba71a4",
   "metadata": {},
   "outputs": [],
   "source": []
  }
 ],
 "metadata": {
  "environment": {
   "kernel": "conda-env-profileEnv-py",
   "name": "r-cpu.4-2.m110",
   "type": "gcloud",
   "uri": "gcr.io/deeplearning-platform-release/r-cpu.4-2:m110"
  },
  "kernelspec": {
   "display_name": "Python [conda env:profileEnv]",
   "language": "python",
   "name": "conda-env-profileEnv-py"
  },
  "language_info": {
   "codemirror_mode": {
    "name": "ipython",
    "version": 3
   },
   "file_extension": ".py",
   "mimetype": "text/x-python",
   "name": "python",
   "nbconvert_exporter": "python",
   "pygments_lexer": "ipython3",
   "version": "3.10.9"
  }
 },
 "nbformat": 4,
 "nbformat_minor": 5
}
